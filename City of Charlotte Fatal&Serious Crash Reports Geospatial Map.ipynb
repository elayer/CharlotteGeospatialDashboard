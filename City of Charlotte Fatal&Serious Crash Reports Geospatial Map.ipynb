{
 "cells": [
  {
   "cell_type": "markdown",
   "metadata": {},
   "source": [
    "## City of Charlotte Traffic Accident Geospatial Mapping\n",
    "In this analysis project, I wish to plot geospatial coordinates of all serious traffic accidents from the City of Charlotte. I will also add parameters to plot points based on certain dates.\n",
    "\n",
    "Being a Charlotte resident, I know a particular location which seems to average one accident every month or so. It will be interesting to see what we find.\n",
    "\n",
    "resources: \n",
    "\n",
    "* https://plotly.com/python/scattermapbox/#mapbox-access-token-and-base-map-configuration\n",
    "\n",
    "* https://www.mapbox.com/"
   ]
  },
  {
   "cell_type": "code",
   "execution_count": 46,
   "metadata": {},
   "outputs": [],
   "source": [
    "import numpy as np\n",
    "import pandas as pd\n",
    "import matplotlib.pyplot as plt\n",
    "import seaborn as sns\n",
    "sns.set()\n",
    "from datetime import datetime\n",
    "\n",
    "import geopandas as gpd\n",
    "\n",
    "from bokeh.io import output_file, show, output_notebook\n",
    "from bokeh.models import ColumnDataSource, GMapOptions\n",
    "from bokeh.plotting import gmap\n",
    "import googlemaps\n",
    "\n",
    "import plotly.express as px\n",
    "import plotly.graph_objects as go\n"
   ]
  },
  {
   "cell_type": "code",
   "execution_count": 31,
   "metadata": {},
   "outputs": [],
   "source": [
    "px.set_mapbox_access_token(open(\"mapbox_access_token.txt\").read())"
   ]
  },
  {
   "cell_type": "code",
   "execution_count": 56,
   "metadata": {},
   "outputs": [],
   "source": [
    "clt_df = pd.read_csv(\"Fatal_or_Serious_Injury_Crashes.csv\")"
   ]
  },
  {
   "cell_type": "code",
   "execution_count": 57,
   "metadata": {},
   "outputs": [
    {
     "data": {
      "text/html": [
       "<div>\n",
       "<style scoped>\n",
       "    .dataframe tbody tr th:only-of-type {\n",
       "        vertical-align: middle;\n",
       "    }\n",
       "\n",
       "    .dataframe tbody tr th {\n",
       "        vertical-align: top;\n",
       "    }\n",
       "\n",
       "    .dataframe thead th {\n",
       "        text-align: right;\n",
       "    }\n",
       "</style>\n",
       "<table border=\"1\" class=\"dataframe\">\n",
       "  <thead>\n",
       "    <tr style=\"text-align: right;\">\n",
       "      <th></th>\n",
       "      <th>X</th>\n",
       "      <th>Y</th>\n",
       "      <th>OBJECTID</th>\n",
       "      <th>CRSH_ID</th>\n",
       "      <th>DATE_VAL_Y</th>\n",
       "      <th>DATE_VAL_M</th>\n",
       "      <th>DATE_VAL_1</th>\n",
       "      <th>DATE_VAL_D</th>\n",
       "      <th>DAY_OF_WEE</th>\n",
       "      <th>DAY_OF_W_1</th>\n",
       "      <th>...</th>\n",
       "      <th>CRSH_TYPE_</th>\n",
       "      <th>CRASH_TYPE</th>\n",
       "      <th>CRSH_LEVL</th>\n",
       "      <th>PRIMARY_CA</th>\n",
       "      <th>PRIMARY__1</th>\n",
       "      <th>SECONDARY_</th>\n",
       "      <th>SECONDARY1</th>\n",
       "      <th>LATITUDE</th>\n",
       "      <th>LONGITUDE</th>\n",
       "      <th>StreetID</th>\n",
       "    </tr>\n",
       "  </thead>\n",
       "  <tbody>\n",
       "    <tr>\n",
       "      <th>0</th>\n",
       "      <td>1.425599e+06</td>\n",
       "      <td>519765.187106</td>\n",
       "      <td>3745</td>\n",
       "      <td>767965</td>\n",
       "      <td>2016</td>\n",
       "      <td>6</td>\n",
       "      <td>June</td>\n",
       "      <td>9</td>\n",
       "      <td>5</td>\n",
       "      <td>Thursday</td>\n",
       "      <td>...</td>\n",
       "      <td>14</td>\n",
       "      <td>Pedestrian</td>\n",
       "      <td>2</td>\n",
       "      <td>26</td>\n",
       "      <td>Operated vehicle in erratic, reckless, careles...</td>\n",
       "      <td>0</td>\n",
       "      <td></td>\n",
       "      <td>35.162879</td>\n",
       "      <td>-80.922041</td>\n",
       "      <td>NaN</td>\n",
       "    </tr>\n",
       "    <tr>\n",
       "      <th>1</th>\n",
       "      <td>1.467687e+06</td>\n",
       "      <td>477272.897731</td>\n",
       "      <td>3746</td>\n",
       "      <td>945507</td>\n",
       "      <td>2019</td>\n",
       "      <td>4</td>\n",
       "      <td>April</td>\n",
       "      <td>25</td>\n",
       "      <td>5</td>\n",
       "      <td>Thursday</td>\n",
       "      <td>...</td>\n",
       "      <td>23</td>\n",
       "      <td>Left turn, same roadway</td>\n",
       "      <td>2</td>\n",
       "      <td>19</td>\n",
       "      <td>Failed to yield right of way</td>\n",
       "      <td>0</td>\n",
       "      <td></td>\n",
       "      <td>35.048298</td>\n",
       "      <td>-80.778692</td>\n",
       "      <td>NaN</td>\n",
       "    </tr>\n",
       "    <tr>\n",
       "      <th>2</th>\n",
       "      <td>1.418835e+06</td>\n",
       "      <td>541631.050231</td>\n",
       "      <td>3747</td>\n",
       "      <td>766801</td>\n",
       "      <td>2016</td>\n",
       "      <td>3</td>\n",
       "      <td>March</td>\n",
       "      <td>22</td>\n",
       "      <td>3</td>\n",
       "      <td>Tuesday</td>\n",
       "      <td>...</td>\n",
       "      <td>30</td>\n",
       "      <td>Angle</td>\n",
       "      <td>2</td>\n",
       "      <td>20</td>\n",
       "      <td>Inattention</td>\n",
       "      <td>0</td>\n",
       "      <td></td>\n",
       "      <td>35.222586</td>\n",
       "      <td>-80.946103</td>\n",
       "      <td>NaN</td>\n",
       "    </tr>\n",
       "    <tr>\n",
       "      <th>3</th>\n",
       "      <td>1.476559e+06</td>\n",
       "      <td>539516.628356</td>\n",
       "      <td>3748</td>\n",
       "      <td>1033858</td>\n",
       "      <td>2020</td>\n",
       "      <td>7</td>\n",
       "      <td>July</td>\n",
       "      <td>17</td>\n",
       "      <td>6</td>\n",
       "      <td>Friday</td>\n",
       "      <td>...</td>\n",
       "      <td>2</td>\n",
       "      <td>Ran off road left</td>\n",
       "      <td>2</td>\n",
       "      <td>0</td>\n",
       "      <td>No contributing circumstance indicated</td>\n",
       "      <td>0</td>\n",
       "      <td></td>\n",
       "      <td>35.219732</td>\n",
       "      <td>-80.752722</td>\n",
       "      <td>NaN</td>\n",
       "    </tr>\n",
       "    <tr>\n",
       "      <th>4</th>\n",
       "      <td>1.421123e+06</td>\n",
       "      <td>561005.398356</td>\n",
       "      <td>3749</td>\n",
       "      <td>902046</td>\n",
       "      <td>2018</td>\n",
       "      <td>7</td>\n",
       "      <td>July</td>\n",
       "      <td>14</td>\n",
       "      <td>7</td>\n",
       "      <td>Saturday</td>\n",
       "      <td>...</td>\n",
       "      <td>15</td>\n",
       "      <td>Pedalcyclist</td>\n",
       "      <td>1</td>\n",
       "      <td>0</td>\n",
       "      <td></td>\n",
       "      <td>0</td>\n",
       "      <td></td>\n",
       "      <td>35.275933</td>\n",
       "      <td>-80.939708</td>\n",
       "      <td>NaN</td>\n",
       "    </tr>\n",
       "    <tr>\n",
       "      <th>...</th>\n",
       "      <td>...</td>\n",
       "      <td>...</td>\n",
       "      <td>...</td>\n",
       "      <td>...</td>\n",
       "      <td>...</td>\n",
       "      <td>...</td>\n",
       "      <td>...</td>\n",
       "      <td>...</td>\n",
       "      <td>...</td>\n",
       "      <td>...</td>\n",
       "      <td>...</td>\n",
       "      <td>...</td>\n",
       "      <td>...</td>\n",
       "      <td>...</td>\n",
       "      <td>...</td>\n",
       "      <td>...</td>\n",
       "      <td>...</td>\n",
       "      <td>...</td>\n",
       "      <td>...</td>\n",
       "      <td>...</td>\n",
       "      <td>...</td>\n",
       "    </tr>\n",
       "    <tr>\n",
       "      <th>770</th>\n",
       "      <td>1.437238e+06</td>\n",
       "      <td>531350.864606</td>\n",
       "      <td>4515</td>\n",
       "      <td>755564</td>\n",
       "      <td>2016</td>\n",
       "      <td>3</td>\n",
       "      <td>March</td>\n",
       "      <td>18</td>\n",
       "      <td>6</td>\n",
       "      <td>Friday</td>\n",
       "      <td>...</td>\n",
       "      <td>28</td>\n",
       "      <td>Sideswipe, same direction</td>\n",
       "      <td>2</td>\n",
       "      <td>33</td>\n",
       "      <td>Unable to determine</td>\n",
       "      <td>0</td>\n",
       "      <td></td>\n",
       "      <td>35.195320</td>\n",
       "      <td>-80.883840</td>\n",
       "      <td>NaN</td>\n",
       "    </tr>\n",
       "    <tr>\n",
       "      <th>771</th>\n",
       "      <td>1.473839e+06</td>\n",
       "      <td>565156.435856</td>\n",
       "      <td>4516</td>\n",
       "      <td>991963</td>\n",
       "      <td>2019</td>\n",
       "      <td>12</td>\n",
       "      <td>December</td>\n",
       "      <td>22</td>\n",
       "      <td>1</td>\n",
       "      <td>Sunday</td>\n",
       "      <td>...</td>\n",
       "      <td>28</td>\n",
       "      <td>Sideswipe, same direction</td>\n",
       "      <td>2</td>\n",
       "      <td>34</td>\n",
       "      <td>Unknown</td>\n",
       "      <td>0</td>\n",
       "      <td></td>\n",
       "      <td>35.290038</td>\n",
       "      <td>-80.763353</td>\n",
       "      <td>NaN</td>\n",
       "    </tr>\n",
       "    <tr>\n",
       "      <th>772</th>\n",
       "      <td>1.468237e+06</td>\n",
       "      <td>549164.527731</td>\n",
       "      <td>4517</td>\n",
       "      <td>1012202</td>\n",
       "      <td>2020</td>\n",
       "      <td>4</td>\n",
       "      <td>April</td>\n",
       "      <td>3</td>\n",
       "      <td>6</td>\n",
       "      <td>Friday</td>\n",
       "      <td>...</td>\n",
       "      <td>2</td>\n",
       "      <td>Ran off road left</td>\n",
       "      <td>2</td>\n",
       "      <td>0</td>\n",
       "      <td>No contributing circumstance indicated</td>\n",
       "      <td>0</td>\n",
       "      <td></td>\n",
       "      <td>35.245830</td>\n",
       "      <td>-80.781164</td>\n",
       "      <td>NaN</td>\n",
       "    </tr>\n",
       "    <tr>\n",
       "      <th>773</th>\n",
       "      <td>1.461290e+06</td>\n",
       "      <td>569403.608981</td>\n",
       "      <td>4518</td>\n",
       "      <td>998949</td>\n",
       "      <td>2020</td>\n",
       "      <td>1</td>\n",
       "      <td>January</td>\n",
       "      <td>25</td>\n",
       "      <td>7</td>\n",
       "      <td>Saturday</td>\n",
       "      <td>...</td>\n",
       "      <td>2</td>\n",
       "      <td>Ran off road left</td>\n",
       "      <td>2</td>\n",
       "      <td>6</td>\n",
       "      <td>Exceeded authorized speed limit</td>\n",
       "      <td>0</td>\n",
       "      <td></td>\n",
       "      <td>35.301086</td>\n",
       "      <td>-80.805660</td>\n",
       "      <td>NaN</td>\n",
       "    </tr>\n",
       "    <tr>\n",
       "      <th>774</th>\n",
       "      <td>1.434554e+06</td>\n",
       "      <td>549797.206481</td>\n",
       "      <td>4519</td>\n",
       "      <td>832516</td>\n",
       "      <td>2017</td>\n",
       "      <td>7</td>\n",
       "      <td>July</td>\n",
       "      <td>3</td>\n",
       "      <td>2</td>\n",
       "      <td>Monday</td>\n",
       "      <td>...</td>\n",
       "      <td>14</td>\n",
       "      <td>Pedestrian</td>\n",
       "      <td>1</td>\n",
       "      <td>0</td>\n",
       "      <td>No contributing circumstance indicated</td>\n",
       "      <td>0</td>\n",
       "      <td></td>\n",
       "      <td>35.245855</td>\n",
       "      <td>-80.894001</td>\n",
       "      <td>NaN</td>\n",
       "    </tr>\n",
       "  </tbody>\n",
       "</table>\n",
       "<p>775 rows × 22 columns</p>\n",
       "</div>"
      ],
      "text/plain": [
       "                X              Y  OBJECTID  CRSH_ID  DATE_VAL_Y  DATE_VAL_M  \\\n",
       "0    1.425599e+06  519765.187106      3745   767965        2016           6   \n",
       "1    1.467687e+06  477272.897731      3746   945507        2019           4   \n",
       "2    1.418835e+06  541631.050231      3747   766801        2016           3   \n",
       "3    1.476559e+06  539516.628356      3748  1033858        2020           7   \n",
       "4    1.421123e+06  561005.398356      3749   902046        2018           7   \n",
       "..            ...            ...       ...      ...         ...         ...   \n",
       "770  1.437238e+06  531350.864606      4515   755564        2016           3   \n",
       "771  1.473839e+06  565156.435856      4516   991963        2019          12   \n",
       "772  1.468237e+06  549164.527731      4517  1012202        2020           4   \n",
       "773  1.461290e+06  569403.608981      4518   998949        2020           1   \n",
       "774  1.434554e+06  549797.206481      4519   832516        2017           7   \n",
       "\n",
       "    DATE_VAL_1  DATE_VAL_D  DAY_OF_WEE DAY_OF_W_1  ...  CRSH_TYPE_  \\\n",
       "0         June           9           5   Thursday  ...          14   \n",
       "1        April          25           5   Thursday  ...          23   \n",
       "2        March          22           3    Tuesday  ...          30   \n",
       "3         July          17           6     Friday  ...           2   \n",
       "4         July          14           7   Saturday  ...          15   \n",
       "..         ...         ...         ...        ...  ...         ...   \n",
       "770      March          18           6     Friday  ...          28   \n",
       "771   December          22           1     Sunday  ...          28   \n",
       "772      April           3           6     Friday  ...           2   \n",
       "773    January          25           7   Saturday  ...           2   \n",
       "774       July           3           2     Monday  ...          14   \n",
       "\n",
       "                    CRASH_TYPE  CRSH_LEVL PRIMARY_CA  \\\n",
       "0                   Pedestrian          2         26   \n",
       "1      Left turn, same roadway          2         19   \n",
       "2                        Angle          2         20   \n",
       "3            Ran off road left          2          0   \n",
       "4                 Pedalcyclist          1          0   \n",
       "..                         ...        ...        ...   \n",
       "770  Sideswipe, same direction          2         33   \n",
       "771  Sideswipe, same direction          2         34   \n",
       "772          Ran off road left          2          0   \n",
       "773          Ran off road left          2          6   \n",
       "774                 Pedestrian          1          0   \n",
       "\n",
       "                                            PRIMARY__1  SECONDARY_ SECONDARY1  \\\n",
       "0    Operated vehicle in erratic, reckless, careles...           0              \n",
       "1                         Failed to yield right of way           0              \n",
       "2                                          Inattention           0              \n",
       "3               No contributing circumstance indicated           0              \n",
       "4                                                                0              \n",
       "..                                                 ...         ...        ...   \n",
       "770                                Unable to determine           0              \n",
       "771                                            Unknown           0              \n",
       "772             No contributing circumstance indicated           0              \n",
       "773                    Exceeded authorized speed limit           0              \n",
       "774             No contributing circumstance indicated           0              \n",
       "\n",
       "      LATITUDE  LONGITUDE  StreetID  \n",
       "0    35.162879 -80.922041       NaN  \n",
       "1    35.048298 -80.778692       NaN  \n",
       "2    35.222586 -80.946103       NaN  \n",
       "3    35.219732 -80.752722       NaN  \n",
       "4    35.275933 -80.939708       NaN  \n",
       "..         ...        ...       ...  \n",
       "770  35.195320 -80.883840       NaN  \n",
       "771  35.290038 -80.763353       NaN  \n",
       "772  35.245830 -80.781164       NaN  \n",
       "773  35.301086 -80.805660       NaN  \n",
       "774  35.245855 -80.894001       NaN  \n",
       "\n",
       "[775 rows x 22 columns]"
      ]
     },
     "execution_count": 57,
     "metadata": {},
     "output_type": "execute_result"
    }
   ],
   "source": [
    "clt_df"
   ]
  },
  {
   "cell_type": "code",
   "execution_count": 58,
   "metadata": {},
   "outputs": [
    {
     "data": {
      "text/html": [
       "<div>\n",
       "<style scoped>\n",
       "    .dataframe tbody tr th:only-of-type {\n",
       "        vertical-align: middle;\n",
       "    }\n",
       "\n",
       "    .dataframe tbody tr th {\n",
       "        vertical-align: top;\n",
       "    }\n",
       "\n",
       "    .dataframe thead th {\n",
       "        text-align: right;\n",
       "    }\n",
       "</style>\n",
       "<table border=\"1\" class=\"dataframe\">\n",
       "  <thead>\n",
       "    <tr style=\"text-align: right;\">\n",
       "      <th></th>\n",
       "      <th>X</th>\n",
       "      <th>Y</th>\n",
       "      <th>OBJECTID</th>\n",
       "      <th>CRSH_ID</th>\n",
       "      <th>DATE_VAL_Y</th>\n",
       "      <th>DATE_VAL_M</th>\n",
       "      <th>DATE_VAL_D</th>\n",
       "      <th>DAY_OF_WEE</th>\n",
       "      <th>MILT_TIME</th>\n",
       "      <th>CASE_NUM</th>\n",
       "      <th>CRSH_TYPE_</th>\n",
       "      <th>CRSH_LEVL</th>\n",
       "      <th>PRIMARY_CA</th>\n",
       "      <th>SECONDARY_</th>\n",
       "      <th>LATITUDE</th>\n",
       "      <th>LONGITUDE</th>\n",
       "      <th>StreetID</th>\n",
       "    </tr>\n",
       "  </thead>\n",
       "  <tbody>\n",
       "    <tr>\n",
       "      <th>count</th>\n",
       "      <td>7.750000e+02</td>\n",
       "      <td>775.000000</td>\n",
       "      <td>775.00000</td>\n",
       "      <td>7.750000e+02</td>\n",
       "      <td>775.000000</td>\n",
       "      <td>775.000000</td>\n",
       "      <td>775.000000</td>\n",
       "      <td>775.000000</td>\n",
       "      <td>775.000000</td>\n",
       "      <td>7.750000e+02</td>\n",
       "      <td>775.000000</td>\n",
       "      <td>775.000000</td>\n",
       "      <td>775.000000</td>\n",
       "      <td>775.000000</td>\n",
       "      <td>775.000000</td>\n",
       "      <td>775.000000</td>\n",
       "      <td>0.0</td>\n",
       "    </tr>\n",
       "    <tr>\n",
       "      <th>mean</th>\n",
       "      <td>1.453085e+06</td>\n",
       "      <td>541944.761706</td>\n",
       "      <td>4132.00000</td>\n",
       "      <td>9.019423e+05</td>\n",
       "      <td>2017.965161</td>\n",
       "      <td>6.348387</td>\n",
       "      <td>15.402581</td>\n",
       "      <td>4.224516</td>\n",
       "      <td>1327.443871</td>\n",
       "      <td>2.018146e+13</td>\n",
       "      <td>16.069677</td>\n",
       "      <td>1.554839</td>\n",
       "      <td>11.798710</td>\n",
       "      <td>0.005161</td>\n",
       "      <td>35.225213</td>\n",
       "      <td>-80.831448</td>\n",
       "      <td>NaN</td>\n",
       "    </tr>\n",
       "    <tr>\n",
       "      <th>std</th>\n",
       "      <td>2.279009e+04</td>\n",
       "      <td>22387.482279</td>\n",
       "      <td>223.86752</td>\n",
       "      <td>9.644996e+04</td>\n",
       "      <td>1.443178</td>\n",
       "      <td>3.364570</td>\n",
       "      <td>8.821690</td>\n",
       "      <td>2.102949</td>\n",
       "      <td>715.770595</td>\n",
       "      <td>3.477177e+10</td>\n",
       "      <td>10.082235</td>\n",
       "      <td>0.497305</td>\n",
       "      <td>11.216947</td>\n",
       "      <td>0.143684</td>\n",
       "      <td>0.061661</td>\n",
       "      <td>0.076138</td>\n",
       "      <td>NaN</td>\n",
       "    </tr>\n",
       "    <tr>\n",
       "      <th>min</th>\n",
       "      <td>1.399609e+06</td>\n",
       "      <td>472086.588981</td>\n",
       "      <td>3745.00000</td>\n",
       "      <td>7.420140e+05</td>\n",
       "      <td>2016.000000</td>\n",
       "      <td>1.000000</td>\n",
       "      <td>1.000000</td>\n",
       "      <td>1.000000</td>\n",
       "      <td>1.000000</td>\n",
       "      <td>2.015011e+13</td>\n",
       "      <td>1.000000</td>\n",
       "      <td>1.000000</td>\n",
       "      <td>0.000000</td>\n",
       "      <td>0.000000</td>\n",
       "      <td>35.033647</td>\n",
       "      <td>-81.007454</td>\n",
       "      <td>NaN</td>\n",
       "    </tr>\n",
       "    <tr>\n",
       "      <th>25%</th>\n",
       "      <td>1.435193e+06</td>\n",
       "      <td>529073.519606</td>\n",
       "      <td>3938.50000</td>\n",
       "      <td>8.172095e+05</td>\n",
       "      <td>2017.000000</td>\n",
       "      <td>3.000000</td>\n",
       "      <td>7.000000</td>\n",
       "      <td>2.000000</td>\n",
       "      <td>720.000000</td>\n",
       "      <td>2.017022e+13</td>\n",
       "      <td>13.000000</td>\n",
       "      <td>1.000000</td>\n",
       "      <td>0.000000</td>\n",
       "      <td>0.000000</td>\n",
       "      <td>35.189870</td>\n",
       "      <td>-80.891344</td>\n",
       "      <td>NaN</td>\n",
       "    </tr>\n",
       "    <tr>\n",
       "      <th>50%</th>\n",
       "      <td>1.452398e+06</td>\n",
       "      <td>543984.932106</td>\n",
       "      <td>4132.00000</td>\n",
       "      <td>8.942030e+05</td>\n",
       "      <td>2018.000000</td>\n",
       "      <td>6.000000</td>\n",
       "      <td>16.000000</td>\n",
       "      <td>5.000000</td>\n",
       "      <td>1507.000000</td>\n",
       "      <td>2.018053e+13</td>\n",
       "      <td>14.000000</td>\n",
       "      <td>2.000000</td>\n",
       "      <td>7.000000</td>\n",
       "      <td>0.000000</td>\n",
       "      <td>35.230105</td>\n",
       "      <td>-80.833913</td>\n",
       "      <td>NaN</td>\n",
       "    </tr>\n",
       "    <tr>\n",
       "      <th>75%</th>\n",
       "      <td>1.471829e+06</td>\n",
       "      <td>556850.127419</td>\n",
       "      <td>4325.50000</td>\n",
       "      <td>9.893130e+05</td>\n",
       "      <td>2019.000000</td>\n",
       "      <td>9.000000</td>\n",
       "      <td>23.000000</td>\n",
       "      <td>6.000000</td>\n",
       "      <td>1955.500000</td>\n",
       "      <td>2.019102e+13</td>\n",
       "      <td>23.000000</td>\n",
       "      <td>2.000000</td>\n",
       "      <td>20.000000</td>\n",
       "      <td>0.000000</td>\n",
       "      <td>35.265872</td>\n",
       "      <td>-80.769464</td>\n",
       "      <td>NaN</td>\n",
       "    </tr>\n",
       "    <tr>\n",
       "      <th>max</th>\n",
       "      <td>1.506144e+06</td>\n",
       "      <td>600989.277731</td>\n",
       "      <td>4519.00000</td>\n",
       "      <td>1.076587e+06</td>\n",
       "      <td>2020.000000</td>\n",
       "      <td>12.000000</td>\n",
       "      <td>31.000000</td>\n",
       "      <td>7.000000</td>\n",
       "      <td>2358.000000</td>\n",
       "      <td>2.106071e+13</td>\n",
       "      <td>60.000000</td>\n",
       "      <td>2.000000</td>\n",
       "      <td>38.000000</td>\n",
       "      <td>4.000000</td>\n",
       "      <td>35.388232</td>\n",
       "      <td>-80.654049</td>\n",
       "      <td>NaN</td>\n",
       "    </tr>\n",
       "  </tbody>\n",
       "</table>\n",
       "</div>"
      ],
      "text/plain": [
       "                  X              Y    OBJECTID       CRSH_ID   DATE_VAL_Y  \\\n",
       "count  7.750000e+02     775.000000   775.00000  7.750000e+02   775.000000   \n",
       "mean   1.453085e+06  541944.761706  4132.00000  9.019423e+05  2017.965161   \n",
       "std    2.279009e+04   22387.482279   223.86752  9.644996e+04     1.443178   \n",
       "min    1.399609e+06  472086.588981  3745.00000  7.420140e+05  2016.000000   \n",
       "25%    1.435193e+06  529073.519606  3938.50000  8.172095e+05  2017.000000   \n",
       "50%    1.452398e+06  543984.932106  4132.00000  8.942030e+05  2018.000000   \n",
       "75%    1.471829e+06  556850.127419  4325.50000  9.893130e+05  2019.000000   \n",
       "max    1.506144e+06  600989.277731  4519.00000  1.076587e+06  2020.000000   \n",
       "\n",
       "       DATE_VAL_M  DATE_VAL_D  DAY_OF_WEE    MILT_TIME      CASE_NUM  \\\n",
       "count  775.000000  775.000000  775.000000   775.000000  7.750000e+02   \n",
       "mean     6.348387   15.402581    4.224516  1327.443871  2.018146e+13   \n",
       "std      3.364570    8.821690    2.102949   715.770595  3.477177e+10   \n",
       "min      1.000000    1.000000    1.000000     1.000000  2.015011e+13   \n",
       "25%      3.000000    7.000000    2.000000   720.000000  2.017022e+13   \n",
       "50%      6.000000   16.000000    5.000000  1507.000000  2.018053e+13   \n",
       "75%      9.000000   23.000000    6.000000  1955.500000  2.019102e+13   \n",
       "max     12.000000   31.000000    7.000000  2358.000000  2.106071e+13   \n",
       "\n",
       "       CRSH_TYPE_   CRSH_LEVL  PRIMARY_CA  SECONDARY_    LATITUDE   LONGITUDE  \\\n",
       "count  775.000000  775.000000  775.000000  775.000000  775.000000  775.000000   \n",
       "mean    16.069677    1.554839   11.798710    0.005161   35.225213  -80.831448   \n",
       "std     10.082235    0.497305   11.216947    0.143684    0.061661    0.076138   \n",
       "min      1.000000    1.000000    0.000000    0.000000   35.033647  -81.007454   \n",
       "25%     13.000000    1.000000    0.000000    0.000000   35.189870  -80.891344   \n",
       "50%     14.000000    2.000000    7.000000    0.000000   35.230105  -80.833913   \n",
       "75%     23.000000    2.000000   20.000000    0.000000   35.265872  -80.769464   \n",
       "max     60.000000    2.000000   38.000000    4.000000   35.388232  -80.654049   \n",
       "\n",
       "       StreetID  \n",
       "count       0.0  \n",
       "mean        NaN  \n",
       "std         NaN  \n",
       "min         NaN  \n",
       "25%         NaN  \n",
       "50%         NaN  \n",
       "75%         NaN  \n",
       "max         NaN  "
      ]
     },
     "execution_count": 58,
     "metadata": {},
     "output_type": "execute_result"
    }
   ],
   "source": [
    "clt_df.describe()"
   ]
  },
  {
   "cell_type": "code",
   "execution_count": 59,
   "metadata": {},
   "outputs": [
    {
     "name": "stdout",
     "output_type": "stream",
     "text": [
      "<class 'pandas.core.frame.DataFrame'>\n",
      "RangeIndex: 775 entries, 0 to 774\n",
      "Data columns (total 22 columns):\n",
      " #   Column      Non-Null Count  Dtype  \n",
      "---  ------      --------------  -----  \n",
      " 0   X           775 non-null    float64\n",
      " 1   Y           775 non-null    float64\n",
      " 2   OBJECTID    775 non-null    int64  \n",
      " 3   CRSH_ID     775 non-null    int64  \n",
      " 4   DATE_VAL_Y  775 non-null    int64  \n",
      " 5   DATE_VAL_M  775 non-null    int64  \n",
      " 6   DATE_VAL_1  775 non-null    object \n",
      " 7   DATE_VAL_D  775 non-null    int64  \n",
      " 8   DAY_OF_WEE  775 non-null    int64  \n",
      " 9   DAY_OF_W_1  775 non-null    object \n",
      " 10  MILT_TIME   775 non-null    int64  \n",
      " 11  CASE_NUM    775 non-null    int64  \n",
      " 12  CRSH_TYPE_  775 non-null    int64  \n",
      " 13  CRASH_TYPE  775 non-null    object \n",
      " 14  CRSH_LEVL   775 non-null    int64  \n",
      " 15  PRIMARY_CA  775 non-null    int64  \n",
      " 16  PRIMARY__1  775 non-null    object \n",
      " 17  SECONDARY_  775 non-null    int64  \n",
      " 18  SECONDARY1  775 non-null    object \n",
      " 19  LATITUDE    775 non-null    float64\n",
      " 20  LONGITUDE   775 non-null    float64\n",
      " 21  StreetID    0 non-null      float64\n",
      "dtypes: float64(5), int64(12), object(5)\n",
      "memory usage: 133.3+ KB\n"
     ]
    }
   ],
   "source": [
    "clt_df.info()"
   ]
  },
  {
   "cell_type": "markdown",
   "metadata": {},
   "source": [
    "We are provided the type of crash, let's get a glimpse of how many of them we have."
   ]
  },
  {
   "cell_type": "code",
   "execution_count": 60,
   "metadata": {},
   "outputs": [
    {
     "data": {
      "text/plain": [
       "Pedestrian                             207\n",
       "Ran off road right                     107\n",
       "Rear end, slow or stop                  71\n",
       "Ran off road left                       66\n",
       "Left turn, same roadway                 65\n",
       "Head on                                 46\n",
       "Angle                                   45\n",
       "Left turn, different roadways           44\n",
       "Sideswipe, same direction               28\n",
       "Pedalcyclist                            22\n",
       "Parked motor vehicle                    10\n",
       "Other non-collision*                     7\n",
       "Ran off road straight ahead              7\n",
       "Backing up                               6\n",
       "Right turn, different roadways           6\n",
       "Fixed object                             6\n",
       "Crossed centerline/median                5\n",
       "Sideswipe, opposite direction            5\n",
       "Overturn/rollover                        5\n",
       "Other collision with vehicle*            3\n",
       "Rear end, turn                           3\n",
       "Median barrier end (non-guardrail)       3\n",
       "Right turn, same roadway                 3\n",
       "Guardrail face in median                 1\n",
       "Traffic island curb or median            1\n",
       "Mailbox                                  1\n",
       "Median barrier face (non-guardrail)      1\n",
       "RR train, engine                         1\n",
       "Name: CRASH_TYPE, dtype: int64"
      ]
     },
     "execution_count": 60,
     "metadata": {},
     "output_type": "execute_result"
    }
   ],
   "source": [
    "clt_df['CRASH_TYPE'].value_counts()"
   ]
  },
  {
   "cell_type": "markdown",
   "metadata": {},
   "source": [
    "The top category is nearly doulbe that of the second highest. We can utilize geopandas to visualize where all of these accidents are happening.\n",
    "\n",
    "Next, using the below as an example from the guide on plotly's documentation, we can create a similar map for the City of Charlotte."
   ]
  },
  {
   "cell_type": "code",
   "execution_count": 61,
   "metadata": {},
   "outputs": [
    {
     "data": {
      "application/vnd.plotly.v1+json": {
       "config": {
        "plotlyServerURL": "https://plot.ly"
       },
       "data": [
        {
         "hovertemplate": "car_hours=%{marker.size}<br>centroid_lat=%{lat}<br>centroid_lon=%{lon}<br>peak_hour=%{marker.color}<extra></extra>",
         "lat": [
          45.471548505146174,
          45.54386506674422,
          45.4876395818664,
          45.52286967122903,
          45.45397130964701,
          45.57312570194822,
          45.53005389171565,
          45.49919320522112,
          45.551300651627535,
          45.55380992033989,
          45.47448282698679,
          45.53249580289159,
          45.56545642757568,
          45.50298109284952,
          45.56711856838078,
          45.480026123563874,
          45.448903185047335,
          45.50303089895005,
          45.609667861846745,
          45.478348275451104,
          45.51951352944332,
          45.56903061932889,
          45.53626021131554,
          45.56857291481607,
          45.54614539811951,
          45.54488834188077,
          45.54515565293561,
          45.47817195218011,
          45.58212955989256,
          45.531215706332375,
          45.55267826328372,
          45.52915993898732,
          45.52404418524071,
          45.50851711032711,
          45.4880586878363,
          45.50689566111847,
          45.57894266654677,
          45.46892041666329,
          45.5386616499238,
          45.58530574012526,
          45.46252493114867,
          45.50814302347108,
          45.55224218643183,
          45.53306824136229,
          45.529617524254725,
          45.56172666348032,
          45.45886520703704,
          45.51827128926588,
          45.46330588193452,
          45.45722580199571,
          45.58042126024095,
          45.51220156451264,
          45.548176804195634,
          45.52792120774532,
          45.58971117459708,
          45.53066298367023,
          45.49780367877612,
          45.53978904565592,
          45.52977286764973,
          45.57635821927521,
          45.592896967066345,
          45.54282395560971,
          45.45146052808264,
          45.50017958704209,
          45.55959836008312,
          45.51405331206955,
          45.52098513669111,
          45.51969025678738,
          45.47196677288637,
          45.4940320553664,
          45.57383095629989,
          45.47270552917877,
          45.58204625444414,
          45.4810627259832,
          45.60751580853944,
          45.50429652950133,
          45.459862270272,
          45.550869209779385,
          45.52515960693799,
          45.50743686739271,
          45.54836167081622,
          45.53036120501041,
          45.49339463589723,
          45.49643413195211,
          45.561211827035706,
          45.55537527937125,
          45.52524090241434,
          45.542945623835706,
          45.465546068371886,
          45.51646059071524,
          45.53280566796844,
          45.47963265657448,
          45.45591463685107,
          45.54630844232351,
          45.49848094816177,
          45.528525372523454,
          45.56579154043406,
          45.53765718184978,
          45.47455332862991,
          45.5279051561684,
          45.494951534596034,
          45.465088224907866,
          45.59654571636812,
          45.491523525524194,
          45.51792291961748,
          45.46777843101408,
          45.51117458455963,
          45.54915899878871,
          45.535767560039695,
          45.49044848119951,
          45.538238804018775,
          45.5277041052173,
          45.534777091929946,
          45.48934750923581,
          45.45408718820735,
          45.472649739508654,
          45.55659444198,
          45.483089972430825,
          45.49619305656642,
          45.55742769063361,
          45.49971820106133,
          45.48523078626532,
          45.45863614550253,
          45.50110763484297,
          45.50643446059914,
          45.52764608144713,
          45.48910798882796,
          45.52543292800497,
          45.60326418430284,
          45.47822467091599,
          45.56923339719061,
          45.46715978062781,
          45.543842954244646,
          45.47954227936379,
          45.47510964560248,
          45.54858377217711,
          45.54415239549018,
          45.61087892678886,
          45.481028563111394,
          45.52753294236388,
          45.50713730344406,
          45.54445300313406,
          45.53978806387313,
          45.53344000001958,
          45.46746637549487,
          45.53453717264379,
          45.53658915333014,
          45.53429759356232,
          45.52410832338415,
          45.47265626277289,
          45.50559257327809,
          45.51901074555018,
          45.52540175130616,
          45.54048050327387,
          45.48335540200465,
          45.54220224528534,
          45.519876273318,
          45.55095552442233,
          45.51670639951611,
          45.53834507417609,
          45.54348593525155,
          45.49933518159919,
          45.57484789346844,
          45.47790745068288,
          45.54237585056225,
          45.46417997825538,
          45.48897149612501,
          45.570596118677166,
          45.549545481512375,
          45.56161463008111,
          45.48012052331579,
          45.546769706786165,
          45.47728503507936,
          45.582073874173176,
          45.53903174724877,
          45.510890621674776,
          45.51923221924688,
          45.55028382655888,
          45.554677131421606,
          45.509217063208105,
          45.54493929194947,
          45.55102553790574,
          45.46427660479596,
          45.53566818785226,
          45.5222319477743,
          45.53831624591015,
          45.47689750165655,
          45.55427699436827,
          45.54393996853523,
          45.54733066622103,
          45.53172990090744,
          45.52405372692176,
          45.52567648569128,
          45.45566288220533,
          45.514928037931,
          45.52875593668882,
          45.45893633874722,
          45.52339721689325,
          45.53380644488978,
          45.51698913885445,
          45.47417720458765,
          45.52430638232658,
          45.57221159337733,
          45.53143218128847,
          45.52029302323953,
          45.5428521988577,
          45.51177396205147,
          45.476699804159765,
          45.52527451544683,
          45.52904526725249,
          45.54589006890641,
          45.54129653265394,
          45.52641793678303,
          45.506014494884326,
          45.56249120965429,
          45.518606229301774,
          45.52203370353778,
          45.52409679671165,
          45.52247779646763,
          45.53961066076051,
          45.58895991968114,
          45.54559560319731,
          45.537473700456566,
          45.57342046906779,
          45.53557355419221,
          45.50192689559106,
          45.55114485440528,
          45.53782697365083,
          45.52940323053624,
          45.55301895367002,
          45.55058908283418,
          45.49619083697144,
          45.5389132118943,
          45.535798184139765,
          45.5313114537718,
          45.52036705536745,
          45.48313978581276,
          45.55297824741078,
          45.55430120710761,
          45.57092278674684,
          45.53361097030694,
          45.52227967073674,
          45.57044282123756,
          45.48626024282493,
          45.54717058947268,
          45.546481863801525,
          45.495523127814025,
          45.52119924708915,
          45.53256430507208
         ],
         "legendgroup": "",
         "lon": [
          -73.58868408217266,
          -73.56245583980697,
          -73.64276703077329,
          -73.5956772508181,
          -73.73894559925054,
          -73.53990236454271,
          -73.62803605045727,
          -73.56194373919256,
          -73.61171191446698,
          -73.57720679008477,
          -73.63054396371925,
          -73.57956985159979,
          -73.64201176723445,
          -73.62748995674825,
          -73.58439300639695,
          -73.58239204679343,
          -73.59297686556374,
          -73.5790295367978,
          -73.54023161013792,
          -73.57856784133362,
          -73.5793289407554,
          -73.52573081459546,
          -73.56209061086564,
          -73.56084340953332,
          -73.59114755541647,
          -73.63562160484223,
          -73.6172218179539,
          -73.56778840803071,
          -73.5214125066963,
          -73.60636943656155,
          -73.60186065688765,
          -73.61182738988052,
          -73.57255202228934,
          -73.56361361279802,
          -73.62175707085048,
          -73.63992985736493,
          -73.5722622021108,
          -73.61587858172172,
          -73.65684895574016,
          -73.556671023514,
          -73.591450603879,
          -73.61443790111136,
          -73.5567248443471,
          -73.58586652140238,
          -73.59016001500189,
          -73.61316030479036,
          -73.65393428057348,
          -73.53518132112849,
          -73.63201646596775,
          -73.6471457252509,
          -73.62450277147559,
          -73.62439363857663,
          -73.57230388575367,
          -73.61477370856916,
          -73.5124596370787,
          -73.61566624177722,
          -73.64552238789666,
          -73.5647843753964,
          -73.57271916651166,
          -73.55658769397526,
          -73.56283021327646,
          -73.53978288809766,
          -73.60077524293251,
          -73.57356239315693,
          -73.53735411019554,
          -73.6328226471968,
          -73.5859649617064,
          -73.56818790168714,
          -73.645100544613,
          -73.61062703452248,
          -73.60414320228709,
          -73.60760805947412,
          -73.5329739761722,
          -73.56087334817683,
          -73.51375636627016,
          -73.56520883274013,
          -73.58285531458276,
          -73.617846092248,
          -73.6047044738415,
          -73.57429268607511,
          -73.58539717879967,
          -73.62029730985503,
          -73.62504495384513,
          -73.55267239661161,
          -73.5902004112542,
          -73.56930840912791,
          -73.59981458158266,
          -73.62128455035952,
          -73.62067736676947,
          -73.55492741665876,
          -73.64048496482262,
          -73.62987341664497,
          -73.63946019785875,
          -73.60685622581383,
          -73.61967423595867,
          -73.60153035519421,
          -73.59801021780002,
          -73.58232714569509,
          -73.637521859517,
          -73.5845589383217,
          -73.55953118048146,
          -73.65258509641737,
          -73.52593434063824,
          -73.63722045431894,
          -73.58980729398637,
          -73.63595141045859,
          -73.57114931189177,
          -73.63292319176229,
          -73.59674218487977,
          -73.64754965162766,
          -73.60597173479003,
          -73.57565350409223,
          -73.5728803879145,
          -73.57095543068031,
          -73.5871111898369,
          -73.5826189686433,
          -73.53214371066534,
          -73.63467979451553,
          -73.58337891052282,
          -73.60077343846366,
          -73.6544874970073,
          -73.61782510513464,
          -73.64348260405826,
          -73.63443884623427,
          -73.55280978474548,
          -73.59350797166334,
          -73.6314622358004,
          -73.62642522019199,
          -73.53716899543986,
          -73.6131691288042,
          -73.56970219899235,
          -73.64277864672295,
          -73.58224236729227,
          -73.54759113967883,
          -73.56317906950511,
          -73.57887887297544,
          -73.59658041602985,
          -73.53187026901544,
          -73.62384266869233,
          -73.58132388945315,
          -73.63043341873463,
          -73.54776346337367,
          -73.54278601036688,
          -73.5547199999811,
          -73.59078190259488,
          -73.59256240577943,
          -73.62157941242943,
          -73.61041764596348,
          -73.58731842223665,
          -73.62370107695057,
          -73.62277637402323,
          -73.57542843260613,
          -73.61022133725439,
          -73.63688048862373,
          -73.58250497434213,
          -73.61142929406647,
          -73.5829101943345,
          -73.59145464281357,
          -73.57855556771429,
          -73.57053862449274,
          -73.57027313720633,
          -73.62608825396849,
          -73.5635392336782,
          -73.62640937405116,
          -73.55538289355314,
          -73.62592082119164,
          -73.62783793313959,
          -73.52828137402979,
          -73.56715045890071,
          -73.57406730167698,
          -73.57250207253963,
          -73.53904284095108,
          -73.58122340486779,
          -73.54826893987729,
          -73.60093377104955,
          -73.57633721593862,
          -73.57244658989525,
          -73.60783357287939,
          -73.54632265433347,
          -73.61862500763353,
          -73.62750959017946,
          -73.56330138226609,
          -73.64748824071867,
          -73.56861361257508,
          -73.60012669507964,
          -73.57466650421921,
          -73.58830635134413,
          -73.62166601126063,
          -73.57394431922157,
          -73.60149624886525,
          -73.5764851307457,
          -73.5653588020603,
          -73.59003684764208,
          -73.64576984962405,
          -73.5716441021712,
          -73.57904510571099,
          -73.59639171903568,
          -73.60671288562885,
          -73.58376257412169,
          -73.58364027226557,
          -73.59403776813,
          -73.58198744370928,
          -73.54796924219626,
          -73.56470160854694,
          -73.59161297526235,
          -73.60552201275355,
          -73.63749469512531,
          -73.61960578900425,
          -73.5938625905676,
          -73.56435515803537,
          -73.613329142374,
          -73.58761174867594,
          -73.59653658066382,
          -73.62601031881215,
          -73.58319715388312,
          -73.59475241426874,
          -73.57113021855815,
          -73.57841797764475,
          -73.57478446870938,
          -73.62661841692122,
          -73.53758992480975,
          -73.5672399814485,
          -73.57729937169172,
          -73.6327727768197,
          -73.57917172211978,
          -73.62989603799815,
          -73.53770269990456,
          -73.61519170037559,
          -73.58716197505838,
          -73.58388794985183,
          -73.57424335824136,
          -73.62436735080055,
          -73.5792013969,
          -73.58664104188827,
          -73.58372215024325,
          -73.59761235604635,
          -73.57653648384526,
          -73.59484359129024,
          -73.56162491267922,
          -73.57715490720366,
          -73.60106645724453,
          -73.5684337774366,
          -73.52518192920604,
          -73.63860168141315,
          -73.55625786283633,
          -73.5749389146122,
          -73.62772501663683,
          -73.581789228748,
          -73.5675347056023
         ],
         "marker": {
          "color": [
           2,
           23,
           20,
           23,
           19,
           1,
           18,
           14,
           2,
           1,
           2,
           3,
           21,
           11,
           1,
           5,
           6,
           15,
           0,
           14,
           2,
           23,
           3,
           20,
           3,
           2,
           5,
           3,
           9,
           5,
           10,
           11,
           3,
           13,
           20,
           13,
           9,
           4,
           11,
           17,
           1,
           16,
           10,
           19,
           5,
           10,
           16,
           20,
           2,
           20,
           8,
           3,
           2,
           12,
           1,
           21,
           20,
           7,
           3,
           19,
           7,
           0,
           19,
           11,
           23,
           0,
           1,
           21,
           20,
           5,
           0,
           11,
           20,
           9,
           0,
           13,
           4,
           3,
           3,
           13,
           4,
           11,
           20,
           13,
           19,
           2,
           13,
           4,
           23,
           15,
           9,
           4,
           3,
           8,
           11,
           11,
           5,
           2,
           1,
           2,
           16,
           18,
           0,
           18,
           4,
           4,
           12,
           7,
           4,
           2,
           3,
           2,
           2,
           12,
           4,
           1,
           5,
           10,
           15,
           21,
           20,
           0,
           23,
           12,
           14,
           13,
           4,
           20,
           19,
           2,
           20,
           6,
           9,
           12,
           4,
           2,
           3,
           20,
           6,
           3,
           4,
           5,
           6,
           5,
           21,
           5,
           18,
           5,
           2,
           20,
           12,
           1,
           4,
           21,
           16,
           7,
           3,
           5,
           16,
           1,
           2,
           2,
           9,
           4,
           5,
           5,
           5,
           0,
           2,
           2,
           14,
           3,
           10,
           21,
           2,
           15,
           21,
           3,
           4,
           5,
           3,
           2,
           4,
           3,
           3,
           3,
           2,
           17,
           2,
           5,
           1,
           22,
           0,
           19,
           11,
           2,
           1,
           21,
           1,
           22,
           4,
           10,
           20,
           2,
           2,
           3,
           20,
           12,
           11,
           2,
           3,
           3,
           12,
           8,
           3,
           20,
           3,
           15,
           20,
           3,
           20,
           1,
           5,
           0,
           2,
           5,
           3,
           5,
           18,
           8,
           1,
           13,
           2,
           2,
           3,
           0,
           23,
           5,
           2,
           10,
           11,
           21,
           7,
           18,
           3,
           2,
           8,
           17,
           5
          ],
          "coloraxis": "coloraxis",
          "size": [
           1772.7499999995052,
           986.3333333335024,
           354.74999999998914,
           560.166666666642,
           2836.666666667356,
           1022.7500000001857,
           835.7500000001006,
           1888.3333333327332,
           1030.75000000018,
           1841.1666666661097,
           1966.166666665996,
           1532.9999999997233,
           834.1666666667666,
           289.0000000000041,
           273.58333333334093,
           594.8333333333244,
           1020.9166666668516,
           1428.4999999998183,
           670.7500000000256,
           489.4999999999585,
           1426.3333333331536,
           422.49999999997374,
           1624.7499999996398,
           732.7500000000538,
           1969.6666666659928,
           1657.9999999996096,
           665.5833333333566,
           805.08333333342,
           217.75000000000728,
           1332.583333333239,
           630.5000000000073,
           559.9999999999752,
           456.1666666666328,
           1185.8333333333724,
           1112.6666666667722,
           1016.5833333335162,
           1367.249999999874,
           1767.9999999995096,
           2291.9999999996985,
           552.8333333333053,
           1397.9166666665128,
           997.7500000001744,
           926.1666666668084,
           323.166666666663,
           833.0833333334327,
           1394.416666666516,
           601.7499999999942,
           1724.4999999995491,
           1061.5833333334854,
           325.74999999999574,
           1271.5833333332944,
           1951.0833333326764,
           961.4166666668244,
           507.83333333328767,
           679.6666666666963,
           734.833333333388,
           1057.4166666668225,
           262.8333333333434,
           1302.7499999999327,
           345.8333333333245,
           1543.3333333330472,
           630.7500000000074,
           1164.5833333333917,
           1676.9999999995923,
           1282.5833333332844,
           1019.000000000184,
           1719.1666666662206,
           681.5000000000305,
           287.66666666667106,
           1559.333333333033,
           627.4166666666725,
           1863.7499999994225,
           867.2500000001149,
           2413.4999999999195,
           1322.3333333332482,
           3274.0000000014848,
           1558.9166666663664,
           1902.416666666054,
           1609.166666666321,
           2773.250000000574,
           1940.6666666660192,
           1597.4999999996646,
           162.500000000001,
           1929.0833333326964,
           847.0000000001057,
           1522.7499999997326,
           635.3333333333428,
           2057.166666665938,
           845.9166666667719,
           2022.9166666659444,
           1598.7499999996635,
           566.8333333333117,
           1714.1666666662252,
           680.50000000003,
           1043.2500000001687,
           673.3333333333601,
           1105.750000000112,
           1382.9999999998597,
           531.4999999999623,
           635.0000000000093,
           2376.833333333186,
           462.4166666666313,
           1315.6666666665876,
           504.4166666666218,
           741.2500000000576,
           867.3333333334483,
           875.5833333334521,
           2188.1666666661763,
           1172.8333333333842,
           332.4999999999942,
           1351.749999999888,
           966.25000000016,
           981.750000000167,
           1714.3333333328917,
           813.833333333424,
           863.7500000001133,
           1202.1666666666908,
           665.0833333333563,
           2433.83333333329,
           1189.0000000000362,
           2298.583333333044,
           1414.9166666664971,
           476.4999999999615,
           766.3333333334024,
           2338.249999999782,
           1170.500000000053,
           716.0000000000462,
           1228.083333333334,
           511.8333333332868,
           1357.3333333332164,
           1144.0833333334103,
           292.5000000000033,
           1069.0833333334783,
           1552.333333333039,
           1029.9166666668475,
           2752.83333333387,
           2077.1666666659744,
           1167.8333333333887,
           658.2500000000199,
           741.7500000000579,
           520.4166666666239,
           2127.4999999993997,
           1093.2500000001232,
           1590.4166666663375,
           696.4166666667039,
           1286.8333333332805,
           1489.1666666664298,
           1796.91666666615,
           1298.2499999999368,
           921.583333333473,
           605.5833333333293,
           1245.1666666666515,
           1261.9166666666365,
           1705.4999999995664,
           1363.999999999877,
           790.9166666667469,
           1067.7500000001464,
           1320.4999999999166,
           1317.416666666586,
           1404.3333333331736,
           648.6666666666822,
           309.7499999999994,
           484.9999999999595,
           439.3333333333032,
           814.1666666667575,
           1264.4166666666342,
           655.583333333352,
           342.66666666665856,
           626.5000000000055,
           1059.9166666668202,
           321.66666666666333,
           676.4166666666948,
           201.9166666666721,
           1223.916666666671,
           1687.4166666662495,
           1112.583333333439,
           466.7499999999637,
           785.0833333334109,
           1800.833333332813,
           1364.5833333332098,
           2299.7499999997126,
           1038.7500000001728,
           722.8333333333826,
           1706.999999999565,
           1231.7499999999973,
           967.833333333494,
           1386.5833333331898,
           192.41666666667103,
           291.3333333333369,
           1370.9166666665374,
           605.4999999999959,
           194.08333333333792,
           538.7499999999656,
           33.24999999999985,
           1792.749999999487,
           737.0833333333891,
           1153.7500000000682,
           886.0000000001235,
           955.6666666668218,
           1071.2500000001432,
           748.2500000000608,
           1487.8333333330977,
           835.7500000001006,
           889.0000000001248,
           1337.4166666665678,
           1137.3333333334165,
           966.25000000016,
           1034.0000000001771,
           1499.6666666664205,
           503.58333333328864,
           894.9166666667942,
           1749.4166666661931,
           1879.749999999408,
           635.1666666666761,
           777.0833333334073,
           1202.9166666666902,
           560.4999999999754,
           790.3333333334133,
           797.5833333334166,
           1156.5000000000657,
           1462.9166666664537,
           1168.0833333333885,
           456.24999999996606,
           1019.7500000001844,
           1167.166666666723,
           478.0833333332944,
           1599.7499999996626,
           1578.0833333330156,
           494.49999999995737,
           1705.1666666662334,
           947.6666666668182,
           114.49999999999784,
           759.4166666667326,
           1567.6666666663584,
           547.9999999999698,
           978.3333333334988,
           673.08333333336,
           1354.666666666552,
           1355.1666666665517,
           898.0000000001289,
           701.6666666667063,
           873.1666666667843,
           235.41666666667595,
           998.6666666668414,
           951.41666666682,
           795.4166666667489,
           425.749999999973,
           1044.8333333335006,
           694.9166666667032
          ],
          "sizemode": "area",
          "sizeref": 14.55111111111771
         },
         "mode": "markers",
         "name": "",
         "showlegend": false,
         "subplot": "mapbox",
         "type": "scattermapbox"
        }
       ],
       "layout": {
        "coloraxis": {
         "colorbar": {
          "title": {
           "text": "peak_hour"
          }
         },
         "colorscale": [
          [
           0,
           "#000000"
          ],
          [
           0.0625,
           "#001f4d"
          ],
          [
           0.125,
           "#003786"
          ],
          [
           0.1875,
           "#0e58a8"
          ],
          [
           0.25,
           "#217eb8"
          ],
          [
           0.3125,
           "#30a4ca"
          ],
          [
           0.375,
           "#54c8df"
          ],
          [
           0.4375,
           "#9be4ef"
          ],
          [
           0.5,
           "#e1e9d1"
          ],
          [
           0.5625,
           "#f3d573"
          ],
          [
           0.625,
           "#e7b000"
          ],
          [
           0.6875,
           "#da8200"
          ],
          [
           0.75,
           "#c65400"
          ],
          [
           0.8125,
           "#ac2301"
          ],
          [
           0.875,
           "#820000"
          ],
          [
           0.9375,
           "#4c0000"
          ],
          [
           1,
           "#000000"
          ]
         ]
        },
        "legend": {
         "itemsizing": "constant",
         "tracegroupgap": 0
        },
        "mapbox": {
         "accesstoken": "pk.eyJ1IjoiZWxheWVyIiwiYSI6ImNsM3RpYmlqczIyYnUzZGw4NTJhZGkwaWIifQ.qHTFFM_76ATKuVmNMfs8Kg",
         "center": {
          "lat": 45.52341668343991,
          "lon": -73.59183434290809
         },
         "domain": {
          "x": [
           0,
           1
          ],
          "y": [
           0,
           1
          ]
         },
         "zoom": 10
        },
        "margin": {
         "t": 60
        },
        "template": {
         "data": {
          "bar": [
           {
            "error_x": {
             "color": "#2a3f5f"
            },
            "error_y": {
             "color": "#2a3f5f"
            },
            "marker": {
             "line": {
              "color": "#E5ECF6",
              "width": 0.5
             },
             "pattern": {
              "fillmode": "overlay",
              "size": 10,
              "solidity": 0.2
             }
            },
            "type": "bar"
           }
          ],
          "barpolar": [
           {
            "marker": {
             "line": {
              "color": "#E5ECF6",
              "width": 0.5
             },
             "pattern": {
              "fillmode": "overlay",
              "size": 10,
              "solidity": 0.2
             }
            },
            "type": "barpolar"
           }
          ],
          "carpet": [
           {
            "aaxis": {
             "endlinecolor": "#2a3f5f",
             "gridcolor": "white",
             "linecolor": "white",
             "minorgridcolor": "white",
             "startlinecolor": "#2a3f5f"
            },
            "baxis": {
             "endlinecolor": "#2a3f5f",
             "gridcolor": "white",
             "linecolor": "white",
             "minorgridcolor": "white",
             "startlinecolor": "#2a3f5f"
            },
            "type": "carpet"
           }
          ],
          "choropleth": [
           {
            "colorbar": {
             "outlinewidth": 0,
             "ticks": ""
            },
            "type": "choropleth"
           }
          ],
          "contour": [
           {
            "colorbar": {
             "outlinewidth": 0,
             "ticks": ""
            },
            "colorscale": [
             [
              0,
              "#0d0887"
             ],
             [
              0.1111111111111111,
              "#46039f"
             ],
             [
              0.2222222222222222,
              "#7201a8"
             ],
             [
              0.3333333333333333,
              "#9c179e"
             ],
             [
              0.4444444444444444,
              "#bd3786"
             ],
             [
              0.5555555555555556,
              "#d8576b"
             ],
             [
              0.6666666666666666,
              "#ed7953"
             ],
             [
              0.7777777777777778,
              "#fb9f3a"
             ],
             [
              0.8888888888888888,
              "#fdca26"
             ],
             [
              1,
              "#f0f921"
             ]
            ],
            "type": "contour"
           }
          ],
          "contourcarpet": [
           {
            "colorbar": {
             "outlinewidth": 0,
             "ticks": ""
            },
            "type": "contourcarpet"
           }
          ],
          "heatmap": [
           {
            "colorbar": {
             "outlinewidth": 0,
             "ticks": ""
            },
            "colorscale": [
             [
              0,
              "#0d0887"
             ],
             [
              0.1111111111111111,
              "#46039f"
             ],
             [
              0.2222222222222222,
              "#7201a8"
             ],
             [
              0.3333333333333333,
              "#9c179e"
             ],
             [
              0.4444444444444444,
              "#bd3786"
             ],
             [
              0.5555555555555556,
              "#d8576b"
             ],
             [
              0.6666666666666666,
              "#ed7953"
             ],
             [
              0.7777777777777778,
              "#fb9f3a"
             ],
             [
              0.8888888888888888,
              "#fdca26"
             ],
             [
              1,
              "#f0f921"
             ]
            ],
            "type": "heatmap"
           }
          ],
          "heatmapgl": [
           {
            "colorbar": {
             "outlinewidth": 0,
             "ticks": ""
            },
            "colorscale": [
             [
              0,
              "#0d0887"
             ],
             [
              0.1111111111111111,
              "#46039f"
             ],
             [
              0.2222222222222222,
              "#7201a8"
             ],
             [
              0.3333333333333333,
              "#9c179e"
             ],
             [
              0.4444444444444444,
              "#bd3786"
             ],
             [
              0.5555555555555556,
              "#d8576b"
             ],
             [
              0.6666666666666666,
              "#ed7953"
             ],
             [
              0.7777777777777778,
              "#fb9f3a"
             ],
             [
              0.8888888888888888,
              "#fdca26"
             ],
             [
              1,
              "#f0f921"
             ]
            ],
            "type": "heatmapgl"
           }
          ],
          "histogram": [
           {
            "marker": {
             "pattern": {
              "fillmode": "overlay",
              "size": 10,
              "solidity": 0.2
             }
            },
            "type": "histogram"
           }
          ],
          "histogram2d": [
           {
            "colorbar": {
             "outlinewidth": 0,
             "ticks": ""
            },
            "colorscale": [
             [
              0,
              "#0d0887"
             ],
             [
              0.1111111111111111,
              "#46039f"
             ],
             [
              0.2222222222222222,
              "#7201a8"
             ],
             [
              0.3333333333333333,
              "#9c179e"
             ],
             [
              0.4444444444444444,
              "#bd3786"
             ],
             [
              0.5555555555555556,
              "#d8576b"
             ],
             [
              0.6666666666666666,
              "#ed7953"
             ],
             [
              0.7777777777777778,
              "#fb9f3a"
             ],
             [
              0.8888888888888888,
              "#fdca26"
             ],
             [
              1,
              "#f0f921"
             ]
            ],
            "type": "histogram2d"
           }
          ],
          "histogram2dcontour": [
           {
            "colorbar": {
             "outlinewidth": 0,
             "ticks": ""
            },
            "colorscale": [
             [
              0,
              "#0d0887"
             ],
             [
              0.1111111111111111,
              "#46039f"
             ],
             [
              0.2222222222222222,
              "#7201a8"
             ],
             [
              0.3333333333333333,
              "#9c179e"
             ],
             [
              0.4444444444444444,
              "#bd3786"
             ],
             [
              0.5555555555555556,
              "#d8576b"
             ],
             [
              0.6666666666666666,
              "#ed7953"
             ],
             [
              0.7777777777777778,
              "#fb9f3a"
             ],
             [
              0.8888888888888888,
              "#fdca26"
             ],
             [
              1,
              "#f0f921"
             ]
            ],
            "type": "histogram2dcontour"
           }
          ],
          "mesh3d": [
           {
            "colorbar": {
             "outlinewidth": 0,
             "ticks": ""
            },
            "type": "mesh3d"
           }
          ],
          "parcoords": [
           {
            "line": {
             "colorbar": {
              "outlinewidth": 0,
              "ticks": ""
             }
            },
            "type": "parcoords"
           }
          ],
          "pie": [
           {
            "automargin": true,
            "type": "pie"
           }
          ],
          "scatter": [
           {
            "marker": {
             "colorbar": {
              "outlinewidth": 0,
              "ticks": ""
             }
            },
            "type": "scatter"
           }
          ],
          "scatter3d": [
           {
            "line": {
             "colorbar": {
              "outlinewidth": 0,
              "ticks": ""
             }
            },
            "marker": {
             "colorbar": {
              "outlinewidth": 0,
              "ticks": ""
             }
            },
            "type": "scatter3d"
           }
          ],
          "scattercarpet": [
           {
            "marker": {
             "colorbar": {
              "outlinewidth": 0,
              "ticks": ""
             }
            },
            "type": "scattercarpet"
           }
          ],
          "scattergeo": [
           {
            "marker": {
             "colorbar": {
              "outlinewidth": 0,
              "ticks": ""
             }
            },
            "type": "scattergeo"
           }
          ],
          "scattergl": [
           {
            "marker": {
             "colorbar": {
              "outlinewidth": 0,
              "ticks": ""
             }
            },
            "type": "scattergl"
           }
          ],
          "scattermapbox": [
           {
            "marker": {
             "colorbar": {
              "outlinewidth": 0,
              "ticks": ""
             }
            },
            "type": "scattermapbox"
           }
          ],
          "scatterpolar": [
           {
            "marker": {
             "colorbar": {
              "outlinewidth": 0,
              "ticks": ""
             }
            },
            "type": "scatterpolar"
           }
          ],
          "scatterpolargl": [
           {
            "marker": {
             "colorbar": {
              "outlinewidth": 0,
              "ticks": ""
             }
            },
            "type": "scatterpolargl"
           }
          ],
          "scatterternary": [
           {
            "marker": {
             "colorbar": {
              "outlinewidth": 0,
              "ticks": ""
             }
            },
            "type": "scatterternary"
           }
          ],
          "surface": [
           {
            "colorbar": {
             "outlinewidth": 0,
             "ticks": ""
            },
            "colorscale": [
             [
              0,
              "#0d0887"
             ],
             [
              0.1111111111111111,
              "#46039f"
             ],
             [
              0.2222222222222222,
              "#7201a8"
             ],
             [
              0.3333333333333333,
              "#9c179e"
             ],
             [
              0.4444444444444444,
              "#bd3786"
             ],
             [
              0.5555555555555556,
              "#d8576b"
             ],
             [
              0.6666666666666666,
              "#ed7953"
             ],
             [
              0.7777777777777778,
              "#fb9f3a"
             ],
             [
              0.8888888888888888,
              "#fdca26"
             ],
             [
              1,
              "#f0f921"
             ]
            ],
            "type": "surface"
           }
          ],
          "table": [
           {
            "cells": {
             "fill": {
              "color": "#EBF0F8"
             },
             "line": {
              "color": "white"
             }
            },
            "header": {
             "fill": {
              "color": "#C8D4E3"
             },
             "line": {
              "color": "white"
             }
            },
            "type": "table"
           }
          ]
         },
         "layout": {
          "annotationdefaults": {
           "arrowcolor": "#2a3f5f",
           "arrowhead": 0,
           "arrowwidth": 1
          },
          "autotypenumbers": "strict",
          "coloraxis": {
           "colorbar": {
            "outlinewidth": 0,
            "ticks": ""
           }
          },
          "colorscale": {
           "diverging": [
            [
             0,
             "#8e0152"
            ],
            [
             0.1,
             "#c51b7d"
            ],
            [
             0.2,
             "#de77ae"
            ],
            [
             0.3,
             "#f1b6da"
            ],
            [
             0.4,
             "#fde0ef"
            ],
            [
             0.5,
             "#f7f7f7"
            ],
            [
             0.6,
             "#e6f5d0"
            ],
            [
             0.7,
             "#b8e186"
            ],
            [
             0.8,
             "#7fbc41"
            ],
            [
             0.9,
             "#4d9221"
            ],
            [
             1,
             "#276419"
            ]
           ],
           "sequential": [
            [
             0,
             "#0d0887"
            ],
            [
             0.1111111111111111,
             "#46039f"
            ],
            [
             0.2222222222222222,
             "#7201a8"
            ],
            [
             0.3333333333333333,
             "#9c179e"
            ],
            [
             0.4444444444444444,
             "#bd3786"
            ],
            [
             0.5555555555555556,
             "#d8576b"
            ],
            [
             0.6666666666666666,
             "#ed7953"
            ],
            [
             0.7777777777777778,
             "#fb9f3a"
            ],
            [
             0.8888888888888888,
             "#fdca26"
            ],
            [
             1,
             "#f0f921"
            ]
           ],
           "sequentialminus": [
            [
             0,
             "#0d0887"
            ],
            [
             0.1111111111111111,
             "#46039f"
            ],
            [
             0.2222222222222222,
             "#7201a8"
            ],
            [
             0.3333333333333333,
             "#9c179e"
            ],
            [
             0.4444444444444444,
             "#bd3786"
            ],
            [
             0.5555555555555556,
             "#d8576b"
            ],
            [
             0.6666666666666666,
             "#ed7953"
            ],
            [
             0.7777777777777778,
             "#fb9f3a"
            ],
            [
             0.8888888888888888,
             "#fdca26"
            ],
            [
             1,
             "#f0f921"
            ]
           ]
          },
          "colorway": [
           "#636efa",
           "#EF553B",
           "#00cc96",
           "#ab63fa",
           "#FFA15A",
           "#19d3f3",
           "#FF6692",
           "#B6E880",
           "#FF97FF",
           "#FECB52"
          ],
          "font": {
           "color": "#2a3f5f"
          },
          "geo": {
           "bgcolor": "white",
           "lakecolor": "white",
           "landcolor": "#E5ECF6",
           "showlakes": true,
           "showland": true,
           "subunitcolor": "white"
          },
          "hoverlabel": {
           "align": "left"
          },
          "hovermode": "closest",
          "mapbox": {
           "style": "light"
          },
          "paper_bgcolor": "white",
          "plot_bgcolor": "#E5ECF6",
          "polar": {
           "angularaxis": {
            "gridcolor": "white",
            "linecolor": "white",
            "ticks": ""
           },
           "bgcolor": "#E5ECF6",
           "radialaxis": {
            "gridcolor": "white",
            "linecolor": "white",
            "ticks": ""
           }
          },
          "scene": {
           "xaxis": {
            "backgroundcolor": "#E5ECF6",
            "gridcolor": "white",
            "gridwidth": 2,
            "linecolor": "white",
            "showbackground": true,
            "ticks": "",
            "zerolinecolor": "white"
           },
           "yaxis": {
            "backgroundcolor": "#E5ECF6",
            "gridcolor": "white",
            "gridwidth": 2,
            "linecolor": "white",
            "showbackground": true,
            "ticks": "",
            "zerolinecolor": "white"
           },
           "zaxis": {
            "backgroundcolor": "#E5ECF6",
            "gridcolor": "white",
            "gridwidth": 2,
            "linecolor": "white",
            "showbackground": true,
            "ticks": "",
            "zerolinecolor": "white"
           }
          },
          "shapedefaults": {
           "line": {
            "color": "#2a3f5f"
           }
          },
          "ternary": {
           "aaxis": {
            "gridcolor": "white",
            "linecolor": "white",
            "ticks": ""
           },
           "baxis": {
            "gridcolor": "white",
            "linecolor": "white",
            "ticks": ""
           },
           "bgcolor": "#E5ECF6",
           "caxis": {
            "gridcolor": "white",
            "linecolor": "white",
            "ticks": ""
           }
          },
          "title": {
           "x": 0.05
          },
          "xaxis": {
           "automargin": true,
           "gridcolor": "white",
           "linecolor": "white",
           "ticks": "",
           "title": {
            "standoff": 15
           },
           "zerolinecolor": "white",
           "zerolinewidth": 2
          },
          "yaxis": {
           "automargin": true,
           "gridcolor": "white",
           "linecolor": "white",
           "ticks": "",
           "title": {
            "standoff": 15
           },
           "zerolinecolor": "white",
           "zerolinewidth": 2
          }
         }
        }
       }
      },
      "text/html": [
       "<div>                            <div id=\"bdb1c966-08c6-469c-8e25-4ae71f6b8da5\" class=\"plotly-graph-div\" style=\"height:525px; width:100%;\"></div>            <script type=\"text/javascript\">                require([\"plotly\"], function(Plotly) {                    window.PLOTLYENV=window.PLOTLYENV || {};                                    if (document.getElementById(\"bdb1c966-08c6-469c-8e25-4ae71f6b8da5\")) {                    Plotly.newPlot(                        \"bdb1c966-08c6-469c-8e25-4ae71f6b8da5\",                        [{\"hovertemplate\":\"car_hours=%{marker.size}<br>centroid_lat=%{lat}<br>centroid_lon=%{lon}<br>peak_hour=%{marker.color}<extra></extra>\",\"lat\":[45.471548505146174,45.54386506674422,45.4876395818664,45.52286967122903,45.45397130964701,45.57312570194822,45.53005389171565,45.49919320522112,45.551300651627535,45.55380992033989,45.47448282698679,45.53249580289159,45.56545642757568,45.50298109284952,45.56711856838078,45.480026123563874,45.448903185047335,45.50303089895005,45.609667861846745,45.478348275451104,45.51951352944332,45.56903061932889,45.53626021131554,45.56857291481607,45.54614539811951,45.54488834188077,45.54515565293561,45.47817195218011,45.58212955989256,45.531215706332375,45.55267826328372,45.52915993898732,45.52404418524071,45.50851711032711,45.4880586878363,45.50689566111847,45.57894266654677,45.46892041666329,45.5386616499238,45.58530574012526,45.46252493114867,45.50814302347108,45.55224218643183,45.53306824136229,45.529617524254725,45.56172666348032,45.45886520703704,45.51827128926588,45.46330588193452,45.45722580199571,45.58042126024095,45.51220156451264,45.548176804195634,45.52792120774532,45.58971117459708,45.53066298367023,45.49780367877612,45.53978904565592,45.52977286764973,45.57635821927521,45.592896967066345,45.54282395560971,45.45146052808264,45.50017958704209,45.55959836008312,45.51405331206955,45.52098513669111,45.51969025678738,45.47196677288637,45.4940320553664,45.57383095629989,45.47270552917877,45.58204625444414,45.4810627259832,45.60751580853944,45.50429652950133,45.459862270272,45.550869209779385,45.52515960693799,45.50743686739271,45.54836167081622,45.53036120501041,45.49339463589723,45.49643413195211,45.561211827035706,45.55537527937125,45.52524090241434,45.542945623835706,45.465546068371886,45.51646059071524,45.53280566796844,45.47963265657448,45.45591463685107,45.54630844232351,45.49848094816177,45.528525372523454,45.56579154043406,45.53765718184978,45.47455332862991,45.5279051561684,45.494951534596034,45.465088224907866,45.59654571636812,45.491523525524194,45.51792291961748,45.46777843101408,45.51117458455963,45.54915899878871,45.535767560039695,45.49044848119951,45.538238804018775,45.5277041052173,45.534777091929946,45.48934750923581,45.45408718820735,45.472649739508654,45.55659444198,45.483089972430825,45.49619305656642,45.55742769063361,45.49971820106133,45.48523078626532,45.45863614550253,45.50110763484297,45.50643446059914,45.52764608144713,45.48910798882796,45.52543292800497,45.60326418430284,45.47822467091599,45.56923339719061,45.46715978062781,45.543842954244646,45.47954227936379,45.47510964560248,45.54858377217711,45.54415239549018,45.61087892678886,45.481028563111394,45.52753294236388,45.50713730344406,45.54445300313406,45.53978806387313,45.53344000001958,45.46746637549487,45.53453717264379,45.53658915333014,45.53429759356232,45.52410832338415,45.47265626277289,45.50559257327809,45.51901074555018,45.52540175130616,45.54048050327387,45.48335540200465,45.54220224528534,45.519876273318,45.55095552442233,45.51670639951611,45.53834507417609,45.54348593525155,45.49933518159919,45.57484789346844,45.47790745068288,45.54237585056225,45.46417997825538,45.48897149612501,45.570596118677166,45.549545481512375,45.56161463008111,45.48012052331579,45.546769706786165,45.47728503507936,45.582073874173176,45.53903174724877,45.510890621674776,45.51923221924688,45.55028382655888,45.554677131421606,45.509217063208105,45.54493929194947,45.55102553790574,45.46427660479596,45.53566818785226,45.5222319477743,45.53831624591015,45.47689750165655,45.55427699436827,45.54393996853523,45.54733066622103,45.53172990090744,45.52405372692176,45.52567648569128,45.45566288220533,45.514928037931,45.52875593668882,45.45893633874722,45.52339721689325,45.53380644488978,45.51698913885445,45.47417720458765,45.52430638232658,45.57221159337733,45.53143218128847,45.52029302323953,45.5428521988577,45.51177396205147,45.476699804159765,45.52527451544683,45.52904526725249,45.54589006890641,45.54129653265394,45.52641793678303,45.506014494884326,45.56249120965429,45.518606229301774,45.52203370353778,45.52409679671165,45.52247779646763,45.53961066076051,45.58895991968114,45.54559560319731,45.537473700456566,45.57342046906779,45.53557355419221,45.50192689559106,45.55114485440528,45.53782697365083,45.52940323053624,45.55301895367002,45.55058908283418,45.49619083697144,45.5389132118943,45.535798184139765,45.5313114537718,45.52036705536745,45.48313978581276,45.55297824741078,45.55430120710761,45.57092278674684,45.53361097030694,45.52227967073674,45.57044282123756,45.48626024282493,45.54717058947268,45.546481863801525,45.495523127814025,45.52119924708915,45.53256430507208],\"legendgroup\":\"\",\"lon\":[-73.58868408217266,-73.56245583980697,-73.64276703077329,-73.5956772508181,-73.73894559925054,-73.53990236454271,-73.62803605045727,-73.56194373919256,-73.61171191446698,-73.57720679008477,-73.63054396371925,-73.57956985159979,-73.64201176723445,-73.62748995674825,-73.58439300639695,-73.58239204679343,-73.59297686556374,-73.5790295367978,-73.54023161013792,-73.57856784133362,-73.5793289407554,-73.52573081459546,-73.56209061086564,-73.56084340953332,-73.59114755541647,-73.63562160484223,-73.6172218179539,-73.56778840803071,-73.5214125066963,-73.60636943656155,-73.60186065688765,-73.61182738988052,-73.57255202228934,-73.56361361279802,-73.62175707085048,-73.63992985736493,-73.5722622021108,-73.61587858172172,-73.65684895574016,-73.556671023514,-73.591450603879,-73.61443790111136,-73.5567248443471,-73.58586652140238,-73.59016001500189,-73.61316030479036,-73.65393428057348,-73.53518132112849,-73.63201646596775,-73.6471457252509,-73.62450277147559,-73.62439363857663,-73.57230388575367,-73.61477370856916,-73.5124596370787,-73.61566624177722,-73.64552238789666,-73.5647843753964,-73.57271916651166,-73.55658769397526,-73.56283021327646,-73.53978288809766,-73.60077524293251,-73.57356239315693,-73.53735411019554,-73.6328226471968,-73.5859649617064,-73.56818790168714,-73.645100544613,-73.61062703452248,-73.60414320228709,-73.60760805947412,-73.5329739761722,-73.56087334817683,-73.51375636627016,-73.56520883274013,-73.58285531458276,-73.617846092248,-73.6047044738415,-73.57429268607511,-73.58539717879967,-73.62029730985503,-73.62504495384513,-73.55267239661161,-73.5902004112542,-73.56930840912791,-73.59981458158266,-73.62128455035952,-73.62067736676947,-73.55492741665876,-73.64048496482262,-73.62987341664497,-73.63946019785875,-73.60685622581383,-73.61967423595867,-73.60153035519421,-73.59801021780002,-73.58232714569509,-73.637521859517,-73.5845589383217,-73.55953118048146,-73.65258509641737,-73.52593434063824,-73.63722045431894,-73.58980729398637,-73.63595141045859,-73.57114931189177,-73.63292319176229,-73.59674218487977,-73.64754965162766,-73.60597173479003,-73.57565350409223,-73.5728803879145,-73.57095543068031,-73.5871111898369,-73.5826189686433,-73.53214371066534,-73.63467979451553,-73.58337891052282,-73.60077343846366,-73.6544874970073,-73.61782510513464,-73.64348260405826,-73.63443884623427,-73.55280978474548,-73.59350797166334,-73.6314622358004,-73.62642522019199,-73.53716899543986,-73.6131691288042,-73.56970219899235,-73.64277864672295,-73.58224236729227,-73.54759113967883,-73.56317906950511,-73.57887887297544,-73.59658041602985,-73.53187026901544,-73.62384266869233,-73.58132388945315,-73.63043341873463,-73.54776346337367,-73.54278601036688,-73.5547199999811,-73.59078190259488,-73.59256240577943,-73.62157941242943,-73.61041764596348,-73.58731842223665,-73.62370107695057,-73.62277637402323,-73.57542843260613,-73.61022133725439,-73.63688048862373,-73.58250497434213,-73.61142929406647,-73.5829101943345,-73.59145464281357,-73.57855556771429,-73.57053862449274,-73.57027313720633,-73.62608825396849,-73.5635392336782,-73.62640937405116,-73.55538289355314,-73.62592082119164,-73.62783793313959,-73.52828137402979,-73.56715045890071,-73.57406730167698,-73.57250207253963,-73.53904284095108,-73.58122340486779,-73.54826893987729,-73.60093377104955,-73.57633721593862,-73.57244658989525,-73.60783357287939,-73.54632265433347,-73.61862500763353,-73.62750959017946,-73.56330138226609,-73.64748824071867,-73.56861361257508,-73.60012669507964,-73.57466650421921,-73.58830635134413,-73.62166601126063,-73.57394431922157,-73.60149624886525,-73.5764851307457,-73.5653588020603,-73.59003684764208,-73.64576984962405,-73.5716441021712,-73.57904510571099,-73.59639171903568,-73.60671288562885,-73.58376257412169,-73.58364027226557,-73.59403776813,-73.58198744370928,-73.54796924219626,-73.56470160854694,-73.59161297526235,-73.60552201275355,-73.63749469512531,-73.61960578900425,-73.5938625905676,-73.56435515803537,-73.613329142374,-73.58761174867594,-73.59653658066382,-73.62601031881215,-73.58319715388312,-73.59475241426874,-73.57113021855815,-73.57841797764475,-73.57478446870938,-73.62661841692122,-73.53758992480975,-73.5672399814485,-73.57729937169172,-73.6327727768197,-73.57917172211978,-73.62989603799815,-73.53770269990456,-73.61519170037559,-73.58716197505838,-73.58388794985183,-73.57424335824136,-73.62436735080055,-73.5792013969,-73.58664104188827,-73.58372215024325,-73.59761235604635,-73.57653648384526,-73.59484359129024,-73.56162491267922,-73.57715490720366,-73.60106645724453,-73.5684337774366,-73.52518192920604,-73.63860168141315,-73.55625786283633,-73.5749389146122,-73.62772501663683,-73.581789228748,-73.5675347056023],\"marker\":{\"color\":[2,23,20,23,19,1,18,14,2,1,2,3,21,11,1,5,6,15,0,14,2,23,3,20,3,2,5,3,9,5,10,11,3,13,20,13,9,4,11,17,1,16,10,19,5,10,16,20,2,20,8,3,2,12,1,21,20,7,3,19,7,0,19,11,23,0,1,21,20,5,0,11,20,9,0,13,4,3,3,13,4,11,20,13,19,2,13,4,23,15,9,4,3,8,11,11,5,2,1,2,16,18,0,18,4,4,12,7,4,2,3,2,2,12,4,1,5,10,15,21,20,0,23,12,14,13,4,20,19,2,20,6,9,12,4,2,3,20,6,3,4,5,6,5,21,5,18,5,2,20,12,1,4,21,16,7,3,5,16,1,2,2,9,4,5,5,5,0,2,2,14,3,10,21,2,15,21,3,4,5,3,2,4,3,3,3,2,17,2,5,1,22,0,19,11,2,1,21,1,22,4,10,20,2,2,3,20,12,11,2,3,3,12,8,3,20,3,15,20,3,20,1,5,0,2,5,3,5,18,8,1,13,2,2,3,0,23,5,2,10,11,21,7,18,3,2,8,17,5],\"coloraxis\":\"coloraxis\",\"size\":[1772.7499999995052,986.3333333335024,354.74999999998914,560.166666666642,2836.666666667356,1022.7500000001857,835.7500000001006,1888.3333333327332,1030.75000000018,1841.1666666661097,1966.166666665996,1532.9999999997233,834.1666666667666,289.0000000000041,273.58333333334093,594.8333333333244,1020.9166666668516,1428.4999999998183,670.7500000000256,489.4999999999585,1426.3333333331536,422.49999999997374,1624.7499999996398,732.7500000000538,1969.6666666659928,1657.9999999996096,665.5833333333566,805.08333333342,217.75000000000728,1332.583333333239,630.5000000000073,559.9999999999752,456.1666666666328,1185.8333333333724,1112.6666666667722,1016.5833333335162,1367.249999999874,1767.9999999995096,2291.9999999996985,552.8333333333053,1397.9166666665128,997.7500000001744,926.1666666668084,323.166666666663,833.0833333334327,1394.416666666516,601.7499999999942,1724.4999999995491,1061.5833333334854,325.74999999999574,1271.5833333332944,1951.0833333326764,961.4166666668244,507.83333333328767,679.6666666666963,734.833333333388,1057.4166666668225,262.8333333333434,1302.7499999999327,345.8333333333245,1543.3333333330472,630.7500000000074,1164.5833333333917,1676.9999999995923,1282.5833333332844,1019.000000000184,1719.1666666662206,681.5000000000305,287.66666666667106,1559.333333333033,627.4166666666725,1863.7499999994225,867.2500000001149,2413.4999999999195,1322.3333333332482,3274.0000000014848,1558.9166666663664,1902.416666666054,1609.166666666321,2773.250000000574,1940.6666666660192,1597.4999999996646,162.500000000001,1929.0833333326964,847.0000000001057,1522.7499999997326,635.3333333333428,2057.166666665938,845.9166666667719,2022.9166666659444,1598.7499999996635,566.8333333333117,1714.1666666662252,680.50000000003,1043.2500000001687,673.3333333333601,1105.750000000112,1382.9999999998597,531.4999999999623,635.0000000000093,2376.833333333186,462.4166666666313,1315.6666666665876,504.4166666666218,741.2500000000576,867.3333333334483,875.5833333334521,2188.1666666661763,1172.8333333333842,332.4999999999942,1351.749999999888,966.25000000016,981.750000000167,1714.3333333328917,813.833333333424,863.7500000001133,1202.1666666666908,665.0833333333563,2433.83333333329,1189.0000000000362,2298.583333333044,1414.9166666664971,476.4999999999615,766.3333333334024,2338.249999999782,1170.500000000053,716.0000000000462,1228.083333333334,511.8333333332868,1357.3333333332164,1144.0833333334103,292.5000000000033,1069.0833333334783,1552.333333333039,1029.9166666668475,2752.83333333387,2077.1666666659744,1167.8333333333887,658.2500000000199,741.7500000000579,520.4166666666239,2127.4999999993997,1093.2500000001232,1590.4166666663375,696.4166666667039,1286.8333333332805,1489.1666666664298,1796.91666666615,1298.2499999999368,921.583333333473,605.5833333333293,1245.1666666666515,1261.9166666666365,1705.4999999995664,1363.999999999877,790.9166666667469,1067.7500000001464,1320.4999999999166,1317.416666666586,1404.3333333331736,648.6666666666822,309.7499999999994,484.9999999999595,439.3333333333032,814.1666666667575,1264.4166666666342,655.583333333352,342.66666666665856,626.5000000000055,1059.9166666668202,321.66666666666333,676.4166666666948,201.9166666666721,1223.916666666671,1687.4166666662495,1112.583333333439,466.7499999999637,785.0833333334109,1800.833333332813,1364.5833333332098,2299.7499999997126,1038.7500000001728,722.8333333333826,1706.999999999565,1231.7499999999973,967.833333333494,1386.5833333331898,192.41666666667103,291.3333333333369,1370.9166666665374,605.4999999999959,194.08333333333792,538.7499999999656,33.24999999999985,1792.749999999487,737.0833333333891,1153.7500000000682,886.0000000001235,955.6666666668218,1071.2500000001432,748.2500000000608,1487.8333333330977,835.7500000001006,889.0000000001248,1337.4166666665678,1137.3333333334165,966.25000000016,1034.0000000001771,1499.6666666664205,503.58333333328864,894.9166666667942,1749.4166666661931,1879.749999999408,635.1666666666761,777.0833333334073,1202.9166666666902,560.4999999999754,790.3333333334133,797.5833333334166,1156.5000000000657,1462.9166666664537,1168.0833333333885,456.24999999996606,1019.7500000001844,1167.166666666723,478.0833333332944,1599.7499999996626,1578.0833333330156,494.49999999995737,1705.1666666662334,947.6666666668182,114.49999999999784,759.4166666667326,1567.6666666663584,547.9999999999698,978.3333333334988,673.08333333336,1354.666666666552,1355.1666666665517,898.0000000001289,701.6666666667063,873.1666666667843,235.41666666667595,998.6666666668414,951.41666666682,795.4166666667489,425.749999999973,1044.8333333335006,694.9166666667032],\"sizemode\":\"area\",\"sizeref\":14.55111111111771},\"mode\":\"markers\",\"name\":\"\",\"showlegend\":false,\"subplot\":\"mapbox\",\"type\":\"scattermapbox\"}],                        {\"template\":{\"data\":{\"bar\":[{\"error_x\":{\"color\":\"#2a3f5f\"},\"error_y\":{\"color\":\"#2a3f5f\"},\"marker\":{\"line\":{\"color\":\"#E5ECF6\",\"width\":0.5},\"pattern\":{\"fillmode\":\"overlay\",\"size\":10,\"solidity\":0.2}},\"type\":\"bar\"}],\"barpolar\":[{\"marker\":{\"line\":{\"color\":\"#E5ECF6\",\"width\":0.5},\"pattern\":{\"fillmode\":\"overlay\",\"size\":10,\"solidity\":0.2}},\"type\":\"barpolar\"}],\"carpet\":[{\"aaxis\":{\"endlinecolor\":\"#2a3f5f\",\"gridcolor\":\"white\",\"linecolor\":\"white\",\"minorgridcolor\":\"white\",\"startlinecolor\":\"#2a3f5f\"},\"baxis\":{\"endlinecolor\":\"#2a3f5f\",\"gridcolor\":\"white\",\"linecolor\":\"white\",\"minorgridcolor\":\"white\",\"startlinecolor\":\"#2a3f5f\"},\"type\":\"carpet\"}],\"choropleth\":[{\"colorbar\":{\"outlinewidth\":0,\"ticks\":\"\"},\"type\":\"choropleth\"}],\"contour\":[{\"colorbar\":{\"outlinewidth\":0,\"ticks\":\"\"},\"colorscale\":[[0.0,\"#0d0887\"],[0.1111111111111111,\"#46039f\"],[0.2222222222222222,\"#7201a8\"],[0.3333333333333333,\"#9c179e\"],[0.4444444444444444,\"#bd3786\"],[0.5555555555555556,\"#d8576b\"],[0.6666666666666666,\"#ed7953\"],[0.7777777777777778,\"#fb9f3a\"],[0.8888888888888888,\"#fdca26\"],[1.0,\"#f0f921\"]],\"type\":\"contour\"}],\"contourcarpet\":[{\"colorbar\":{\"outlinewidth\":0,\"ticks\":\"\"},\"type\":\"contourcarpet\"}],\"heatmap\":[{\"colorbar\":{\"outlinewidth\":0,\"ticks\":\"\"},\"colorscale\":[[0.0,\"#0d0887\"],[0.1111111111111111,\"#46039f\"],[0.2222222222222222,\"#7201a8\"],[0.3333333333333333,\"#9c179e\"],[0.4444444444444444,\"#bd3786\"],[0.5555555555555556,\"#d8576b\"],[0.6666666666666666,\"#ed7953\"],[0.7777777777777778,\"#fb9f3a\"],[0.8888888888888888,\"#fdca26\"],[1.0,\"#f0f921\"]],\"type\":\"heatmap\"}],\"heatmapgl\":[{\"colorbar\":{\"outlinewidth\":0,\"ticks\":\"\"},\"colorscale\":[[0.0,\"#0d0887\"],[0.1111111111111111,\"#46039f\"],[0.2222222222222222,\"#7201a8\"],[0.3333333333333333,\"#9c179e\"],[0.4444444444444444,\"#bd3786\"],[0.5555555555555556,\"#d8576b\"],[0.6666666666666666,\"#ed7953\"],[0.7777777777777778,\"#fb9f3a\"],[0.8888888888888888,\"#fdca26\"],[1.0,\"#f0f921\"]],\"type\":\"heatmapgl\"}],\"histogram\":[{\"marker\":{\"pattern\":{\"fillmode\":\"overlay\",\"size\":10,\"solidity\":0.2}},\"type\":\"histogram\"}],\"histogram2d\":[{\"colorbar\":{\"outlinewidth\":0,\"ticks\":\"\"},\"colorscale\":[[0.0,\"#0d0887\"],[0.1111111111111111,\"#46039f\"],[0.2222222222222222,\"#7201a8\"],[0.3333333333333333,\"#9c179e\"],[0.4444444444444444,\"#bd3786\"],[0.5555555555555556,\"#d8576b\"],[0.6666666666666666,\"#ed7953\"],[0.7777777777777778,\"#fb9f3a\"],[0.8888888888888888,\"#fdca26\"],[1.0,\"#f0f921\"]],\"type\":\"histogram2d\"}],\"histogram2dcontour\":[{\"colorbar\":{\"outlinewidth\":0,\"ticks\":\"\"},\"colorscale\":[[0.0,\"#0d0887\"],[0.1111111111111111,\"#46039f\"],[0.2222222222222222,\"#7201a8\"],[0.3333333333333333,\"#9c179e\"],[0.4444444444444444,\"#bd3786\"],[0.5555555555555556,\"#d8576b\"],[0.6666666666666666,\"#ed7953\"],[0.7777777777777778,\"#fb9f3a\"],[0.8888888888888888,\"#fdca26\"],[1.0,\"#f0f921\"]],\"type\":\"histogram2dcontour\"}],\"mesh3d\":[{\"colorbar\":{\"outlinewidth\":0,\"ticks\":\"\"},\"type\":\"mesh3d\"}],\"parcoords\":[{\"line\":{\"colorbar\":{\"outlinewidth\":0,\"ticks\":\"\"}},\"type\":\"parcoords\"}],\"pie\":[{\"automargin\":true,\"type\":\"pie\"}],\"scatter\":[{\"marker\":{\"colorbar\":{\"outlinewidth\":0,\"ticks\":\"\"}},\"type\":\"scatter\"}],\"scatter3d\":[{\"line\":{\"colorbar\":{\"outlinewidth\":0,\"ticks\":\"\"}},\"marker\":{\"colorbar\":{\"outlinewidth\":0,\"ticks\":\"\"}},\"type\":\"scatter3d\"}],\"scattercarpet\":[{\"marker\":{\"colorbar\":{\"outlinewidth\":0,\"ticks\":\"\"}},\"type\":\"scattercarpet\"}],\"scattergeo\":[{\"marker\":{\"colorbar\":{\"outlinewidth\":0,\"ticks\":\"\"}},\"type\":\"scattergeo\"}],\"scattergl\":[{\"marker\":{\"colorbar\":{\"outlinewidth\":0,\"ticks\":\"\"}},\"type\":\"scattergl\"}],\"scattermapbox\":[{\"marker\":{\"colorbar\":{\"outlinewidth\":0,\"ticks\":\"\"}},\"type\":\"scattermapbox\"}],\"scatterpolar\":[{\"marker\":{\"colorbar\":{\"outlinewidth\":0,\"ticks\":\"\"}},\"type\":\"scatterpolar\"}],\"scatterpolargl\":[{\"marker\":{\"colorbar\":{\"outlinewidth\":0,\"ticks\":\"\"}},\"type\":\"scatterpolargl\"}],\"scatterternary\":[{\"marker\":{\"colorbar\":{\"outlinewidth\":0,\"ticks\":\"\"}},\"type\":\"scatterternary\"}],\"surface\":[{\"colorbar\":{\"outlinewidth\":0,\"ticks\":\"\"},\"colorscale\":[[0.0,\"#0d0887\"],[0.1111111111111111,\"#46039f\"],[0.2222222222222222,\"#7201a8\"],[0.3333333333333333,\"#9c179e\"],[0.4444444444444444,\"#bd3786\"],[0.5555555555555556,\"#d8576b\"],[0.6666666666666666,\"#ed7953\"],[0.7777777777777778,\"#fb9f3a\"],[0.8888888888888888,\"#fdca26\"],[1.0,\"#f0f921\"]],\"type\":\"surface\"}],\"table\":[{\"cells\":{\"fill\":{\"color\":\"#EBF0F8\"},\"line\":{\"color\":\"white\"}},\"header\":{\"fill\":{\"color\":\"#C8D4E3\"},\"line\":{\"color\":\"white\"}},\"type\":\"table\"}]},\"layout\":{\"annotationdefaults\":{\"arrowcolor\":\"#2a3f5f\",\"arrowhead\":0,\"arrowwidth\":1},\"autotypenumbers\":\"strict\",\"coloraxis\":{\"colorbar\":{\"outlinewidth\":0,\"ticks\":\"\"}},\"colorscale\":{\"diverging\":[[0,\"#8e0152\"],[0.1,\"#c51b7d\"],[0.2,\"#de77ae\"],[0.3,\"#f1b6da\"],[0.4,\"#fde0ef\"],[0.5,\"#f7f7f7\"],[0.6,\"#e6f5d0\"],[0.7,\"#b8e186\"],[0.8,\"#7fbc41\"],[0.9,\"#4d9221\"],[1,\"#276419\"]],\"sequential\":[[0.0,\"#0d0887\"],[0.1111111111111111,\"#46039f\"],[0.2222222222222222,\"#7201a8\"],[0.3333333333333333,\"#9c179e\"],[0.4444444444444444,\"#bd3786\"],[0.5555555555555556,\"#d8576b\"],[0.6666666666666666,\"#ed7953\"],[0.7777777777777778,\"#fb9f3a\"],[0.8888888888888888,\"#fdca26\"],[1.0,\"#f0f921\"]],\"sequentialminus\":[[0.0,\"#0d0887\"],[0.1111111111111111,\"#46039f\"],[0.2222222222222222,\"#7201a8\"],[0.3333333333333333,\"#9c179e\"],[0.4444444444444444,\"#bd3786\"],[0.5555555555555556,\"#d8576b\"],[0.6666666666666666,\"#ed7953\"],[0.7777777777777778,\"#fb9f3a\"],[0.8888888888888888,\"#fdca26\"],[1.0,\"#f0f921\"]]},\"colorway\":[\"#636efa\",\"#EF553B\",\"#00cc96\",\"#ab63fa\",\"#FFA15A\",\"#19d3f3\",\"#FF6692\",\"#B6E880\",\"#FF97FF\",\"#FECB52\"],\"font\":{\"color\":\"#2a3f5f\"},\"geo\":{\"bgcolor\":\"white\",\"lakecolor\":\"white\",\"landcolor\":\"#E5ECF6\",\"showlakes\":true,\"showland\":true,\"subunitcolor\":\"white\"},\"hoverlabel\":{\"align\":\"left\"},\"hovermode\":\"closest\",\"mapbox\":{\"style\":\"light\"},\"paper_bgcolor\":\"white\",\"plot_bgcolor\":\"#E5ECF6\",\"polar\":{\"angularaxis\":{\"gridcolor\":\"white\",\"linecolor\":\"white\",\"ticks\":\"\"},\"bgcolor\":\"#E5ECF6\",\"radialaxis\":{\"gridcolor\":\"white\",\"linecolor\":\"white\",\"ticks\":\"\"}},\"scene\":{\"xaxis\":{\"backgroundcolor\":\"#E5ECF6\",\"gridcolor\":\"white\",\"gridwidth\":2,\"linecolor\":\"white\",\"showbackground\":true,\"ticks\":\"\",\"zerolinecolor\":\"white\"},\"yaxis\":{\"backgroundcolor\":\"#E5ECF6\",\"gridcolor\":\"white\",\"gridwidth\":2,\"linecolor\":\"white\",\"showbackground\":true,\"ticks\":\"\",\"zerolinecolor\":\"white\"},\"zaxis\":{\"backgroundcolor\":\"#E5ECF6\",\"gridcolor\":\"white\",\"gridwidth\":2,\"linecolor\":\"white\",\"showbackground\":true,\"ticks\":\"\",\"zerolinecolor\":\"white\"}},\"shapedefaults\":{\"line\":{\"color\":\"#2a3f5f\"}},\"ternary\":{\"aaxis\":{\"gridcolor\":\"white\",\"linecolor\":\"white\",\"ticks\":\"\"},\"baxis\":{\"gridcolor\":\"white\",\"linecolor\":\"white\",\"ticks\":\"\"},\"bgcolor\":\"#E5ECF6\",\"caxis\":{\"gridcolor\":\"white\",\"linecolor\":\"white\",\"ticks\":\"\"}},\"title\":{\"x\":0.05},\"xaxis\":{\"automargin\":true,\"gridcolor\":\"white\",\"linecolor\":\"white\",\"ticks\":\"\",\"title\":{\"standoff\":15},\"zerolinecolor\":\"white\",\"zerolinewidth\":2},\"yaxis\":{\"automargin\":true,\"gridcolor\":\"white\",\"linecolor\":\"white\",\"ticks\":\"\",\"title\":{\"standoff\":15},\"zerolinecolor\":\"white\",\"zerolinewidth\":2}}},\"mapbox\":{\"domain\":{\"x\":[0.0,1.0],\"y\":[0.0,1.0]},\"center\":{\"lat\":45.52341668343991,\"lon\":-73.59183434290809},\"accesstoken\":\"pk.eyJ1IjoiZWxheWVyIiwiYSI6ImNsM3RpYmlqczIyYnUzZGw4NTJhZGkwaWIifQ.qHTFFM_76ATKuVmNMfs8Kg\",\"zoom\":10},\"coloraxis\":{\"colorbar\":{\"title\":{\"text\":\"peak_hour\"}},\"colorscale\":[[0.0,\"#000000\"],[0.0625,\"#001f4d\"],[0.125,\"#003786\"],[0.1875,\"#0e58a8\"],[0.25,\"#217eb8\"],[0.3125,\"#30a4ca\"],[0.375,\"#54c8df\"],[0.4375,\"#9be4ef\"],[0.5,\"#e1e9d1\"],[0.5625,\"#f3d573\"],[0.625,\"#e7b000\"],[0.6875,\"#da8200\"],[0.75,\"#c65400\"],[0.8125,\"#ac2301\"],[0.875,\"#820000\"],[0.9375,\"#4c0000\"],[1.0,\"#000000\"]]},\"legend\":{\"tracegroupgap\":0,\"itemsizing\":\"constant\"},\"margin\":{\"t\":60}},                        {\"responsive\": true}                    ).then(function(){\n",
       "                            \n",
       "var gd = document.getElementById('bdb1c966-08c6-469c-8e25-4ae71f6b8da5');\n",
       "var x = new MutationObserver(function (mutations, observer) {{\n",
       "        var display = window.getComputedStyle(gd).display;\n",
       "        if (!display || display === 'none') {{\n",
       "            console.log([gd, 'removed!']);\n",
       "            Plotly.purge(gd);\n",
       "            observer.disconnect();\n",
       "        }}\n",
       "}});\n",
       "\n",
       "// Listen for the removal of the full notebook cells\n",
       "var notebookContainer = gd.closest('#notebook-container');\n",
       "if (notebookContainer) {{\n",
       "    x.observe(notebookContainer, {childList: true});\n",
       "}}\n",
       "\n",
       "// Listen for the clearing of the current output cell\n",
       "var outputEl = gd.closest('.output');\n",
       "if (outputEl) {{\n",
       "    x.observe(outputEl, {childList: true});\n",
       "}}\n",
       "\n",
       "                        })                };                });            </script>        </div>"
      ]
     },
     "metadata": {},
     "output_type": "display_data"
    }
   ],
   "source": [
    "df = px.data.carshare()\n",
    "fig = px.scatter_mapbox(df, lat=\"centroid_lat\", lon=\"centroid_lon\", color=\"peak_hour\", size=\"car_hours\",\n",
    "                  color_continuous_scale=px.colors.cyclical.IceFire, size_max=15, zoom=10)\n",
    "fig.show()"
   ]
  },
  {
   "cell_type": "code",
   "execution_count": 62,
   "metadata": {},
   "outputs": [
    {
     "data": {
      "text/html": [
       "<div>\n",
       "<style scoped>\n",
       "    .dataframe tbody tr th:only-of-type {\n",
       "        vertical-align: middle;\n",
       "    }\n",
       "\n",
       "    .dataframe tbody tr th {\n",
       "        vertical-align: top;\n",
       "    }\n",
       "\n",
       "    .dataframe thead th {\n",
       "        text-align: right;\n",
       "    }\n",
       "</style>\n",
       "<table border=\"1\" class=\"dataframe\">\n",
       "  <thead>\n",
       "    <tr style=\"text-align: right;\">\n",
       "      <th></th>\n",
       "      <th>X</th>\n",
       "      <th>Y</th>\n",
       "      <th>OBJECTID</th>\n",
       "      <th>CRSH_ID</th>\n",
       "      <th>DATE_VAL_Y</th>\n",
       "      <th>DATE_VAL_M</th>\n",
       "      <th>DATE_VAL_1</th>\n",
       "      <th>DATE_VAL_D</th>\n",
       "      <th>DAY_OF_WEE</th>\n",
       "      <th>DAY_OF_W_1</th>\n",
       "      <th>...</th>\n",
       "      <th>CRSH_TYPE_</th>\n",
       "      <th>CRASH_TYPE</th>\n",
       "      <th>CRSH_LEVL</th>\n",
       "      <th>PRIMARY_CA</th>\n",
       "      <th>PRIMARY__1</th>\n",
       "      <th>SECONDARY_</th>\n",
       "      <th>SECONDARY1</th>\n",
       "      <th>LATITUDE</th>\n",
       "      <th>LONGITUDE</th>\n",
       "      <th>StreetID</th>\n",
       "    </tr>\n",
       "  </thead>\n",
       "  <tbody>\n",
       "    <tr>\n",
       "      <th>0</th>\n",
       "      <td>1.425599e+06</td>\n",
       "      <td>519765.187106</td>\n",
       "      <td>3745</td>\n",
       "      <td>767965</td>\n",
       "      <td>2016</td>\n",
       "      <td>6</td>\n",
       "      <td>June</td>\n",
       "      <td>9</td>\n",
       "      <td>5</td>\n",
       "      <td>Thursday</td>\n",
       "      <td>...</td>\n",
       "      <td>14</td>\n",
       "      <td>Pedestrian</td>\n",
       "      <td>2</td>\n",
       "      <td>26</td>\n",
       "      <td>Operated vehicle in erratic, reckless, careles...</td>\n",
       "      <td>0</td>\n",
       "      <td></td>\n",
       "      <td>35.162879</td>\n",
       "      <td>-80.922041</td>\n",
       "      <td>NaN</td>\n",
       "    </tr>\n",
       "    <tr>\n",
       "      <th>1</th>\n",
       "      <td>1.467687e+06</td>\n",
       "      <td>477272.897731</td>\n",
       "      <td>3746</td>\n",
       "      <td>945507</td>\n",
       "      <td>2019</td>\n",
       "      <td>4</td>\n",
       "      <td>April</td>\n",
       "      <td>25</td>\n",
       "      <td>5</td>\n",
       "      <td>Thursday</td>\n",
       "      <td>...</td>\n",
       "      <td>23</td>\n",
       "      <td>Left turn, same roadway</td>\n",
       "      <td>2</td>\n",
       "      <td>19</td>\n",
       "      <td>Failed to yield right of way</td>\n",
       "      <td>0</td>\n",
       "      <td></td>\n",
       "      <td>35.048298</td>\n",
       "      <td>-80.778692</td>\n",
       "      <td>NaN</td>\n",
       "    </tr>\n",
       "    <tr>\n",
       "      <th>2</th>\n",
       "      <td>1.418835e+06</td>\n",
       "      <td>541631.050231</td>\n",
       "      <td>3747</td>\n",
       "      <td>766801</td>\n",
       "      <td>2016</td>\n",
       "      <td>3</td>\n",
       "      <td>March</td>\n",
       "      <td>22</td>\n",
       "      <td>3</td>\n",
       "      <td>Tuesday</td>\n",
       "      <td>...</td>\n",
       "      <td>30</td>\n",
       "      <td>Angle</td>\n",
       "      <td>2</td>\n",
       "      <td>20</td>\n",
       "      <td>Inattention</td>\n",
       "      <td>0</td>\n",
       "      <td></td>\n",
       "      <td>35.222586</td>\n",
       "      <td>-80.946103</td>\n",
       "      <td>NaN</td>\n",
       "    </tr>\n",
       "    <tr>\n",
       "      <th>3</th>\n",
       "      <td>1.476559e+06</td>\n",
       "      <td>539516.628356</td>\n",
       "      <td>3748</td>\n",
       "      <td>1033858</td>\n",
       "      <td>2020</td>\n",
       "      <td>7</td>\n",
       "      <td>July</td>\n",
       "      <td>17</td>\n",
       "      <td>6</td>\n",
       "      <td>Friday</td>\n",
       "      <td>...</td>\n",
       "      <td>2</td>\n",
       "      <td>Ran off road left</td>\n",
       "      <td>2</td>\n",
       "      <td>0</td>\n",
       "      <td>No contributing circumstance indicated</td>\n",
       "      <td>0</td>\n",
       "      <td></td>\n",
       "      <td>35.219732</td>\n",
       "      <td>-80.752722</td>\n",
       "      <td>NaN</td>\n",
       "    </tr>\n",
       "    <tr>\n",
       "      <th>4</th>\n",
       "      <td>1.421123e+06</td>\n",
       "      <td>561005.398356</td>\n",
       "      <td>3749</td>\n",
       "      <td>902046</td>\n",
       "      <td>2018</td>\n",
       "      <td>7</td>\n",
       "      <td>July</td>\n",
       "      <td>14</td>\n",
       "      <td>7</td>\n",
       "      <td>Saturday</td>\n",
       "      <td>...</td>\n",
       "      <td>15</td>\n",
       "      <td>Pedalcyclist</td>\n",
       "      <td>1</td>\n",
       "      <td>0</td>\n",
       "      <td></td>\n",
       "      <td>0</td>\n",
       "      <td></td>\n",
       "      <td>35.275933</td>\n",
       "      <td>-80.939708</td>\n",
       "      <td>NaN</td>\n",
       "    </tr>\n",
       "  </tbody>\n",
       "</table>\n",
       "<p>5 rows × 22 columns</p>\n",
       "</div>"
      ],
      "text/plain": [
       "              X              Y  OBJECTID  CRSH_ID  DATE_VAL_Y  DATE_VAL_M  \\\n",
       "0  1.425599e+06  519765.187106      3745   767965        2016           6   \n",
       "1  1.467687e+06  477272.897731      3746   945507        2019           4   \n",
       "2  1.418835e+06  541631.050231      3747   766801        2016           3   \n",
       "3  1.476559e+06  539516.628356      3748  1033858        2020           7   \n",
       "4  1.421123e+06  561005.398356      3749   902046        2018           7   \n",
       "\n",
       "  DATE_VAL_1  DATE_VAL_D  DAY_OF_WEE DAY_OF_W_1  ...  CRSH_TYPE_  \\\n",
       "0       June           9           5   Thursday  ...          14   \n",
       "1      April          25           5   Thursday  ...          23   \n",
       "2      March          22           3    Tuesday  ...          30   \n",
       "3       July          17           6     Friday  ...           2   \n",
       "4       July          14           7   Saturday  ...          15   \n",
       "\n",
       "                CRASH_TYPE  CRSH_LEVL PRIMARY_CA  \\\n",
       "0               Pedestrian          2         26   \n",
       "1  Left turn, same roadway          2         19   \n",
       "2                    Angle          2         20   \n",
       "3        Ran off road left          2          0   \n",
       "4             Pedalcyclist          1          0   \n",
       "\n",
       "                                          PRIMARY__1  SECONDARY_ SECONDARY1  \\\n",
       "0  Operated vehicle in erratic, reckless, careles...           0              \n",
       "1                       Failed to yield right of way           0              \n",
       "2                                        Inattention           0              \n",
       "3             No contributing circumstance indicated           0              \n",
       "4                                                              0              \n",
       "\n",
       "    LATITUDE  LONGITUDE  StreetID  \n",
       "0  35.162879 -80.922041       NaN  \n",
       "1  35.048298 -80.778692       NaN  \n",
       "2  35.222586 -80.946103       NaN  \n",
       "3  35.219732 -80.752722       NaN  \n",
       "4  35.275933 -80.939708       NaN  \n",
       "\n",
       "[5 rows x 22 columns]"
      ]
     },
     "execution_count": 62,
     "metadata": {},
     "output_type": "execute_result"
    }
   ],
   "source": [
    "clt_df.head()"
   ]
  },
  {
   "cell_type": "markdown",
   "metadata": {},
   "source": [
    "Using the below as a template, we can construct custom maps like this one and analyze findings using certain parameters if we like. First let's clean the data up a little and create a singular date column."
   ]
  },
  {
   "cell_type": "code",
   "execution_count": 63,
   "metadata": {},
   "outputs": [],
   "source": [
    "dates = pd.to_datetime(clt_df['DATE_VAL_Y'].astype(str) +'-'+ clt_df['DATE_VAL_M'].astype(str) +'-'+ clt_df['DATE_VAL_D'].astype(str))"
   ]
  },
  {
   "cell_type": "code",
   "execution_count": 64,
   "metadata": {},
   "outputs": [],
   "source": [
    "clt_df['DATE'] = dates\n",
    "clt_df.drop(columns=['DATE_VAL_Y', 'DATE_VAL_M', 'DATE_VAL_D'], inplace=True)"
   ]
  },
  {
   "cell_type": "code",
   "execution_count": 65,
   "metadata": {},
   "outputs": [
    {
     "data": {
      "text/html": [
       "<div>\n",
       "<style scoped>\n",
       "    .dataframe tbody tr th:only-of-type {\n",
       "        vertical-align: middle;\n",
       "    }\n",
       "\n",
       "    .dataframe tbody tr th {\n",
       "        vertical-align: top;\n",
       "    }\n",
       "\n",
       "    .dataframe thead th {\n",
       "        text-align: right;\n",
       "    }\n",
       "</style>\n",
       "<table border=\"1\" class=\"dataframe\">\n",
       "  <thead>\n",
       "    <tr style=\"text-align: right;\">\n",
       "      <th></th>\n",
       "      <th>X</th>\n",
       "      <th>Y</th>\n",
       "      <th>OBJECTID</th>\n",
       "      <th>CRSH_ID</th>\n",
       "      <th>DATE_VAL_1</th>\n",
       "      <th>DAY_OF_WEE</th>\n",
       "      <th>DAY_OF_W_1</th>\n",
       "      <th>MILT_TIME</th>\n",
       "      <th>CASE_NUM</th>\n",
       "      <th>CRSH_TYPE_</th>\n",
       "      <th>CRASH_TYPE</th>\n",
       "      <th>CRSH_LEVL</th>\n",
       "      <th>PRIMARY_CA</th>\n",
       "      <th>PRIMARY__1</th>\n",
       "      <th>SECONDARY_</th>\n",
       "      <th>SECONDARY1</th>\n",
       "      <th>LATITUDE</th>\n",
       "      <th>LONGITUDE</th>\n",
       "      <th>StreetID</th>\n",
       "      <th>DATE</th>\n",
       "    </tr>\n",
       "  </thead>\n",
       "  <tbody>\n",
       "    <tr>\n",
       "      <th>0</th>\n",
       "      <td>1.425599e+06</td>\n",
       "      <td>519765.187106</td>\n",
       "      <td>3745</td>\n",
       "      <td>767965</td>\n",
       "      <td>June</td>\n",
       "      <td>5</td>\n",
       "      <td>Thursday</td>\n",
       "      <td>1750</td>\n",
       "      <td>20160609184900</td>\n",
       "      <td>14</td>\n",
       "      <td>Pedestrian</td>\n",
       "      <td>2</td>\n",
       "      <td>26</td>\n",
       "      <td>Operated vehicle in erratic, reckless, careles...</td>\n",
       "      <td>0</td>\n",
       "      <td></td>\n",
       "      <td>35.162879</td>\n",
       "      <td>-80.922041</td>\n",
       "      <td>NaN</td>\n",
       "      <td>2016-06-09</td>\n",
       "    </tr>\n",
       "    <tr>\n",
       "      <th>1</th>\n",
       "      <td>1.467687e+06</td>\n",
       "      <td>477272.897731</td>\n",
       "      <td>3746</td>\n",
       "      <td>945507</td>\n",
       "      <td>April</td>\n",
       "      <td>5</td>\n",
       "      <td>Thursday</td>\n",
       "      <td>1602</td>\n",
       "      <td>20190425160200</td>\n",
       "      <td>23</td>\n",
       "      <td>Left turn, same roadway</td>\n",
       "      <td>2</td>\n",
       "      <td>19</td>\n",
       "      <td>Failed to yield right of way</td>\n",
       "      <td>0</td>\n",
       "      <td></td>\n",
       "      <td>35.048298</td>\n",
       "      <td>-80.778692</td>\n",
       "      <td>NaN</td>\n",
       "      <td>2019-04-25</td>\n",
       "    </tr>\n",
       "    <tr>\n",
       "      <th>2</th>\n",
       "      <td>1.418835e+06</td>\n",
       "      <td>541631.050231</td>\n",
       "      <td>3747</td>\n",
       "      <td>766801</td>\n",
       "      <td>March</td>\n",
       "      <td>3</td>\n",
       "      <td>Tuesday</td>\n",
       "      <td>829</td>\n",
       "      <td>20160322082900</td>\n",
       "      <td>30</td>\n",
       "      <td>Angle</td>\n",
       "      <td>2</td>\n",
       "      <td>20</td>\n",
       "      <td>Inattention</td>\n",
       "      <td>0</td>\n",
       "      <td></td>\n",
       "      <td>35.222586</td>\n",
       "      <td>-80.946103</td>\n",
       "      <td>NaN</td>\n",
       "      <td>2016-03-22</td>\n",
       "    </tr>\n",
       "    <tr>\n",
       "      <th>3</th>\n",
       "      <td>1.476559e+06</td>\n",
       "      <td>539516.628356</td>\n",
       "      <td>3748</td>\n",
       "      <td>1033858</td>\n",
       "      <td>July</td>\n",
       "      <td>6</td>\n",
       "      <td>Friday</td>\n",
       "      <td>1730</td>\n",
       "      <td>20200717221400</td>\n",
       "      <td>2</td>\n",
       "      <td>Ran off road left</td>\n",
       "      <td>2</td>\n",
       "      <td>0</td>\n",
       "      <td>No contributing circumstance indicated</td>\n",
       "      <td>0</td>\n",
       "      <td></td>\n",
       "      <td>35.219732</td>\n",
       "      <td>-80.752722</td>\n",
       "      <td>NaN</td>\n",
       "      <td>2020-07-17</td>\n",
       "    </tr>\n",
       "    <tr>\n",
       "      <th>4</th>\n",
       "      <td>1.421123e+06</td>\n",
       "      <td>561005.398356</td>\n",
       "      <td>3749</td>\n",
       "      <td>902046</td>\n",
       "      <td>July</td>\n",
       "      <td>7</td>\n",
       "      <td>Saturday</td>\n",
       "      <td>2010</td>\n",
       "      <td>20180714201000</td>\n",
       "      <td>15</td>\n",
       "      <td>Pedalcyclist</td>\n",
       "      <td>1</td>\n",
       "      <td>0</td>\n",
       "      <td></td>\n",
       "      <td>0</td>\n",
       "      <td></td>\n",
       "      <td>35.275933</td>\n",
       "      <td>-80.939708</td>\n",
       "      <td>NaN</td>\n",
       "      <td>2018-07-14</td>\n",
       "    </tr>\n",
       "  </tbody>\n",
       "</table>\n",
       "</div>"
      ],
      "text/plain": [
       "              X              Y  OBJECTID  CRSH_ID DATE_VAL_1  DAY_OF_WEE  \\\n",
       "0  1.425599e+06  519765.187106      3745   767965       June           5   \n",
       "1  1.467687e+06  477272.897731      3746   945507      April           5   \n",
       "2  1.418835e+06  541631.050231      3747   766801      March           3   \n",
       "3  1.476559e+06  539516.628356      3748  1033858       July           6   \n",
       "4  1.421123e+06  561005.398356      3749   902046       July           7   \n",
       "\n",
       "  DAY_OF_W_1  MILT_TIME        CASE_NUM  CRSH_TYPE_               CRASH_TYPE  \\\n",
       "0   Thursday       1750  20160609184900          14               Pedestrian   \n",
       "1   Thursday       1602  20190425160200          23  Left turn, same roadway   \n",
       "2    Tuesday        829  20160322082900          30                    Angle   \n",
       "3     Friday       1730  20200717221400           2        Ran off road left   \n",
       "4   Saturday       2010  20180714201000          15             Pedalcyclist   \n",
       "\n",
       "   CRSH_LEVL  PRIMARY_CA                                         PRIMARY__1  \\\n",
       "0          2          26  Operated vehicle in erratic, reckless, careles...   \n",
       "1          2          19                       Failed to yield right of way   \n",
       "2          2          20                                        Inattention   \n",
       "3          2           0             No contributing circumstance indicated   \n",
       "4          1           0                                                      \n",
       "\n",
       "   SECONDARY_ SECONDARY1   LATITUDE  LONGITUDE  StreetID       DATE  \n",
       "0           0             35.162879 -80.922041       NaN 2016-06-09  \n",
       "1           0             35.048298 -80.778692       NaN 2019-04-25  \n",
       "2           0             35.222586 -80.946103       NaN 2016-03-22  \n",
       "3           0             35.219732 -80.752722       NaN 2020-07-17  \n",
       "4           0             35.275933 -80.939708       NaN 2018-07-14  "
      ]
     },
     "execution_count": 65,
     "metadata": {},
     "output_type": "execute_result"
    }
   ],
   "source": [
    "clt_df.head()"
   ]
  },
  {
   "cell_type": "markdown",
   "metadata": {},
   "source": [
    "I will rearrange the columns so that the date column comes first."
   ]
  },
  {
   "cell_type": "code",
   "execution_count": 68,
   "metadata": {},
   "outputs": [],
   "source": [
    "new_col_order = ['DATE']\n",
    "new_col_order.extend(clt_df.columns.tolist()[:-1])"
   ]
  },
  {
   "cell_type": "code",
   "execution_count": 70,
   "metadata": {},
   "outputs": [],
   "source": [
    "clt_df = clt_df[new_col_order]"
   ]
  },
  {
   "cell_type": "code",
   "execution_count": 71,
   "metadata": {},
   "outputs": [
    {
     "data": {
      "text/html": [
       "<div>\n",
       "<style scoped>\n",
       "    .dataframe tbody tr th:only-of-type {\n",
       "        vertical-align: middle;\n",
       "    }\n",
       "\n",
       "    .dataframe tbody tr th {\n",
       "        vertical-align: top;\n",
       "    }\n",
       "\n",
       "    .dataframe thead th {\n",
       "        text-align: right;\n",
       "    }\n",
       "</style>\n",
       "<table border=\"1\" class=\"dataframe\">\n",
       "  <thead>\n",
       "    <tr style=\"text-align: right;\">\n",
       "      <th></th>\n",
       "      <th>DATE</th>\n",
       "      <th>X</th>\n",
       "      <th>Y</th>\n",
       "      <th>OBJECTID</th>\n",
       "      <th>CRSH_ID</th>\n",
       "      <th>DATE_VAL_1</th>\n",
       "      <th>DAY_OF_WEE</th>\n",
       "      <th>DAY_OF_W_1</th>\n",
       "      <th>MILT_TIME</th>\n",
       "      <th>CASE_NUM</th>\n",
       "      <th>CRSH_TYPE_</th>\n",
       "      <th>CRASH_TYPE</th>\n",
       "      <th>CRSH_LEVL</th>\n",
       "      <th>PRIMARY_CA</th>\n",
       "      <th>PRIMARY__1</th>\n",
       "      <th>SECONDARY_</th>\n",
       "      <th>SECONDARY1</th>\n",
       "      <th>LATITUDE</th>\n",
       "      <th>LONGITUDE</th>\n",
       "      <th>StreetID</th>\n",
       "    </tr>\n",
       "  </thead>\n",
       "  <tbody>\n",
       "    <tr>\n",
       "      <th>0</th>\n",
       "      <td>2016-06-09</td>\n",
       "      <td>1.425599e+06</td>\n",
       "      <td>519765.187106</td>\n",
       "      <td>3745</td>\n",
       "      <td>767965</td>\n",
       "      <td>June</td>\n",
       "      <td>5</td>\n",
       "      <td>Thursday</td>\n",
       "      <td>1750</td>\n",
       "      <td>20160609184900</td>\n",
       "      <td>14</td>\n",
       "      <td>Pedestrian</td>\n",
       "      <td>2</td>\n",
       "      <td>26</td>\n",
       "      <td>Operated vehicle in erratic, reckless, careles...</td>\n",
       "      <td>0</td>\n",
       "      <td></td>\n",
       "      <td>35.162879</td>\n",
       "      <td>-80.922041</td>\n",
       "      <td>NaN</td>\n",
       "    </tr>\n",
       "    <tr>\n",
       "      <th>1</th>\n",
       "      <td>2019-04-25</td>\n",
       "      <td>1.467687e+06</td>\n",
       "      <td>477272.897731</td>\n",
       "      <td>3746</td>\n",
       "      <td>945507</td>\n",
       "      <td>April</td>\n",
       "      <td>5</td>\n",
       "      <td>Thursday</td>\n",
       "      <td>1602</td>\n",
       "      <td>20190425160200</td>\n",
       "      <td>23</td>\n",
       "      <td>Left turn, same roadway</td>\n",
       "      <td>2</td>\n",
       "      <td>19</td>\n",
       "      <td>Failed to yield right of way</td>\n",
       "      <td>0</td>\n",
       "      <td></td>\n",
       "      <td>35.048298</td>\n",
       "      <td>-80.778692</td>\n",
       "      <td>NaN</td>\n",
       "    </tr>\n",
       "    <tr>\n",
       "      <th>2</th>\n",
       "      <td>2016-03-22</td>\n",
       "      <td>1.418835e+06</td>\n",
       "      <td>541631.050231</td>\n",
       "      <td>3747</td>\n",
       "      <td>766801</td>\n",
       "      <td>March</td>\n",
       "      <td>3</td>\n",
       "      <td>Tuesday</td>\n",
       "      <td>829</td>\n",
       "      <td>20160322082900</td>\n",
       "      <td>30</td>\n",
       "      <td>Angle</td>\n",
       "      <td>2</td>\n",
       "      <td>20</td>\n",
       "      <td>Inattention</td>\n",
       "      <td>0</td>\n",
       "      <td></td>\n",
       "      <td>35.222586</td>\n",
       "      <td>-80.946103</td>\n",
       "      <td>NaN</td>\n",
       "    </tr>\n",
       "    <tr>\n",
       "      <th>3</th>\n",
       "      <td>2020-07-17</td>\n",
       "      <td>1.476559e+06</td>\n",
       "      <td>539516.628356</td>\n",
       "      <td>3748</td>\n",
       "      <td>1033858</td>\n",
       "      <td>July</td>\n",
       "      <td>6</td>\n",
       "      <td>Friday</td>\n",
       "      <td>1730</td>\n",
       "      <td>20200717221400</td>\n",
       "      <td>2</td>\n",
       "      <td>Ran off road left</td>\n",
       "      <td>2</td>\n",
       "      <td>0</td>\n",
       "      <td>No contributing circumstance indicated</td>\n",
       "      <td>0</td>\n",
       "      <td></td>\n",
       "      <td>35.219732</td>\n",
       "      <td>-80.752722</td>\n",
       "      <td>NaN</td>\n",
       "    </tr>\n",
       "    <tr>\n",
       "      <th>4</th>\n",
       "      <td>2018-07-14</td>\n",
       "      <td>1.421123e+06</td>\n",
       "      <td>561005.398356</td>\n",
       "      <td>3749</td>\n",
       "      <td>902046</td>\n",
       "      <td>July</td>\n",
       "      <td>7</td>\n",
       "      <td>Saturday</td>\n",
       "      <td>2010</td>\n",
       "      <td>20180714201000</td>\n",
       "      <td>15</td>\n",
       "      <td>Pedalcyclist</td>\n",
       "      <td>1</td>\n",
       "      <td>0</td>\n",
       "      <td></td>\n",
       "      <td>0</td>\n",
       "      <td></td>\n",
       "      <td>35.275933</td>\n",
       "      <td>-80.939708</td>\n",
       "      <td>NaN</td>\n",
       "    </tr>\n",
       "  </tbody>\n",
       "</table>\n",
       "</div>"
      ],
      "text/plain": [
       "        DATE             X              Y  OBJECTID  CRSH_ID DATE_VAL_1  \\\n",
       "0 2016-06-09  1.425599e+06  519765.187106      3745   767965       June   \n",
       "1 2019-04-25  1.467687e+06  477272.897731      3746   945507      April   \n",
       "2 2016-03-22  1.418835e+06  541631.050231      3747   766801      March   \n",
       "3 2020-07-17  1.476559e+06  539516.628356      3748  1033858       July   \n",
       "4 2018-07-14  1.421123e+06  561005.398356      3749   902046       July   \n",
       "\n",
       "   DAY_OF_WEE DAY_OF_W_1  MILT_TIME        CASE_NUM  CRSH_TYPE_  \\\n",
       "0           5   Thursday       1750  20160609184900          14   \n",
       "1           5   Thursday       1602  20190425160200          23   \n",
       "2           3    Tuesday        829  20160322082900          30   \n",
       "3           6     Friday       1730  20200717221400           2   \n",
       "4           7   Saturday       2010  20180714201000          15   \n",
       "\n",
       "                CRASH_TYPE  CRSH_LEVL  PRIMARY_CA  \\\n",
       "0               Pedestrian          2          26   \n",
       "1  Left turn, same roadway          2          19   \n",
       "2                    Angle          2          20   \n",
       "3        Ran off road left          2           0   \n",
       "4             Pedalcyclist          1           0   \n",
       "\n",
       "                                          PRIMARY__1  SECONDARY_ SECONDARY1  \\\n",
       "0  Operated vehicle in erratic, reckless, careles...           0              \n",
       "1                       Failed to yield right of way           0              \n",
       "2                                        Inattention           0              \n",
       "3             No contributing circumstance indicated           0              \n",
       "4                                                              0              \n",
       "\n",
       "    LATITUDE  LONGITUDE  StreetID  \n",
       "0  35.162879 -80.922041       NaN  \n",
       "1  35.048298 -80.778692       NaN  \n",
       "2  35.222586 -80.946103       NaN  \n",
       "3  35.219732 -80.752722       NaN  \n",
       "4  35.275933 -80.939708       NaN  "
      ]
     },
     "execution_count": 71,
     "metadata": {},
     "output_type": "execute_result"
    }
   ],
   "source": [
    "clt_df.head()"
   ]
  },
  {
   "cell_type": "code",
   "execution_count": 72,
   "metadata": {},
   "outputs": [
    {
     "data": {
      "application/vnd.plotly.v1+json": {
       "config": {
        "plotlyServerURL": "https://plot.ly"
       },
       "data": [
        {
         "hovertemplate": "LATITUDE=%{lat}<br>LONGITUDE=%{lon}<extra></extra>",
         "lat": [
          35.162879,
          35.048298,
          35.222586,
          35.219732,
          35.275933,
          35.274158,
          35.306841,
          35.14532,
          35.238151,
          35.213099,
          35.350446,
          35.292667,
          35.08158,
          35.245523,
          35.162656,
          35.117331,
          35.215638,
          35.237775,
          35.233496,
          35.258236,
          35.212942,
          35.258174,
          35.194963,
          35.258042,
          35.146249,
          35.297887,
          35.224546,
          35.21174,
          35.317618,
          35.136421,
          35.20316,
          35.282217,
          35.25229,
          35.23938,
          35.229701,
          35.195283,
          35.23537,
          35.334611,
          35.256205,
          35.3086893,
          35.259453,
          35.210388,
          35.221556,
          35.286781,
          35.210189,
          35.290318,
          35.266029,
          35.293654,
          35.278453,
          35.359778,
          35.260141,
          35.204956,
          35.339187,
          35.20301,
          35.239207,
          35.343202,
          35.267153,
          35.310237,
          35.117427,
          35.20247,
          35.185917,
          35.343195,
          35.231585,
          35.24797,
          35.227891,
          35.180126,
          35.109605,
          35.245504,
          35.224275,
          35.250095,
          35.140779,
          35.115012,
          35.273346,
          35.251384,
          35.272,
          35.161711,
          35.231193,
          35.188731,
          35.146096,
          35.084092,
          35.187462,
          35.281793,
          35.2799981,
          35.234193,
          35.233669,
          35.247908,
          35.22946,
          35.346421,
          35.129607,
          35.238366,
          35.2629919,
          35.28796,
          35.258087,
          35.238705,
          35.323236,
          35.214972,
          35.260964,
          35.212042,
          35.245365,
          35.275008,
          35.201394,
          35.204444,
          35.191017,
          35.220088,
          35.220277,
          35.169279,
          35.215613,
          35.263501,
          35.087694,
          35.256843,
          35.301066,
          35.232086,
          35.340913,
          35.12335,
          35.268529,
          35.324221,
          35.296616,
          35.21151,
          35.241004,
          35.22076,
          35.310722,
          35.209318,
          35.186781,
          35.1174334,
          35.263461,
          35.058741,
          35.255566,
          35.308894,
          35.157559,
          35.175597,
          35.203481,
          35.13461,
          35.259878,
          35.309216,
          35.25126,
          35.162626,
          35.17733,
          35.347633,
          35.230398,
          35.2342091,
          35.334593,
          35.243183,
          35.2040147,
          35.224526,
          35.2647,
          35.245322,
          35.306552,
          35.296562,
          35.221022,
          35.251753,
          35.187382,
          35.226638,
          35.274212,
          35.220049,
          35.154666,
          35.215618,
          35.174687,
          35.224213,
          35.176572,
          35.242582,
          35.271056,
          35.23962,
          35.31211,
          35.099353,
          35.244274,
          35.216324,
          35.236746,
          35.267226,
          35.27198,
          35.31625,
          35.195311,
          35.20297,
          35.244553,
          35.223491,
          35.200591,
          35.240239,
          35.20313,
          35.148168,
          35.307648,
          35.313979,
          35.252946,
          35.253633,
          35.307798,
          35.291065,
          35.203434,
          35.2658739,
          35.232894,
          35.267219,
          35.204648,
          35.227876,
          35.187315,
          35.2273101,
          35.210151,
          35.124586,
          35.217764,
          35.25365,
          35.19875,
          35.083603,
          35.158005,
          35.091147,
          35.224357,
          35.18072,
          35.253954,
          35.220815,
          35.245869,
          35.099617,
          35.25294,
          35.16879,
          35.209695,
          35.249583,
          35.244874,
          35.271008,
          35.064388,
          35.242684,
          35.315193,
          35.249317,
          35.331752,
          35.185103,
          35.261078,
          35.260496,
          35.238071,
          35.035119,
          35.3092287,
          35.189835,
          35.058122,
          35.251564,
          35.265585,
          35.211554,
          35.179101,
          35.228132,
          35.265813,
          35.246242,
          35.24538,
          35.335775,
          35.211467,
          35.264653,
          35.201432,
          35.147124,
          35.107885,
          35.157554,
          35.138274,
          35.303034,
          35.206089,
          35.134585,
          35.135808,
          35.197804,
          35.216151,
          35.202683,
          35.22633,
          35.258267,
          35.30432,
          35.26735,
          35.192111,
          35.140059,
          35.153135,
          35.203171,
          35.240921,
          35.24923,
          35.284006,
          35.305882,
          35.314696,
          35.204274,
          35.221748,
          35.237805,
          35.267449,
          35.16168,
          35.236418,
          35.245477,
          35.26658,
          35.194323,
          35.265437,
          35.335463,
          35.323714,
          35.257532,
          35.214698,
          35.194821,
          35.119692,
          35.29803,
          35.272929,
          35.170318,
          35.319297,
          35.229524,
          35.180358,
          35.239858,
          35.221572,
          35.201538,
          35.336996,
          35.054319,
          35.119946,
          35.22365,
          35.247745,
          35.345288,
          35.135953,
          35.065789,
          35.15051,
          35.178325,
          35.26431,
          35.246104,
          35.087595,
          35.245078,
          35.361067,
          35.224451,
          35.233403,
          35.244429,
          35.261283,
          35.332687,
          35.076668,
          35.299174,
          35.232157,
          35.26587,
          35.303779,
          35.24971,
          35.203572,
          35.08798,
          35.156825,
          35.258078,
          35.155622,
          35.283338,
          35.217668,
          35.206941,
          35.236988,
          35.10789,
          35.274548,
          35.228605,
          35.29102,
          35.23846,
          35.168108,
          35.17699,
          35.122355,
          35.150786,
          35.178811,
          35.309369,
          35.28228,
          35.183763,
          35.215142,
          35.152655,
          35.168182,
          35.26887,
          35.12112,
          35.293484,
          35.312258,
          35.225554,
          35.194317,
          35.087077,
          35.210135,
          35.086257,
          35.1191688,
          35.290669,
          35.033647,
          35.121346,
          35.234661,
          35.171927,
          35.280788,
          35.239003,
          35.228168,
          35.17621,
          35.123963,
          35.25987,
          35.178057,
          35.21073,
          35.276566,
          35.14285,
          35.258801,
          35.266384,
          35.264295,
          35.309319,
          35.187332,
          35.28073,
          35.24952,
          35.245865,
          35.221687,
          35.260518,
          35.163153,
          35.225398,
          35.161553,
          35.32105,
          35.272167,
          35.238004,
          35.213099,
          35.228216,
          35.326969,
          35.277417,
          35.2271967,
          35.214046,
          35.282858,
          35.204021,
          35.272881,
          35.247178,
          35.147199,
          35.142248,
          35.184016,
          35.268236,
          35.246283,
          35.242725,
          35.130483,
          35.268439,
          35.146893,
          35.169653,
          35.275913,
          35.110909,
          35.260185,
          35.29102,
          35.32105,
          35.211759,
          35.229631,
          35.223864,
          35.210313,
          35.245828,
          35.223592,
          35.28085,
          35.308265,
          35.249862,
          35.245498,
          35.336427,
          35.220666,
          35.175956,
          35.21562,
          35.225469,
          35.271095,
          35.22541,
          35.17989,
          35.213921,
          35.134584,
          35.214205,
          35.23899,
          35.290996,
          35.262151,
          35.294525,
          35.119359,
          35.237073,
          35.226936,
          35.131456,
          35.219162,
          35.227355,
          35.266973,
          35.074519,
          35.241441,
          35.19924,
          35.279734,
          35.175003,
          35.1968,
          35.319611,
          35.337874,
          35.18634,
          35.231211,
          35.294506,
          35.203827,
          35.114621,
          35.307938,
          35.190347,
          35.25563,
          35.144648,
          35.313293,
          35.216081,
          35.189904,
          35.276338,
          35.215419,
          35.209836,
          35.267111,
          35.225863,
          35.2753453,
          35.264882,
          35.267253,
          35.25467,
          35.204767,
          35.203942,
          35.135993,
          35.30503,
          35.298979,
          35.169914,
          35.283934,
          35.254217,
          35.296817,
          35.2806,
          35.138002,
          35.292549,
          35.230342,
          35.255002,
          35.221682,
          35.31522,
          35.346811,
          35.139988,
          35.167765,
          35.240906,
          35.155735,
          35.202863,
          35.264933,
          35.212134,
          35.13794,
          35.272143,
          35.238861,
          35.167393,
          35.264473,
          35.210975,
          35.190532,
          35.2194955,
          35.228207,
          35.251591,
          35.246087,
          35.182418,
          35.086629,
          35.224005,
          35.2294006,
          35.24591,
          35.200791,
          35.230105,
          35.185447,
          35.209713,
          35.20577,
          35.201244,
          35.279802,
          35.293839,
          35.280104,
          35.265789,
          35.292147,
          35.153611,
          35.159161,
          35.280783,
          35.245686,
          35.2002,
          35.223216,
          35.250204,
          35.30658,
          35.177969,
          35.176145,
          35.11574,
          35.245965,
          35.175824,
          35.25126,
          35.26661,
          35.254328,
          35.140086,
          35.275282,
          35.225032,
          35.283437,
          35.388232,
          35.290576,
          35.10024,
          35.214269,
          35.169608,
          35.118982,
          35.291625,
          35.222843,
          35.26246,
          35.258043,
          35.273595,
          35.213663,
          35.143668,
          35.234313,
          35.239424,
          35.25559,
          35.186328,
          35.173256,
          35.193599,
          35.276574,
          35.144558,
          35.273828,
          35.234828,
          35.347769,
          35.148896,
          35.363729,
          35.215643,
          35.2298831,
          35.272865,
          35.188545,
          35.17895,
          35.311556,
          35.229638,
          35.247324,
          35.165017,
          35.14848,
          35.211575,
          35.195796,
          35.101061,
          35.13783,
          35.076479,
          35.190987,
          35.289877,
          35.244598,
          35.123764,
          35.265459,
          35.289354,
          35.269208,
          35.242544,
          35.147817,
          35.217755,
          35.209652,
          35.202928,
          35.215226,
          35.239687,
          35.261396,
          35.235108,
          35.315214,
          35.321149,
          35.228772,
          35.258154,
          35.251682,
          35.1625779,
          35.235406,
          35.21942,
          35.214307,
          35.259579,
          35.326157,
          35.261946,
          35.239769,
          35.310203,
          35.283559,
          35.292084,
          35.213488,
          35.170002,
          35.285626,
          35.24954,
          35.211487,
          35.197264,
          35.206099,
          35.325422,
          35.267913,
          35.121371,
          35.193829,
          35.258166,
          35.14519,
          35.10655,
          35.289953,
          35.339292,
          35.171241,
          35.04367,
          35.27921,
          35.210427,
          35.202368,
          35.287505,
          35.261509,
          35.192512,
          35.342574,
          35.24919,
          35.135648,
          35.268269,
          35.172721,
          35.261277,
          35.208316,
          35.217484,
          35.284054,
          35.142855,
          35.282418,
          35.184251,
          35.180749,
          35.107442,
          35.241293,
          35.167079,
          35.286107,
          35.208249,
          35.234098,
          35.254545,
          35.221265,
          35.260671,
          35.332374,
          35.205682,
          35.136419,
          35.206057,
          35.174748,
          35.232852,
          35.24816,
          35.256981,
          35.192412,
          35.277668,
          35.221076,
          35.184779,
          35.099062,
          35.118072,
          35.244176,
          35.154771,
          35.240459,
          35.16251,
          35.327197,
          35.2662244,
          35.238664,
          35.225147,
          35.181972,
          35.152842,
          35.265458,
          35.240708,
          35.221217,
          35.196947,
          35.213421,
          35.284068,
          35.224384,
          35.224554,
          35.312687,
          35.203716,
          35.315414,
          35.317932,
          35.13688,
          35.169634,
          35.21776,
          35.187554,
          35.231791,
          35.21982,
          35.138653,
          35.245683,
          35.156805,
          35.2620542,
          35.093401,
          35.186002,
          35.222297,
          35.264895,
          35.262671,
          35.267672,
          35.309184,
          35.3163646,
          35.287505,
          35.27171,
          35.244256,
          35.234341,
          35.234009,
          35.188051,
          35.222712,
          35.087585,
          35.271581,
          35.125051,
          35.179033,
          35.206125,
          35.219264,
          35.230168,
          35.213892,
          35.2729,
          35.248681,
          35.228966,
          35.235174,
          35.197404,
          35.244515,
          35.211513,
          35.180664,
          35.221505,
          35.229894,
          35.22716,
          35.238021,
          35.233922,
          35.258328,
          35.264916,
          35.280193,
          35.2211497,
          35.240679,
          35.287708,
          35.045668,
          35.174828,
          35.295266,
          35.165527,
          35.291501,
          35.29069,
          35.21098,
          35.200951,
          35.219957,
          35.203441,
          35.33563,
          35.125307,
          35.241045,
          35.0700615,
          35.076313,
          35.185524,
          35.14948,
          35.261543,
          35.231329,
          35.292064,
          35.271063,
          35.254915,
          35.240611,
          35.232913,
          35.298963,
          35.152881,
          35.246851,
          35.119996,
          35.19532,
          35.290038,
          35.24583,
          35.301086,
          35.245855
         ],
         "legendgroup": "",
         "lon": [
          -80.922041,
          -80.778692,
          -80.946103,
          -80.752722,
          -80.939708,
          -80.958441,
          -80.851516,
          -80.89929,
          -80.746968,
          -80.856248,
          -80.8639,
          -80.796837,
          -80.772736,
          -80.89323,
          -80.849177,
          -80.957557,
          -80.923099,
          -80.891253,
          -80.895708,
          -80.788538,
          -80.766061,
          -80.726201,
          -80.82754,
          -80.782796,
          -80.895944,
          -80.89134,
          -80.854816,
          -80.907287,
          -80.824656,
          -80.977826,
          -80.723945,
          -80.914266,
          -80.9011,
          -80.842026,
          -80.75537,
          -80.83751,
          -80.94804,
          -80.715657,
          -80.902453,
          -80.8071116,
          -80.874202,
          -80.664468,
          -80.829194,
          -80.800843,
          -80.665256,
          -80.968061,
          -80.76916,
          -80.748023,
          -80.966352,
          -80.796959,
          -80.855204,
          -80.738509,
          -80.704777,
          -80.738753,
          -80.846426,
          -80.771395,
          -80.741068,
          -80.826129,
          -80.979326,
          -80.73076,
          -80.729992,
          -80.771075,
          -80.836829,
          -80.78503,
          -80.873492,
          -80.892801,
          -80.799336,
          -80.893239,
          -80.854605,
          -80.737024,
          -80.975391,
          -80.962839,
          -80.846608,
          -80.90009,
          -80.97248,
          -80.885811,
          -80.729559,
          -80.853021,
          -80.926843,
          -80.822961,
          -80.809824,
          -80.804868,
          -80.6831375,
          -80.769103,
          -80.842789,
          -80.829476,
          -80.84569,
          -80.898685,
          -80.941759,
          -80.776777,
          -80.854715,
          -80.85835,
          -80.784482,
          -80.737877,
          -80.73624,
          -80.807501,
          -80.819657,
          -80.857385,
          -80.896694,
          -80.950235,
          -80.872926,
          -80.719804,
          -80.963874,
          -80.8348,
          -80.826585,
          -80.805608,
          -80.780742,
          -80.795077,
          -80.853081,
          -80.778217,
          -80.986949,
          -80.923909,
          -80.718851,
          -80.945247,
          -80.731369,
          -80.946821,
          -80.741519,
          -80.899404,
          -80.921811,
          -80.851136,
          -80.826867,
          -80.916298,
          -80.766209,
          -80.8594571,
          -80.788779,
          -80.769754,
          -80.940801,
          -80.84024,
          -80.734035,
          -80.799393,
          -80.927156,
          -80.939353,
          -80.903239,
          -80.820052,
          -80.7473,
          -80.73947,
          -80.78398,
          -80.861194,
          -80.774494,
          -80.7684105,
          -80.962731,
          -80.73793,
          -80.7503553,
          -80.725391,
          -80.923805,
          -80.851351,
          -80.852689,
          -80.741484,
          -80.829988,
          -80.687203,
          -80.734807,
          -80.74728,
          -80.836003,
          -80.834803,
          -80.727126,
          -80.780754,
          -80.8714267,
          -80.888648,
          -80.745423,
          -80.779968,
          -80.7308,
          -80.91956,
          -80.70777,
          -81.007454,
          -80.841334,
          -80.923256,
          -80.735802,
          -80.930461,
          -80.850942,
          -80.885079,
          -80.709808,
          -80.738742,
          -80.84954,
          -80.724418,
          -80.831593,
          -80.924954,
          -80.74399,
          -80.725324,
          -80.75238,
          -80.700836,
          -80.736633,
          -80.903578,
          -80.844838,
          -80.903318,
          -80.967709,
          -80.8917019,
          -80.824005,
          -80.940455,
          -80.863408,
          -80.746462,
          -80.904414,
          -80.8452966,
          -80.662705,
          -80.944135,
          -80.873223,
          -80.90358,
          -80.719154,
          -80.81163,
          -80.734307,
          -80.775685,
          -80.897851,
          -80.889305,
          -80.8052,
          -80.810684,
          -80.813203,
          -80.972012,
          -80.843479,
          -80.80506,
          -80.874192,
          -80.772256,
          -80.831815,
          -80.794074,
          -80.784675,
          -80.938119,
          -80.740518,
          -80.737116,
          -80.742596,
          -80.757562,
          -80.843865,
          -80.73454,
          -80.799668,
          -80.861346,
          -80.8074975,
          -80.929209,
          -80.812452,
          -80.819348,
          -80.857052,
          -80.694934,
          -80.929456,
          -80.740033,
          -80.817881,
          -80.787596,
          -80.907429,
          -80.827669,
          -80.900923,
          -80.940418,
          -80.780174,
          -80.724339,
          -80.978658,
          -80.734025,
          -80.905407,
          -80.903965,
          -80.922169,
          -80.939295,
          -80.75921,
          -80.939651,
          -80.883729,
          -80.731848,
          -80.910124,
          -80.788281,
          -80.93763,
          -80.85024,
          -80.824213,
          -80.837268,
          -80.883836,
          -80.7240254,
          -80.927738,
          -80.897704,
          -80.772073,
          -80.703791,
          -80.76685,
          -80.803571,
          -80.750917,
          -80.919974,
          -80.879139,
          -80.74173,
          -80.794067,
          -80.893273,
          -80.929396,
          -80.873033,
          -80.816569,
          -80.754851,
          -80.94801,
          -80.831984,
          -80.688207,
          -80.788147,
          -80.773793,
          -80.978835,
          -80.885164,
          -80.709075,
          -80.951766,
          -80.924743,
          -80.753733,
          -80.885821,
          -80.822983,
          -80.825034,
          -80.842485,
          -80.769615,
          -80.995048,
          -80.706535,
          -80.785539,
          -80.760742,
          -80.758969,
          -80.84716,
          -80.7458,
          -80.891519,
          -80.752472,
          -80.852188,
          -80.857989,
          -80.792591,
          -80.797439,
          -80.896461,
          -80.832012,
          -80.877103,
          -80.876998,
          -80.800063,
          -80.755557,
          -80.980849,
          -80.833913,
          -80.837402,
          -80.72261,
          -80.813685,
          -80.799165,
          -80.99262,
          -80.7331,
          -80.783924,
          -80.989918,
          -80.745807,
          -80.923368,
          -80.919279,
          -80.822819,
          -80.978694,
          -80.793543,
          -80.846827,
          -80.96927,
          -80.91237,
          -80.964285,
          -80.800637,
          -80.883919,
          -80.836896,
          -80.882783,
          -80.974828,
          -80.9179,
          -80.751106,
          -80.775104,
          -80.728983,
          -80.804566,
          -80.794616,
          -80.949969,
          -80.816309,
          -80.829313,
          -80.682622,
          -80.873031,
          -80.81411,
          -80.920269,
          -80.811901,
          -80.9833398,
          -80.756991,
          -80.8055,
          -80.925687,
          -80.774645,
          -80.807505,
          -80.85653,
          -80.777358,
          -80.77529,
          -80.798489,
          -80.934885,
          -80.874742,
          -80.879626,
          -80.75685,
          -80.794703,
          -80.876488,
          -80.873075,
          -80.768195,
          -80.854432,
          -80.720576,
          -80.85296,
          -80.765691,
          -80.78106,
          -80.846236,
          -80.822436,
          -80.875867,
          -80.930309,
          -80.865135,
          -80.74235,
          -80.9398,
          -80.854272,
          -80.776527,
          -80.873489,
          -80.914457,
          -80.735779,
          -80.785323,
          -80.8430844,
          -80.855187,
          -80.857358,
          -80.752059,
          -80.765555,
          -80.786664,
          -80.74478,
          -80.785759,
          -80.756845,
          -80.794677,
          -80.899568,
          -80.833459,
          -80.875602,
          -80.744558,
          -80.744504,
          -80.837475,
          -80.941379,
          -80.899518,
          -80.960792,
          -80.725052,
          -80.9398,
          -80.761453,
          -80.91789,
          -80.741202,
          -80.679895,
          -80.893544,
          -80.770504,
          -80.820024,
          -80.720308,
          -80.780065,
          -80.893271,
          -80.710292,
          -80.831117,
          -80.838026,
          -80.841919,
          -80.843091,
          -80.936322,
          -80.72197,
          -80.752994,
          -80.87922,
          -80.782344,
          -80.771793,
          -80.827339,
          -80.96929,
          -80.878552,
          -80.975109,
          -80.95335,
          -80.74018,
          -80.836209,
          -80.94108,
          -80.797692,
          -80.746828,
          -80.83957,
          -80.747122,
          -80.796181,
          -80.7836,
          -80.684353,
          -80.718294,
          -80.726439,
          -80.951342,
          -80.706606,
          -80.82158,
          -80.87825,
          -80.931964,
          -80.76008,
          -80.963482,
          -80.844251,
          -80.823197,
          -80.87435,
          -80.742195,
          -80.702906,
          -80.846774,
          -80.925942,
          -80.855322,
          -80.841643,
          -80.757178,
          -80.794844,
          -80.908664,
          -80.793431,
          -80.940535,
          -80.919655,
          -80.779847,
          -80.940805,
          -80.750363,
          -80.783027,
          -80.85833,
          -80.6893,
          -80.809674,
          -80.763732,
          -80.77958,
          -80.725854,
          -80.786229,
          -80.738568,
          -80.796014,
          -80.752675,
          -80.873261,
          -80.849714,
          -80.74057,
          -80.895998,
          -80.974483,
          -80.755693,
          -80.84326,
          -80.775515,
          -80.725921,
          -80.795031,
          -80.762755,
          -80.93478,
          -80.854277,
          -80.884458,
          -80.826592,
          -80.87672,
          -80.686415,
          -80.762718,
          -80.8361558,
          -80.914473,
          -80.859413,
          -80.888787,
          -80.894125,
          -80.83568,
          -80.883231,
          -80.9244967,
          -80.956,
          -80.773771,
          -80.919086,
          -80.834779,
          -80.874171,
          -80.869209,
          -80.843687,
          -80.7662,
          -80.856558,
          -80.794149,
          -80.9273791,
          -80.796564,
          -80.794283,
          -80.726193,
          -80.856514,
          -80.791196,
          -80.88922,
          -80.852223,
          -80.886441,
          -80.749125,
          -80.851057,
          -80.756561,
          -80.926053,
          -80.893734,
          -80.75052,
          -80.7473,
          -80.881954,
          -80.888909,
          -80.934244,
          -80.854821,
          -80.862964,
          -80.895488,
          -80.782251,
          -80.96842,
          -80.993668,
          -80.772079,
          -80.904743,
          -80.927187,
          -80.770755,
          -80.705647,
          -80.87892,
          -80.783308,
          -80.81131,
          -80.805173,
          -80.721263,
          -80.770685,
          -80.654049,
          -80.9073,
          -80.765282,
          -80.896432,
          -80.852176,
          -80.793508,
          -80.728751,
          -80.834425,
          -80.852466,
          -80.823535,
          -80.975287,
          -80.825735,
          -80.923077,
          -80.8303235,
          -80.838792,
          -80.728682,
          -80.7238,
          -80.791207,
          -80.917875,
          -80.717074,
          -80.850261,
          -80.933959,
          -80.760467,
          -80.763196,
          -80.776393,
          -80.879305,
          -80.98911,
          -80.96386,
          -80.836901,
          -80.922782,
          -80.945087,
          -80.854188,
          -80.758357,
          -80.854091,
          -80.795147,
          -80.895491,
          -80.873412,
          -80.874148,
          -80.888256,
          -80.807415,
          -80.925567,
          -80.795048,
          -80.840868,
          -80.740565,
          -80.834421,
          -80.840834,
          -80.782817,
          -80.927448,
          -80.7527099,
          -80.945967,
          -80.77057,
          -80.854912,
          -80.932196,
          -80.862735,
          -80.849902,
          -80.656579,
          -80.745776,
          -80.763738,
          -80.737927,
          -80.768282,
          -80.795946,
          -80.921512,
          -80.781038,
          -80.89991,
          -80.876141,
          -80.922174,
          -80.858551,
          -80.837476,
          -80.949265,
          -80.794439,
          -80.78708,
          -80.87645,
          -80.978069,
          -80.76501,
          -80.877355,
          -80.745459,
          -80.807962,
          -80.89548,
          -80.664271,
          -80.803987,
          -80.794727,
          -80.84706,
          -80.779579,
          -80.879965,
          -80.766631,
          -80.891348,
          -80.854004,
          -80.859661,
          -80.877066,
          -80.897152,
          -80.854778,
          -80.771136,
          -80.876497,
          -80.779056,
          -80.761383,
          -80.889287,
          -80.881396,
          -80.796341,
          -80.908336,
          -80.76194,
          -80.798653,
          -80.738686,
          -80.779843,
          -80.883275,
          -80.898364,
          -80.810073,
          -80.726025,
          -80.977827,
          -80.922149,
          -80.895763,
          -80.756695,
          -80.907665,
          -80.836182,
          -80.931831,
          -80.796176,
          -80.826614,
          -80.730554,
          -80.98785,
          -80.984471,
          -80.860471,
          -80.747693,
          -80.918629,
          -80.968943,
          -80.713146,
          -80.7314991,
          -80.737883,
          -80.907536,
          -80.755195,
          -80.877331,
          -80.884197,
          -80.803161,
          -80.842638,
          -80.933364,
          -80.687113,
          -80.770679,
          -80.896085,
          -80.846972,
          -80.743182,
          -80.748604,
          -80.79666,
          -80.947739,
          -80.838978,
          -80.904683,
          -80.780711,
          -80.757558,
          -80.870683,
          -80.845438,
          -80.740513,
          -80.790942,
          -80.876246,
          -80.8793119,
          -80.991869,
          -80.923576,
          -80.835496,
          -80.902565,
          -80.854968,
          -80.769312,
          -80.718775,
          -80.7809565,
          -80.727462,
          -80.76065,
          -80.793367,
          -80.738616,
          -80.836146,
          -80.876817,
          -80.853083,
          -80.862895,
          -80.724149,
          -80.879003,
          -80.734937,
          -80.922029,
          -80.798324,
          -80.860398,
          -80.890029,
          -80.88514,
          -80.90449,
          -80.843027,
          -80.790032,
          -80.733931,
          -80.929024,
          -80.898368,
          -80.765975,
          -80.810624,
          -80.831432,
          -80.680903,
          -80.840943,
          -80.842434,
          -80.788243,
          -80.795009,
          -80.793639,
          -80.8338991,
          -80.939369,
          -80.825524,
          -80.847831,
          -80.820448,
          -80.7552,
          -80.835557,
          -80.837518,
          -80.757018,
          -80.686405,
          -80.82515,
          -80.780693,
          -80.834086,
          -80.827006,
          -80.833475,
          -80.737731,
          -80.7527362,
          -80.791479,
          -80.898954,
          -80.89282,
          -80.826483,
          -80.871629,
          -80.737726,
          -80.934111,
          -80.800758,
          -80.886658,
          -80.731376,
          -80.895156,
          -80.890116,
          -80.856784,
          -80.830997,
          -80.88384,
          -80.763353,
          -80.781164,
          -80.80566,
          -80.894001
         ],
         "marker": {
          "color": "#636efa"
         },
         "mode": "markers",
         "name": "",
         "showlegend": false,
         "subplot": "mapbox",
         "type": "scattermapbox"
        }
       ],
       "layout": {
        "legend": {
         "tracegroupgap": 0
        },
        "mapbox": {
         "accesstoken": "pk.eyJ1IjoiZWxheWVyIiwiYSI6ImNsM3RpYmlqczIyYnUzZGw4NTJhZGkwaWIifQ.qHTFFM_76ATKuVmNMfs8Kg",
         "center": {
          "lat": 35.225213405806436,
          "lon": -80.83144848916133
         },
         "domain": {
          "x": [
           0,
           1
          ],
          "y": [
           0,
           1
          ]
         },
         "zoom": 10
        },
        "margin": {
         "t": 60
        },
        "template": {
         "data": {
          "bar": [
           {
            "error_x": {
             "color": "#2a3f5f"
            },
            "error_y": {
             "color": "#2a3f5f"
            },
            "marker": {
             "line": {
              "color": "#E5ECF6",
              "width": 0.5
             },
             "pattern": {
              "fillmode": "overlay",
              "size": 10,
              "solidity": 0.2
             }
            },
            "type": "bar"
           }
          ],
          "barpolar": [
           {
            "marker": {
             "line": {
              "color": "#E5ECF6",
              "width": 0.5
             },
             "pattern": {
              "fillmode": "overlay",
              "size": 10,
              "solidity": 0.2
             }
            },
            "type": "barpolar"
           }
          ],
          "carpet": [
           {
            "aaxis": {
             "endlinecolor": "#2a3f5f",
             "gridcolor": "white",
             "linecolor": "white",
             "minorgridcolor": "white",
             "startlinecolor": "#2a3f5f"
            },
            "baxis": {
             "endlinecolor": "#2a3f5f",
             "gridcolor": "white",
             "linecolor": "white",
             "minorgridcolor": "white",
             "startlinecolor": "#2a3f5f"
            },
            "type": "carpet"
           }
          ],
          "choropleth": [
           {
            "colorbar": {
             "outlinewidth": 0,
             "ticks": ""
            },
            "type": "choropleth"
           }
          ],
          "contour": [
           {
            "colorbar": {
             "outlinewidth": 0,
             "ticks": ""
            },
            "colorscale": [
             [
              0,
              "#0d0887"
             ],
             [
              0.1111111111111111,
              "#46039f"
             ],
             [
              0.2222222222222222,
              "#7201a8"
             ],
             [
              0.3333333333333333,
              "#9c179e"
             ],
             [
              0.4444444444444444,
              "#bd3786"
             ],
             [
              0.5555555555555556,
              "#d8576b"
             ],
             [
              0.6666666666666666,
              "#ed7953"
             ],
             [
              0.7777777777777778,
              "#fb9f3a"
             ],
             [
              0.8888888888888888,
              "#fdca26"
             ],
             [
              1,
              "#f0f921"
             ]
            ],
            "type": "contour"
           }
          ],
          "contourcarpet": [
           {
            "colorbar": {
             "outlinewidth": 0,
             "ticks": ""
            },
            "type": "contourcarpet"
           }
          ],
          "heatmap": [
           {
            "colorbar": {
             "outlinewidth": 0,
             "ticks": ""
            },
            "colorscale": [
             [
              0,
              "#0d0887"
             ],
             [
              0.1111111111111111,
              "#46039f"
             ],
             [
              0.2222222222222222,
              "#7201a8"
             ],
             [
              0.3333333333333333,
              "#9c179e"
             ],
             [
              0.4444444444444444,
              "#bd3786"
             ],
             [
              0.5555555555555556,
              "#d8576b"
             ],
             [
              0.6666666666666666,
              "#ed7953"
             ],
             [
              0.7777777777777778,
              "#fb9f3a"
             ],
             [
              0.8888888888888888,
              "#fdca26"
             ],
             [
              1,
              "#f0f921"
             ]
            ],
            "type": "heatmap"
           }
          ],
          "heatmapgl": [
           {
            "colorbar": {
             "outlinewidth": 0,
             "ticks": ""
            },
            "colorscale": [
             [
              0,
              "#0d0887"
             ],
             [
              0.1111111111111111,
              "#46039f"
             ],
             [
              0.2222222222222222,
              "#7201a8"
             ],
             [
              0.3333333333333333,
              "#9c179e"
             ],
             [
              0.4444444444444444,
              "#bd3786"
             ],
             [
              0.5555555555555556,
              "#d8576b"
             ],
             [
              0.6666666666666666,
              "#ed7953"
             ],
             [
              0.7777777777777778,
              "#fb9f3a"
             ],
             [
              0.8888888888888888,
              "#fdca26"
             ],
             [
              1,
              "#f0f921"
             ]
            ],
            "type": "heatmapgl"
           }
          ],
          "histogram": [
           {
            "marker": {
             "pattern": {
              "fillmode": "overlay",
              "size": 10,
              "solidity": 0.2
             }
            },
            "type": "histogram"
           }
          ],
          "histogram2d": [
           {
            "colorbar": {
             "outlinewidth": 0,
             "ticks": ""
            },
            "colorscale": [
             [
              0,
              "#0d0887"
             ],
             [
              0.1111111111111111,
              "#46039f"
             ],
             [
              0.2222222222222222,
              "#7201a8"
             ],
             [
              0.3333333333333333,
              "#9c179e"
             ],
             [
              0.4444444444444444,
              "#bd3786"
             ],
             [
              0.5555555555555556,
              "#d8576b"
             ],
             [
              0.6666666666666666,
              "#ed7953"
             ],
             [
              0.7777777777777778,
              "#fb9f3a"
             ],
             [
              0.8888888888888888,
              "#fdca26"
             ],
             [
              1,
              "#f0f921"
             ]
            ],
            "type": "histogram2d"
           }
          ],
          "histogram2dcontour": [
           {
            "colorbar": {
             "outlinewidth": 0,
             "ticks": ""
            },
            "colorscale": [
             [
              0,
              "#0d0887"
             ],
             [
              0.1111111111111111,
              "#46039f"
             ],
             [
              0.2222222222222222,
              "#7201a8"
             ],
             [
              0.3333333333333333,
              "#9c179e"
             ],
             [
              0.4444444444444444,
              "#bd3786"
             ],
             [
              0.5555555555555556,
              "#d8576b"
             ],
             [
              0.6666666666666666,
              "#ed7953"
             ],
             [
              0.7777777777777778,
              "#fb9f3a"
             ],
             [
              0.8888888888888888,
              "#fdca26"
             ],
             [
              1,
              "#f0f921"
             ]
            ],
            "type": "histogram2dcontour"
           }
          ],
          "mesh3d": [
           {
            "colorbar": {
             "outlinewidth": 0,
             "ticks": ""
            },
            "type": "mesh3d"
           }
          ],
          "parcoords": [
           {
            "line": {
             "colorbar": {
              "outlinewidth": 0,
              "ticks": ""
             }
            },
            "type": "parcoords"
           }
          ],
          "pie": [
           {
            "automargin": true,
            "type": "pie"
           }
          ],
          "scatter": [
           {
            "marker": {
             "colorbar": {
              "outlinewidth": 0,
              "ticks": ""
             }
            },
            "type": "scatter"
           }
          ],
          "scatter3d": [
           {
            "line": {
             "colorbar": {
              "outlinewidth": 0,
              "ticks": ""
             }
            },
            "marker": {
             "colorbar": {
              "outlinewidth": 0,
              "ticks": ""
             }
            },
            "type": "scatter3d"
           }
          ],
          "scattercarpet": [
           {
            "marker": {
             "colorbar": {
              "outlinewidth": 0,
              "ticks": ""
             }
            },
            "type": "scattercarpet"
           }
          ],
          "scattergeo": [
           {
            "marker": {
             "colorbar": {
              "outlinewidth": 0,
              "ticks": ""
             }
            },
            "type": "scattergeo"
           }
          ],
          "scattergl": [
           {
            "marker": {
             "colorbar": {
              "outlinewidth": 0,
              "ticks": ""
             }
            },
            "type": "scattergl"
           }
          ],
          "scattermapbox": [
           {
            "marker": {
             "colorbar": {
              "outlinewidth": 0,
              "ticks": ""
             }
            },
            "type": "scattermapbox"
           }
          ],
          "scatterpolar": [
           {
            "marker": {
             "colorbar": {
              "outlinewidth": 0,
              "ticks": ""
             }
            },
            "type": "scatterpolar"
           }
          ],
          "scatterpolargl": [
           {
            "marker": {
             "colorbar": {
              "outlinewidth": 0,
              "ticks": ""
             }
            },
            "type": "scatterpolargl"
           }
          ],
          "scatterternary": [
           {
            "marker": {
             "colorbar": {
              "outlinewidth": 0,
              "ticks": ""
             }
            },
            "type": "scatterternary"
           }
          ],
          "surface": [
           {
            "colorbar": {
             "outlinewidth": 0,
             "ticks": ""
            },
            "colorscale": [
             [
              0,
              "#0d0887"
             ],
             [
              0.1111111111111111,
              "#46039f"
             ],
             [
              0.2222222222222222,
              "#7201a8"
             ],
             [
              0.3333333333333333,
              "#9c179e"
             ],
             [
              0.4444444444444444,
              "#bd3786"
             ],
             [
              0.5555555555555556,
              "#d8576b"
             ],
             [
              0.6666666666666666,
              "#ed7953"
             ],
             [
              0.7777777777777778,
              "#fb9f3a"
             ],
             [
              0.8888888888888888,
              "#fdca26"
             ],
             [
              1,
              "#f0f921"
             ]
            ],
            "type": "surface"
           }
          ],
          "table": [
           {
            "cells": {
             "fill": {
              "color": "#EBF0F8"
             },
             "line": {
              "color": "white"
             }
            },
            "header": {
             "fill": {
              "color": "#C8D4E3"
             },
             "line": {
              "color": "white"
             }
            },
            "type": "table"
           }
          ]
         },
         "layout": {
          "annotationdefaults": {
           "arrowcolor": "#2a3f5f",
           "arrowhead": 0,
           "arrowwidth": 1
          },
          "autotypenumbers": "strict",
          "coloraxis": {
           "colorbar": {
            "outlinewidth": 0,
            "ticks": ""
           }
          },
          "colorscale": {
           "diverging": [
            [
             0,
             "#8e0152"
            ],
            [
             0.1,
             "#c51b7d"
            ],
            [
             0.2,
             "#de77ae"
            ],
            [
             0.3,
             "#f1b6da"
            ],
            [
             0.4,
             "#fde0ef"
            ],
            [
             0.5,
             "#f7f7f7"
            ],
            [
             0.6,
             "#e6f5d0"
            ],
            [
             0.7,
             "#b8e186"
            ],
            [
             0.8,
             "#7fbc41"
            ],
            [
             0.9,
             "#4d9221"
            ],
            [
             1,
             "#276419"
            ]
           ],
           "sequential": [
            [
             0,
             "#0d0887"
            ],
            [
             0.1111111111111111,
             "#46039f"
            ],
            [
             0.2222222222222222,
             "#7201a8"
            ],
            [
             0.3333333333333333,
             "#9c179e"
            ],
            [
             0.4444444444444444,
             "#bd3786"
            ],
            [
             0.5555555555555556,
             "#d8576b"
            ],
            [
             0.6666666666666666,
             "#ed7953"
            ],
            [
             0.7777777777777778,
             "#fb9f3a"
            ],
            [
             0.8888888888888888,
             "#fdca26"
            ],
            [
             1,
             "#f0f921"
            ]
           ],
           "sequentialminus": [
            [
             0,
             "#0d0887"
            ],
            [
             0.1111111111111111,
             "#46039f"
            ],
            [
             0.2222222222222222,
             "#7201a8"
            ],
            [
             0.3333333333333333,
             "#9c179e"
            ],
            [
             0.4444444444444444,
             "#bd3786"
            ],
            [
             0.5555555555555556,
             "#d8576b"
            ],
            [
             0.6666666666666666,
             "#ed7953"
            ],
            [
             0.7777777777777778,
             "#fb9f3a"
            ],
            [
             0.8888888888888888,
             "#fdca26"
            ],
            [
             1,
             "#f0f921"
            ]
           ]
          },
          "colorway": [
           "#636efa",
           "#EF553B",
           "#00cc96",
           "#ab63fa",
           "#FFA15A",
           "#19d3f3",
           "#FF6692",
           "#B6E880",
           "#FF97FF",
           "#FECB52"
          ],
          "font": {
           "color": "#2a3f5f"
          },
          "geo": {
           "bgcolor": "white",
           "lakecolor": "white",
           "landcolor": "#E5ECF6",
           "showlakes": true,
           "showland": true,
           "subunitcolor": "white"
          },
          "hoverlabel": {
           "align": "left"
          },
          "hovermode": "closest",
          "mapbox": {
           "style": "light"
          },
          "paper_bgcolor": "white",
          "plot_bgcolor": "#E5ECF6",
          "polar": {
           "angularaxis": {
            "gridcolor": "white",
            "linecolor": "white",
            "ticks": ""
           },
           "bgcolor": "#E5ECF6",
           "radialaxis": {
            "gridcolor": "white",
            "linecolor": "white",
            "ticks": ""
           }
          },
          "scene": {
           "xaxis": {
            "backgroundcolor": "#E5ECF6",
            "gridcolor": "white",
            "gridwidth": 2,
            "linecolor": "white",
            "showbackground": true,
            "ticks": "",
            "zerolinecolor": "white"
           },
           "yaxis": {
            "backgroundcolor": "#E5ECF6",
            "gridcolor": "white",
            "gridwidth": 2,
            "linecolor": "white",
            "showbackground": true,
            "ticks": "",
            "zerolinecolor": "white"
           },
           "zaxis": {
            "backgroundcolor": "#E5ECF6",
            "gridcolor": "white",
            "gridwidth": 2,
            "linecolor": "white",
            "showbackground": true,
            "ticks": "",
            "zerolinecolor": "white"
           }
          },
          "shapedefaults": {
           "line": {
            "color": "#2a3f5f"
           }
          },
          "ternary": {
           "aaxis": {
            "gridcolor": "white",
            "linecolor": "white",
            "ticks": ""
           },
           "baxis": {
            "gridcolor": "white",
            "linecolor": "white",
            "ticks": ""
           },
           "bgcolor": "#E5ECF6",
           "caxis": {
            "gridcolor": "white",
            "linecolor": "white",
            "ticks": ""
           }
          },
          "title": {
           "x": 0.05
          },
          "xaxis": {
           "automargin": true,
           "gridcolor": "white",
           "linecolor": "white",
           "ticks": "",
           "title": {
            "standoff": 15
           },
           "zerolinecolor": "white",
           "zerolinewidth": 2
          },
          "yaxis": {
           "automargin": true,
           "gridcolor": "white",
           "linecolor": "white",
           "ticks": "",
           "title": {
            "standoff": 15
           },
           "zerolinecolor": "white",
           "zerolinewidth": 2
          }
         }
        }
       }
      },
      "text/html": [
       "<div>                            <div id=\"1a69b80b-bfe5-4da7-8ff3-79be58e300c3\" class=\"plotly-graph-div\" style=\"height:525px; width:100%;\"></div>            <script type=\"text/javascript\">                require([\"plotly\"], function(Plotly) {                    window.PLOTLYENV=window.PLOTLYENV || {};                                    if (document.getElementById(\"1a69b80b-bfe5-4da7-8ff3-79be58e300c3\")) {                    Plotly.newPlot(                        \"1a69b80b-bfe5-4da7-8ff3-79be58e300c3\",                        [{\"hovertemplate\":\"LATITUDE=%{lat}<br>LONGITUDE=%{lon}<extra></extra>\",\"lat\":[35.162879,35.048298,35.222586,35.219732,35.275933,35.274158,35.306841,35.14532,35.238151,35.213099,35.350446,35.292667,35.08158,35.245523,35.162656,35.117331,35.215638,35.237775,35.233496,35.258236,35.212942,35.258174,35.194963,35.258042,35.146249,35.297887,35.224546,35.21174,35.317618,35.136421,35.20316,35.282217,35.25229,35.23938,35.229701,35.195283,35.23537,35.334611,35.256205,35.3086893,35.259453,35.210388,35.221556,35.286781,35.210189,35.290318,35.266029,35.293654,35.278453,35.359778,35.260141,35.204956,35.339187,35.20301,35.239207,35.343202,35.267153,35.310237,35.117427,35.20247,35.185917,35.343195,35.231585,35.24797,35.227891,35.180126,35.109605,35.245504,35.224275,35.250095,35.140779,35.115012,35.273346,35.251384,35.272,35.161711,35.231193,35.188731,35.146096,35.084092,35.187462,35.281793,35.2799981,35.234193,35.233669,35.247908,35.22946,35.346421,35.129607,35.238366,35.2629919,35.28796,35.258087,35.238705,35.323236,35.214972,35.260964,35.212042,35.245365,35.275008,35.201394,35.204444,35.191017,35.220088,35.220277,35.169279,35.215613,35.263501,35.087694,35.256843,35.301066,35.232086,35.340913,35.12335,35.268529,35.324221,35.296616,35.21151,35.241004,35.22076,35.310722,35.209318,35.186781,35.1174334,35.263461,35.058741,35.255566,35.308894,35.157559,35.175597,35.203481,35.13461,35.259878,35.309216,35.25126,35.162626,35.17733,35.347633,35.230398,35.2342091,35.334593,35.243183,35.2040147,35.224526,35.2647,35.245322,35.306552,35.296562,35.221022,35.251753,35.187382,35.226638,35.274212,35.220049,35.154666,35.215618,35.174687,35.224213,35.176572,35.242582,35.271056,35.23962,35.31211,35.099353,35.244274,35.216324,35.236746,35.267226,35.27198,35.31625,35.195311,35.20297,35.244553,35.223491,35.200591,35.240239,35.20313,35.148168,35.307648,35.313979,35.252946,35.253633,35.307798,35.291065,35.203434,35.2658739,35.232894,35.267219,35.204648,35.227876,35.187315,35.2273101,35.210151,35.124586,35.217764,35.25365,35.19875,35.083603,35.158005,35.091147,35.224357,35.18072,35.253954,35.220815,35.245869,35.099617,35.25294,35.16879,35.209695,35.249583,35.244874,35.271008,35.064388,35.242684,35.315193,35.249317,35.331752,35.185103,35.261078,35.260496,35.238071,35.035119,35.3092287,35.189835,35.058122,35.251564,35.265585,35.211554,35.179101,35.228132,35.265813,35.246242,35.24538,35.335775,35.211467,35.264653,35.201432,35.147124,35.107885,35.157554,35.138274,35.303034,35.206089,35.134585,35.135808,35.197804,35.216151,35.202683,35.22633,35.258267,35.30432,35.26735,35.192111,35.140059,35.153135,35.203171,35.240921,35.24923,35.284006,35.305882,35.314696,35.204274,35.221748,35.237805,35.267449,35.16168,35.236418,35.245477,35.26658,35.194323,35.265437,35.335463,35.323714,35.257532,35.214698,35.194821,35.119692,35.29803,35.272929,35.170318,35.319297,35.229524,35.180358,35.239858,35.221572,35.201538,35.336996,35.054319,35.119946,35.22365,35.247745,35.345288,35.135953,35.065789,35.15051,35.178325,35.26431,35.246104,35.087595,35.245078,35.361067,35.224451,35.233403,35.244429,35.261283,35.332687,35.076668,35.299174,35.232157,35.26587,35.303779,35.24971,35.203572,35.08798,35.156825,35.258078,35.155622,35.283338,35.217668,35.206941,35.236988,35.10789,35.274548,35.228605,35.29102,35.23846,35.168108,35.17699,35.122355,35.150786,35.178811,35.309369,35.28228,35.183763,35.215142,35.152655,35.168182,35.26887,35.12112,35.293484,35.312258,35.225554,35.194317,35.087077,35.210135,35.086257,35.1191688,35.290669,35.033647,35.121346,35.234661,35.171927,35.280788,35.239003,35.228168,35.17621,35.123963,35.25987,35.178057,35.21073,35.276566,35.14285,35.258801,35.266384,35.264295,35.309319,35.187332,35.28073,35.24952,35.245865,35.221687,35.260518,35.163153,35.225398,35.161553,35.32105,35.272167,35.238004,35.213099,35.228216,35.326969,35.277417,35.2271967,35.214046,35.282858,35.204021,35.272881,35.247178,35.147199,35.142248,35.184016,35.268236,35.246283,35.242725,35.130483,35.268439,35.146893,35.169653,35.275913,35.110909,35.260185,35.29102,35.32105,35.211759,35.229631,35.223864,35.210313,35.245828,35.223592,35.28085,35.308265,35.249862,35.245498,35.336427,35.220666,35.175956,35.21562,35.225469,35.271095,35.22541,35.17989,35.213921,35.134584,35.214205,35.23899,35.290996,35.262151,35.294525,35.119359,35.237073,35.226936,35.131456,35.219162,35.227355,35.266973,35.074519,35.241441,35.19924,35.279734,35.175003,35.1968,35.319611,35.337874,35.18634,35.231211,35.294506,35.203827,35.114621,35.307938,35.190347,35.25563,35.144648,35.313293,35.216081,35.189904,35.276338,35.215419,35.209836,35.267111,35.225863,35.2753453,35.264882,35.267253,35.25467,35.204767,35.203942,35.135993,35.30503,35.298979,35.169914,35.283934,35.254217,35.296817,35.2806,35.138002,35.292549,35.230342,35.255002,35.221682,35.31522,35.346811,35.139988,35.167765,35.240906,35.155735,35.202863,35.264933,35.212134,35.13794,35.272143,35.238861,35.167393,35.264473,35.210975,35.190532,35.2194955,35.228207,35.251591,35.246087,35.182418,35.086629,35.224005,35.2294006,35.24591,35.200791,35.230105,35.185447,35.209713,35.20577,35.201244,35.279802,35.293839,35.280104,35.265789,35.292147,35.153611,35.159161,35.280783,35.245686,35.2002,35.223216,35.250204,35.30658,35.177969,35.176145,35.11574,35.245965,35.175824,35.25126,35.26661,35.254328,35.140086,35.275282,35.225032,35.283437,35.388232,35.290576,35.10024,35.214269,35.169608,35.118982,35.291625,35.222843,35.26246,35.258043,35.273595,35.213663,35.143668,35.234313,35.239424,35.25559,35.186328,35.173256,35.193599,35.276574,35.144558,35.273828,35.234828,35.347769,35.148896,35.363729,35.215643,35.2298831,35.272865,35.188545,35.17895,35.311556,35.229638,35.247324,35.165017,35.14848,35.211575,35.195796,35.101061,35.13783,35.076479,35.190987,35.289877,35.244598,35.123764,35.265459,35.289354,35.269208,35.242544,35.147817,35.217755,35.209652,35.202928,35.215226,35.239687,35.261396,35.235108,35.315214,35.321149,35.228772,35.258154,35.251682,35.1625779,35.235406,35.21942,35.214307,35.259579,35.326157,35.261946,35.239769,35.310203,35.283559,35.292084,35.213488,35.170002,35.285626,35.24954,35.211487,35.197264,35.206099,35.325422,35.267913,35.121371,35.193829,35.258166,35.14519,35.10655,35.289953,35.339292,35.171241,35.04367,35.27921,35.210427,35.202368,35.287505,35.261509,35.192512,35.342574,35.24919,35.135648,35.268269,35.172721,35.261277,35.208316,35.217484,35.284054,35.142855,35.282418,35.184251,35.180749,35.107442,35.241293,35.167079,35.286107,35.208249,35.234098,35.254545,35.221265,35.260671,35.332374,35.205682,35.136419,35.206057,35.174748,35.232852,35.24816,35.256981,35.192412,35.277668,35.221076,35.184779,35.099062,35.118072,35.244176,35.154771,35.240459,35.16251,35.327197,35.2662244,35.238664,35.225147,35.181972,35.152842,35.265458,35.240708,35.221217,35.196947,35.213421,35.284068,35.224384,35.224554,35.312687,35.203716,35.315414,35.317932,35.13688,35.169634,35.21776,35.187554,35.231791,35.21982,35.138653,35.245683,35.156805,35.2620542,35.093401,35.186002,35.222297,35.264895,35.262671,35.267672,35.309184,35.3163646,35.287505,35.27171,35.244256,35.234341,35.234009,35.188051,35.222712,35.087585,35.271581,35.125051,35.179033,35.206125,35.219264,35.230168,35.213892,35.2729,35.248681,35.228966,35.235174,35.197404,35.244515,35.211513,35.180664,35.221505,35.229894,35.22716,35.238021,35.233922,35.258328,35.264916,35.280193,35.2211497,35.240679,35.287708,35.045668,35.174828,35.295266,35.165527,35.291501,35.29069,35.21098,35.200951,35.219957,35.203441,35.33563,35.125307,35.241045,35.0700615,35.076313,35.185524,35.14948,35.261543,35.231329,35.292064,35.271063,35.254915,35.240611,35.232913,35.298963,35.152881,35.246851,35.119996,35.19532,35.290038,35.24583,35.301086,35.245855],\"legendgroup\":\"\",\"lon\":[-80.922041,-80.778692,-80.946103,-80.752722,-80.939708,-80.958441,-80.851516,-80.89929,-80.746968,-80.856248,-80.8639,-80.796837,-80.772736,-80.89323,-80.849177,-80.957557,-80.923099,-80.891253,-80.895708,-80.788538,-80.766061,-80.726201,-80.82754,-80.782796,-80.895944,-80.89134,-80.854816,-80.907287,-80.824656,-80.977826,-80.723945,-80.914266,-80.9011,-80.842026,-80.75537,-80.83751,-80.94804,-80.715657,-80.902453,-80.8071116,-80.874202,-80.664468,-80.829194,-80.800843,-80.665256,-80.968061,-80.76916,-80.748023,-80.966352,-80.796959,-80.855204,-80.738509,-80.704777,-80.738753,-80.846426,-80.771395,-80.741068,-80.826129,-80.979326,-80.73076,-80.729992,-80.771075,-80.836829,-80.78503,-80.873492,-80.892801,-80.799336,-80.893239,-80.854605,-80.737024,-80.975391,-80.962839,-80.846608,-80.90009,-80.97248,-80.885811,-80.729559,-80.853021,-80.926843,-80.822961,-80.809824,-80.804868,-80.6831375,-80.769103,-80.842789,-80.829476,-80.84569,-80.898685,-80.941759,-80.776777,-80.854715,-80.85835,-80.784482,-80.737877,-80.73624,-80.807501,-80.819657,-80.857385,-80.896694,-80.950235,-80.872926,-80.719804,-80.963874,-80.8348,-80.826585,-80.805608,-80.780742,-80.795077,-80.853081,-80.778217,-80.986949,-80.923909,-80.718851,-80.945247,-80.731369,-80.946821,-80.741519,-80.899404,-80.921811,-80.851136,-80.826867,-80.916298,-80.766209,-80.8594571,-80.788779,-80.769754,-80.940801,-80.84024,-80.734035,-80.799393,-80.927156,-80.939353,-80.903239,-80.820052,-80.7473,-80.73947,-80.78398,-80.861194,-80.774494,-80.7684105,-80.962731,-80.73793,-80.7503553,-80.725391,-80.923805,-80.851351,-80.852689,-80.741484,-80.829988,-80.687203,-80.734807,-80.74728,-80.836003,-80.834803,-80.727126,-80.780754,-80.8714267,-80.888648,-80.745423,-80.779968,-80.7308,-80.91956,-80.70777,-81.007454,-80.841334,-80.923256,-80.735802,-80.930461,-80.850942,-80.885079,-80.709808,-80.738742,-80.84954,-80.724418,-80.831593,-80.924954,-80.74399,-80.725324,-80.75238,-80.700836,-80.736633,-80.903578,-80.844838,-80.903318,-80.967709,-80.8917019,-80.824005,-80.940455,-80.863408,-80.746462,-80.904414,-80.8452966,-80.662705,-80.944135,-80.873223,-80.90358,-80.719154,-80.81163,-80.734307,-80.775685,-80.897851,-80.889305,-80.8052,-80.810684,-80.813203,-80.972012,-80.843479,-80.80506,-80.874192,-80.772256,-80.831815,-80.794074,-80.784675,-80.938119,-80.740518,-80.737116,-80.742596,-80.757562,-80.843865,-80.73454,-80.799668,-80.861346,-80.8074975,-80.929209,-80.812452,-80.819348,-80.857052,-80.694934,-80.929456,-80.740033,-80.817881,-80.787596,-80.907429,-80.827669,-80.900923,-80.940418,-80.780174,-80.724339,-80.978658,-80.734025,-80.905407,-80.903965,-80.922169,-80.939295,-80.75921,-80.939651,-80.883729,-80.731848,-80.910124,-80.788281,-80.93763,-80.85024,-80.824213,-80.837268,-80.883836,-80.7240254,-80.927738,-80.897704,-80.772073,-80.703791,-80.76685,-80.803571,-80.750917,-80.919974,-80.879139,-80.74173,-80.794067,-80.893273,-80.929396,-80.873033,-80.816569,-80.754851,-80.94801,-80.831984,-80.688207,-80.788147,-80.773793,-80.978835,-80.885164,-80.709075,-80.951766,-80.924743,-80.753733,-80.885821,-80.822983,-80.825034,-80.842485,-80.769615,-80.995048,-80.706535,-80.785539,-80.760742,-80.758969,-80.84716,-80.7458,-80.891519,-80.752472,-80.852188,-80.857989,-80.792591,-80.797439,-80.896461,-80.832012,-80.877103,-80.876998,-80.800063,-80.755557,-80.980849,-80.833913,-80.837402,-80.72261,-80.813685,-80.799165,-80.99262,-80.7331,-80.783924,-80.989918,-80.745807,-80.923368,-80.919279,-80.822819,-80.978694,-80.793543,-80.846827,-80.96927,-80.91237,-80.964285,-80.800637,-80.883919,-80.836896,-80.882783,-80.974828,-80.9179,-80.751106,-80.775104,-80.728983,-80.804566,-80.794616,-80.949969,-80.816309,-80.829313,-80.682622,-80.873031,-80.81411,-80.920269,-80.811901,-80.9833398,-80.756991,-80.8055,-80.925687,-80.774645,-80.807505,-80.85653,-80.777358,-80.77529,-80.798489,-80.934885,-80.874742,-80.879626,-80.75685,-80.794703,-80.876488,-80.873075,-80.768195,-80.854432,-80.720576,-80.85296,-80.765691,-80.78106,-80.846236,-80.822436,-80.875867,-80.930309,-80.865135,-80.74235,-80.9398,-80.854272,-80.776527,-80.873489,-80.914457,-80.735779,-80.785323,-80.8430844,-80.855187,-80.857358,-80.752059,-80.765555,-80.786664,-80.74478,-80.785759,-80.756845,-80.794677,-80.899568,-80.833459,-80.875602,-80.744558,-80.744504,-80.837475,-80.941379,-80.899518,-80.960792,-80.725052,-80.9398,-80.761453,-80.91789,-80.741202,-80.679895,-80.893544,-80.770504,-80.820024,-80.720308,-80.780065,-80.893271,-80.710292,-80.831117,-80.838026,-80.841919,-80.843091,-80.936322,-80.72197,-80.752994,-80.87922,-80.782344,-80.771793,-80.827339,-80.96929,-80.878552,-80.975109,-80.95335,-80.74018,-80.836209,-80.94108,-80.797692,-80.746828,-80.83957,-80.747122,-80.796181,-80.7836,-80.684353,-80.718294,-80.726439,-80.951342,-80.706606,-80.82158,-80.87825,-80.931964,-80.76008,-80.963482,-80.844251,-80.823197,-80.87435,-80.742195,-80.702906,-80.846774,-80.925942,-80.855322,-80.841643,-80.757178,-80.794844,-80.908664,-80.793431,-80.940535,-80.919655,-80.779847,-80.940805,-80.750363,-80.783027,-80.85833,-80.6893,-80.809674,-80.763732,-80.77958,-80.725854,-80.786229,-80.738568,-80.796014,-80.752675,-80.873261,-80.849714,-80.74057,-80.895998,-80.974483,-80.755693,-80.84326,-80.775515,-80.725921,-80.795031,-80.762755,-80.93478,-80.854277,-80.884458,-80.826592,-80.87672,-80.686415,-80.762718,-80.8361558,-80.914473,-80.859413,-80.888787,-80.894125,-80.83568,-80.883231,-80.9244967,-80.956,-80.773771,-80.919086,-80.834779,-80.874171,-80.869209,-80.843687,-80.7662,-80.856558,-80.794149,-80.9273791,-80.796564,-80.794283,-80.726193,-80.856514,-80.791196,-80.88922,-80.852223,-80.886441,-80.749125,-80.851057,-80.756561,-80.926053,-80.893734,-80.75052,-80.7473,-80.881954,-80.888909,-80.934244,-80.854821,-80.862964,-80.895488,-80.782251,-80.96842,-80.993668,-80.772079,-80.904743,-80.927187,-80.770755,-80.705647,-80.87892,-80.783308,-80.81131,-80.805173,-80.721263,-80.770685,-80.654049,-80.9073,-80.765282,-80.896432,-80.852176,-80.793508,-80.728751,-80.834425,-80.852466,-80.823535,-80.975287,-80.825735,-80.923077,-80.8303235,-80.838792,-80.728682,-80.7238,-80.791207,-80.917875,-80.717074,-80.850261,-80.933959,-80.760467,-80.763196,-80.776393,-80.879305,-80.98911,-80.96386,-80.836901,-80.922782,-80.945087,-80.854188,-80.758357,-80.854091,-80.795147,-80.895491,-80.873412,-80.874148,-80.888256,-80.807415,-80.925567,-80.795048,-80.840868,-80.740565,-80.834421,-80.840834,-80.782817,-80.927448,-80.7527099,-80.945967,-80.77057,-80.854912,-80.932196,-80.862735,-80.849902,-80.656579,-80.745776,-80.763738,-80.737927,-80.768282,-80.795946,-80.921512,-80.781038,-80.89991,-80.876141,-80.922174,-80.858551,-80.837476,-80.949265,-80.794439,-80.78708,-80.87645,-80.978069,-80.76501,-80.877355,-80.745459,-80.807962,-80.89548,-80.664271,-80.803987,-80.794727,-80.84706,-80.779579,-80.879965,-80.766631,-80.891348,-80.854004,-80.859661,-80.877066,-80.897152,-80.854778,-80.771136,-80.876497,-80.779056,-80.761383,-80.889287,-80.881396,-80.796341,-80.908336,-80.76194,-80.798653,-80.738686,-80.779843,-80.883275,-80.898364,-80.810073,-80.726025,-80.977827,-80.922149,-80.895763,-80.756695,-80.907665,-80.836182,-80.931831,-80.796176,-80.826614,-80.730554,-80.98785,-80.984471,-80.860471,-80.747693,-80.918629,-80.968943,-80.713146,-80.7314991,-80.737883,-80.907536,-80.755195,-80.877331,-80.884197,-80.803161,-80.842638,-80.933364,-80.687113,-80.770679,-80.896085,-80.846972,-80.743182,-80.748604,-80.79666,-80.947739,-80.838978,-80.904683,-80.780711,-80.757558,-80.870683,-80.845438,-80.740513,-80.790942,-80.876246,-80.8793119,-80.991869,-80.923576,-80.835496,-80.902565,-80.854968,-80.769312,-80.718775,-80.7809565,-80.727462,-80.76065,-80.793367,-80.738616,-80.836146,-80.876817,-80.853083,-80.862895,-80.724149,-80.879003,-80.734937,-80.922029,-80.798324,-80.860398,-80.890029,-80.88514,-80.90449,-80.843027,-80.790032,-80.733931,-80.929024,-80.898368,-80.765975,-80.810624,-80.831432,-80.680903,-80.840943,-80.842434,-80.788243,-80.795009,-80.793639,-80.8338991,-80.939369,-80.825524,-80.847831,-80.820448,-80.7552,-80.835557,-80.837518,-80.757018,-80.686405,-80.82515,-80.780693,-80.834086,-80.827006,-80.833475,-80.737731,-80.7527362,-80.791479,-80.898954,-80.89282,-80.826483,-80.871629,-80.737726,-80.934111,-80.800758,-80.886658,-80.731376,-80.895156,-80.890116,-80.856784,-80.830997,-80.88384,-80.763353,-80.781164,-80.80566,-80.894001],\"marker\":{\"color\":\"#636efa\"},\"mode\":\"markers\",\"name\":\"\",\"showlegend\":false,\"subplot\":\"mapbox\",\"type\":\"scattermapbox\"}],                        {\"template\":{\"data\":{\"bar\":[{\"error_x\":{\"color\":\"#2a3f5f\"},\"error_y\":{\"color\":\"#2a3f5f\"},\"marker\":{\"line\":{\"color\":\"#E5ECF6\",\"width\":0.5},\"pattern\":{\"fillmode\":\"overlay\",\"size\":10,\"solidity\":0.2}},\"type\":\"bar\"}],\"barpolar\":[{\"marker\":{\"line\":{\"color\":\"#E5ECF6\",\"width\":0.5},\"pattern\":{\"fillmode\":\"overlay\",\"size\":10,\"solidity\":0.2}},\"type\":\"barpolar\"}],\"carpet\":[{\"aaxis\":{\"endlinecolor\":\"#2a3f5f\",\"gridcolor\":\"white\",\"linecolor\":\"white\",\"minorgridcolor\":\"white\",\"startlinecolor\":\"#2a3f5f\"},\"baxis\":{\"endlinecolor\":\"#2a3f5f\",\"gridcolor\":\"white\",\"linecolor\":\"white\",\"minorgridcolor\":\"white\",\"startlinecolor\":\"#2a3f5f\"},\"type\":\"carpet\"}],\"choropleth\":[{\"colorbar\":{\"outlinewidth\":0,\"ticks\":\"\"},\"type\":\"choropleth\"}],\"contour\":[{\"colorbar\":{\"outlinewidth\":0,\"ticks\":\"\"},\"colorscale\":[[0.0,\"#0d0887\"],[0.1111111111111111,\"#46039f\"],[0.2222222222222222,\"#7201a8\"],[0.3333333333333333,\"#9c179e\"],[0.4444444444444444,\"#bd3786\"],[0.5555555555555556,\"#d8576b\"],[0.6666666666666666,\"#ed7953\"],[0.7777777777777778,\"#fb9f3a\"],[0.8888888888888888,\"#fdca26\"],[1.0,\"#f0f921\"]],\"type\":\"contour\"}],\"contourcarpet\":[{\"colorbar\":{\"outlinewidth\":0,\"ticks\":\"\"},\"type\":\"contourcarpet\"}],\"heatmap\":[{\"colorbar\":{\"outlinewidth\":0,\"ticks\":\"\"},\"colorscale\":[[0.0,\"#0d0887\"],[0.1111111111111111,\"#46039f\"],[0.2222222222222222,\"#7201a8\"],[0.3333333333333333,\"#9c179e\"],[0.4444444444444444,\"#bd3786\"],[0.5555555555555556,\"#d8576b\"],[0.6666666666666666,\"#ed7953\"],[0.7777777777777778,\"#fb9f3a\"],[0.8888888888888888,\"#fdca26\"],[1.0,\"#f0f921\"]],\"type\":\"heatmap\"}],\"heatmapgl\":[{\"colorbar\":{\"outlinewidth\":0,\"ticks\":\"\"},\"colorscale\":[[0.0,\"#0d0887\"],[0.1111111111111111,\"#46039f\"],[0.2222222222222222,\"#7201a8\"],[0.3333333333333333,\"#9c179e\"],[0.4444444444444444,\"#bd3786\"],[0.5555555555555556,\"#d8576b\"],[0.6666666666666666,\"#ed7953\"],[0.7777777777777778,\"#fb9f3a\"],[0.8888888888888888,\"#fdca26\"],[1.0,\"#f0f921\"]],\"type\":\"heatmapgl\"}],\"histogram\":[{\"marker\":{\"pattern\":{\"fillmode\":\"overlay\",\"size\":10,\"solidity\":0.2}},\"type\":\"histogram\"}],\"histogram2d\":[{\"colorbar\":{\"outlinewidth\":0,\"ticks\":\"\"},\"colorscale\":[[0.0,\"#0d0887\"],[0.1111111111111111,\"#46039f\"],[0.2222222222222222,\"#7201a8\"],[0.3333333333333333,\"#9c179e\"],[0.4444444444444444,\"#bd3786\"],[0.5555555555555556,\"#d8576b\"],[0.6666666666666666,\"#ed7953\"],[0.7777777777777778,\"#fb9f3a\"],[0.8888888888888888,\"#fdca26\"],[1.0,\"#f0f921\"]],\"type\":\"histogram2d\"}],\"histogram2dcontour\":[{\"colorbar\":{\"outlinewidth\":0,\"ticks\":\"\"},\"colorscale\":[[0.0,\"#0d0887\"],[0.1111111111111111,\"#46039f\"],[0.2222222222222222,\"#7201a8\"],[0.3333333333333333,\"#9c179e\"],[0.4444444444444444,\"#bd3786\"],[0.5555555555555556,\"#d8576b\"],[0.6666666666666666,\"#ed7953\"],[0.7777777777777778,\"#fb9f3a\"],[0.8888888888888888,\"#fdca26\"],[1.0,\"#f0f921\"]],\"type\":\"histogram2dcontour\"}],\"mesh3d\":[{\"colorbar\":{\"outlinewidth\":0,\"ticks\":\"\"},\"type\":\"mesh3d\"}],\"parcoords\":[{\"line\":{\"colorbar\":{\"outlinewidth\":0,\"ticks\":\"\"}},\"type\":\"parcoords\"}],\"pie\":[{\"automargin\":true,\"type\":\"pie\"}],\"scatter\":[{\"marker\":{\"colorbar\":{\"outlinewidth\":0,\"ticks\":\"\"}},\"type\":\"scatter\"}],\"scatter3d\":[{\"line\":{\"colorbar\":{\"outlinewidth\":0,\"ticks\":\"\"}},\"marker\":{\"colorbar\":{\"outlinewidth\":0,\"ticks\":\"\"}},\"type\":\"scatter3d\"}],\"scattercarpet\":[{\"marker\":{\"colorbar\":{\"outlinewidth\":0,\"ticks\":\"\"}},\"type\":\"scattercarpet\"}],\"scattergeo\":[{\"marker\":{\"colorbar\":{\"outlinewidth\":0,\"ticks\":\"\"}},\"type\":\"scattergeo\"}],\"scattergl\":[{\"marker\":{\"colorbar\":{\"outlinewidth\":0,\"ticks\":\"\"}},\"type\":\"scattergl\"}],\"scattermapbox\":[{\"marker\":{\"colorbar\":{\"outlinewidth\":0,\"ticks\":\"\"}},\"type\":\"scattermapbox\"}],\"scatterpolar\":[{\"marker\":{\"colorbar\":{\"outlinewidth\":0,\"ticks\":\"\"}},\"type\":\"scatterpolar\"}],\"scatterpolargl\":[{\"marker\":{\"colorbar\":{\"outlinewidth\":0,\"ticks\":\"\"}},\"type\":\"scatterpolargl\"}],\"scatterternary\":[{\"marker\":{\"colorbar\":{\"outlinewidth\":0,\"ticks\":\"\"}},\"type\":\"scatterternary\"}],\"surface\":[{\"colorbar\":{\"outlinewidth\":0,\"ticks\":\"\"},\"colorscale\":[[0.0,\"#0d0887\"],[0.1111111111111111,\"#46039f\"],[0.2222222222222222,\"#7201a8\"],[0.3333333333333333,\"#9c179e\"],[0.4444444444444444,\"#bd3786\"],[0.5555555555555556,\"#d8576b\"],[0.6666666666666666,\"#ed7953\"],[0.7777777777777778,\"#fb9f3a\"],[0.8888888888888888,\"#fdca26\"],[1.0,\"#f0f921\"]],\"type\":\"surface\"}],\"table\":[{\"cells\":{\"fill\":{\"color\":\"#EBF0F8\"},\"line\":{\"color\":\"white\"}},\"header\":{\"fill\":{\"color\":\"#C8D4E3\"},\"line\":{\"color\":\"white\"}},\"type\":\"table\"}]},\"layout\":{\"annotationdefaults\":{\"arrowcolor\":\"#2a3f5f\",\"arrowhead\":0,\"arrowwidth\":1},\"autotypenumbers\":\"strict\",\"coloraxis\":{\"colorbar\":{\"outlinewidth\":0,\"ticks\":\"\"}},\"colorscale\":{\"diverging\":[[0,\"#8e0152\"],[0.1,\"#c51b7d\"],[0.2,\"#de77ae\"],[0.3,\"#f1b6da\"],[0.4,\"#fde0ef\"],[0.5,\"#f7f7f7\"],[0.6,\"#e6f5d0\"],[0.7,\"#b8e186\"],[0.8,\"#7fbc41\"],[0.9,\"#4d9221\"],[1,\"#276419\"]],\"sequential\":[[0.0,\"#0d0887\"],[0.1111111111111111,\"#46039f\"],[0.2222222222222222,\"#7201a8\"],[0.3333333333333333,\"#9c179e\"],[0.4444444444444444,\"#bd3786\"],[0.5555555555555556,\"#d8576b\"],[0.6666666666666666,\"#ed7953\"],[0.7777777777777778,\"#fb9f3a\"],[0.8888888888888888,\"#fdca26\"],[1.0,\"#f0f921\"]],\"sequentialminus\":[[0.0,\"#0d0887\"],[0.1111111111111111,\"#46039f\"],[0.2222222222222222,\"#7201a8\"],[0.3333333333333333,\"#9c179e\"],[0.4444444444444444,\"#bd3786\"],[0.5555555555555556,\"#d8576b\"],[0.6666666666666666,\"#ed7953\"],[0.7777777777777778,\"#fb9f3a\"],[0.8888888888888888,\"#fdca26\"],[1.0,\"#f0f921\"]]},\"colorway\":[\"#636efa\",\"#EF553B\",\"#00cc96\",\"#ab63fa\",\"#FFA15A\",\"#19d3f3\",\"#FF6692\",\"#B6E880\",\"#FF97FF\",\"#FECB52\"],\"font\":{\"color\":\"#2a3f5f\"},\"geo\":{\"bgcolor\":\"white\",\"lakecolor\":\"white\",\"landcolor\":\"#E5ECF6\",\"showlakes\":true,\"showland\":true,\"subunitcolor\":\"white\"},\"hoverlabel\":{\"align\":\"left\"},\"hovermode\":\"closest\",\"mapbox\":{\"style\":\"light\"},\"paper_bgcolor\":\"white\",\"plot_bgcolor\":\"#E5ECF6\",\"polar\":{\"angularaxis\":{\"gridcolor\":\"white\",\"linecolor\":\"white\",\"ticks\":\"\"},\"bgcolor\":\"#E5ECF6\",\"radialaxis\":{\"gridcolor\":\"white\",\"linecolor\":\"white\",\"ticks\":\"\"}},\"scene\":{\"xaxis\":{\"backgroundcolor\":\"#E5ECF6\",\"gridcolor\":\"white\",\"gridwidth\":2,\"linecolor\":\"white\",\"showbackground\":true,\"ticks\":\"\",\"zerolinecolor\":\"white\"},\"yaxis\":{\"backgroundcolor\":\"#E5ECF6\",\"gridcolor\":\"white\",\"gridwidth\":2,\"linecolor\":\"white\",\"showbackground\":true,\"ticks\":\"\",\"zerolinecolor\":\"white\"},\"zaxis\":{\"backgroundcolor\":\"#E5ECF6\",\"gridcolor\":\"white\",\"gridwidth\":2,\"linecolor\":\"white\",\"showbackground\":true,\"ticks\":\"\",\"zerolinecolor\":\"white\"}},\"shapedefaults\":{\"line\":{\"color\":\"#2a3f5f\"}},\"ternary\":{\"aaxis\":{\"gridcolor\":\"white\",\"linecolor\":\"white\",\"ticks\":\"\"},\"baxis\":{\"gridcolor\":\"white\",\"linecolor\":\"white\",\"ticks\":\"\"},\"bgcolor\":\"#E5ECF6\",\"caxis\":{\"gridcolor\":\"white\",\"linecolor\":\"white\",\"ticks\":\"\"}},\"title\":{\"x\":0.05},\"xaxis\":{\"automargin\":true,\"gridcolor\":\"white\",\"linecolor\":\"white\",\"ticks\":\"\",\"title\":{\"standoff\":15},\"zerolinecolor\":\"white\",\"zerolinewidth\":2},\"yaxis\":{\"automargin\":true,\"gridcolor\":\"white\",\"linecolor\":\"white\",\"ticks\":\"\",\"title\":{\"standoff\":15},\"zerolinecolor\":\"white\",\"zerolinewidth\":2}}},\"mapbox\":{\"domain\":{\"x\":[0.0,1.0],\"y\":[0.0,1.0]},\"center\":{\"lat\":35.225213405806436,\"lon\":-80.83144848916133},\"accesstoken\":\"pk.eyJ1IjoiZWxheWVyIiwiYSI6ImNsM3RpYmlqczIyYnUzZGw4NTJhZGkwaWIifQ.qHTFFM_76ATKuVmNMfs8Kg\",\"zoom\":10},\"legend\":{\"tracegroupgap\":0},\"margin\":{\"t\":60}},                        {\"responsive\": true}                    ).then(function(){\n",
       "                            \n",
       "var gd = document.getElementById('1a69b80b-bfe5-4da7-8ff3-79be58e300c3');\n",
       "var x = new MutationObserver(function (mutations, observer) {{\n",
       "        var display = window.getComputedStyle(gd).display;\n",
       "        if (!display || display === 'none') {{\n",
       "            console.log([gd, 'removed!']);\n",
       "            Plotly.purge(gd);\n",
       "            observer.disconnect();\n",
       "        }}\n",
       "}});\n",
       "\n",
       "// Listen for the removal of the full notebook cells\n",
       "var notebookContainer = gd.closest('#notebook-container');\n",
       "if (notebookContainer) {{\n",
       "    x.observe(notebookContainer, {childList: true});\n",
       "}}\n",
       "\n",
       "// Listen for the clearing of the current output cell\n",
       "var outputEl = gd.closest('.output');\n",
       "if (outputEl) {{\n",
       "    x.observe(outputEl, {childList: true});\n",
       "}}\n",
       "\n",
       "                        })                };                });            </script>        </div>"
      ]
     },
     "metadata": {},
     "output_type": "display_data"
    }
   ],
   "source": [
    "df = px.data.carshare()\n",
    "fig = px.scatter_mapbox(clt_df, lat=\"LATITUDE\", lon=\"LONGITUDE\",  \n",
    "                  color_continuous_scale=px.colors.cyclical.IceFire, size_max=15, zoom=10)\n",
    "fig.show()"
   ]
  },
  {
   "cell_type": "markdown",
   "metadata": {},
   "source": [
    "Would it become more visually appealing if we set color and size to the type of accident?"
   ]
  },
  {
   "cell_type": "code",
   "execution_count": 73,
   "metadata": {},
   "outputs": [
    {
     "data": {
      "application/vnd.plotly.v1+json": {
       "config": {
        "plotlyServerURL": "https://plot.ly"
       },
       "data": [
        {
         "hovertemplate": "CRASH_TYPE=Pedestrian<br>LATITUDE=%{lat}<br>LONGITUDE=%{lon}<extra></extra>",
         "lat": [
          35.162879,
          35.306841,
          35.292667,
          35.08158,
          35.117331,
          35.215638,
          35.237775,
          35.258042,
          35.146249,
          35.21174,
          35.25229,
          35.259453,
          35.210388,
          35.266029,
          35.293654,
          35.260141,
          35.204956,
          35.24797,
          35.245504,
          35.224275,
          35.115012,
          35.231193,
          35.146096,
          35.187462,
          35.233669,
          35.238366,
          35.2629919,
          35.258087,
          35.212042,
          35.275008,
          35.201394,
          35.204444,
          35.220088,
          35.296616,
          35.21151,
          35.241004,
          35.209318,
          35.175597,
          35.13461,
          35.162626,
          35.2040147,
          35.224213,
          35.176572,
          35.242582,
          35.271056,
          35.099353,
          35.244274,
          35.223491,
          35.20313,
          35.307798,
          35.232894,
          35.204648,
          35.124586,
          35.19875,
          35.158005,
          35.220815,
          35.238071,
          35.211554,
          35.335775,
          35.211467,
          35.140059,
          35.203171,
          35.240921,
          35.24923,
          35.284006,
          35.305882,
          35.204274,
          35.267449,
          35.245477,
          35.265437,
          35.335463,
          35.323714,
          35.214698,
          35.194821,
          35.319297,
          35.229524,
          35.247745,
          35.178325,
          35.244429,
          35.261283,
          35.076668,
          35.26587,
          35.303779,
          35.258078,
          35.228605,
          35.17699,
          35.122355,
          35.152655,
          35.26887,
          35.194317,
          35.210135,
          35.086257,
          35.171927,
          35.280788,
          35.276566,
          35.264295,
          35.28073,
          35.161553,
          35.326969,
          35.277417,
          35.214046,
          35.204021,
          35.247178,
          35.147199,
          35.184016,
          35.268236,
          35.268439,
          35.229631,
          35.210313,
          35.245828,
          35.28085,
          35.308265,
          35.249862,
          35.17989,
          35.214205,
          35.23899,
          35.131456,
          35.266973,
          35.074519,
          35.1968,
          35.18634,
          35.216081,
          35.276338,
          35.267111,
          35.204767,
          35.135993,
          35.254217,
          35.2806,
          35.138002,
          35.230342,
          35.240906,
          35.202863,
          35.13794,
          35.224005,
          35.201244,
          35.245965,
          35.175824,
          35.254328,
          35.388232,
          35.290576,
          35.10024,
          35.118982,
          35.26246,
          35.273595,
          35.276574,
          35.144558,
          35.148896,
          35.17895,
          35.229638,
          35.211575,
          35.195796,
          35.101061,
          35.289354,
          35.269208,
          35.242544,
          35.261396,
          35.228772,
          35.258154,
          35.1625779,
          35.326157,
          35.239769,
          35.283559,
          35.213488,
          35.24954,
          35.211487,
          35.325422,
          35.267913,
          35.258166,
          35.10655,
          35.289953,
          35.202368,
          35.261509,
          35.261277,
          35.217484,
          35.284054,
          35.184251,
          35.241293,
          35.286107,
          35.234098,
          35.254545,
          35.221076,
          35.154771,
          35.240459,
          35.16251,
          35.181972,
          35.152842,
          35.265458,
          35.284068,
          35.224384,
          35.21776,
          35.187554,
          35.21982,
          35.138653,
          35.245683,
          35.156805,
          35.186002,
          35.197404,
          35.180664,
          35.221505,
          35.229894,
          35.238021,
          35.258328,
          35.280193,
          35.295266,
          35.29069,
          35.271063,
          35.245855
         ],
         "legendgroup": "Pedestrian",
         "lon": [
          -80.922041,
          -80.851516,
          -80.796837,
          -80.772736,
          -80.957557,
          -80.923099,
          -80.891253,
          -80.782796,
          -80.895944,
          -80.907287,
          -80.9011,
          -80.874202,
          -80.664468,
          -80.76916,
          -80.748023,
          -80.855204,
          -80.738509,
          -80.78503,
          -80.893239,
          -80.854605,
          -80.962839,
          -80.729559,
          -80.926843,
          -80.809824,
          -80.842789,
          -80.776777,
          -80.854715,
          -80.784482,
          -80.857385,
          -80.950235,
          -80.872926,
          -80.719804,
          -80.8348,
          -80.741519,
          -80.899404,
          -80.921811,
          -80.916298,
          -80.799393,
          -80.939353,
          -80.73947,
          -80.7503553,
          -80.888648,
          -80.745423,
          -80.779968,
          -80.7308,
          -81.007454,
          -80.841334,
          -80.724418,
          -80.74399,
          -80.844838,
          -80.824005,
          -80.863408,
          -80.944135,
          -80.719154,
          -80.734307,
          -80.810684,
          -80.799668,
          -80.694934,
          -80.827669,
          -80.900923,
          -80.837268,
          -80.7240254,
          -80.927738,
          -80.897704,
          -80.772073,
          -80.703791,
          -80.803571,
          -80.879139,
          -80.893273,
          -80.816569,
          -80.754851,
          -80.94801,
          -80.688207,
          -80.788147,
          -80.951766,
          -80.924743,
          -80.785539,
          -80.891519,
          -80.877103,
          -80.876998,
          -80.755557,
          -80.837402,
          -80.72261,
          -80.783924,
          -80.846827,
          -80.800637,
          -80.883919,
          -80.728983,
          -80.794616,
          -80.873031,
          -80.920269,
          -80.811901,
          -80.807505,
          -80.85653,
          -80.794703,
          -80.854432,
          -80.765691,
          -80.74235,
          -80.735779,
          -80.785323,
          -80.855187,
          -80.752059,
          -80.786664,
          -80.74478,
          -80.756845,
          -80.794677,
          -80.744558,
          -80.91789,
          -80.679895,
          -80.893544,
          -80.820024,
          -80.720308,
          -80.780065,
          -80.752994,
          -80.771793,
          -80.827339,
          -80.94108,
          -80.83957,
          -80.747122,
          -80.726439,
          -80.82158,
          -80.846774,
          -80.855322,
          -80.794844,
          -80.940805,
          -80.783027,
          -80.77958,
          -80.786229,
          -80.738568,
          -80.752675,
          -80.84326,
          -80.725921,
          -80.93478,
          -80.883231,
          -80.843687,
          -80.893734,
          -80.75052,
          -80.888909,
          -80.782251,
          -80.96842,
          -80.993668,
          -80.927187,
          -80.87892,
          -80.81131,
          -80.793508,
          -80.728751,
          -80.975287,
          -80.7238,
          -80.917875,
          -80.760467,
          -80.763196,
          -80.776393,
          -80.758357,
          -80.854091,
          -80.795147,
          -80.795048,
          -80.840834,
          -80.782817,
          -80.7527099,
          -80.862735,
          -80.656579,
          -80.763738,
          -80.768282,
          -80.781038,
          -80.89991,
          -80.858551,
          -80.837476,
          -80.78708,
          -80.978069,
          -80.76501,
          -80.803987,
          -80.84706,
          -80.877066,
          -80.854778,
          -80.771136,
          -80.761383,
          -80.796341,
          -80.76194,
          -80.738686,
          -80.779843,
          -80.826614,
          -80.747693,
          -80.918629,
          -80.968943,
          -80.755195,
          -80.877331,
          -80.884197,
          -80.770679,
          -80.896085,
          -80.780711,
          -80.757558,
          -80.845438,
          -80.740513,
          -80.790942,
          -80.876246,
          -80.923576,
          -80.733931,
          -80.765975,
          -80.810624,
          -80.831432,
          -80.840943,
          -80.788243,
          -80.793639,
          -80.7552,
          -80.757018,
          -80.934111,
          -80.894001
         ],
         "marker": {
          "color": "#636efa"
         },
         "mode": "markers",
         "name": "Pedestrian",
         "showlegend": true,
         "subplot": "mapbox",
         "type": "scattermapbox"
        },
        {
         "hovertemplate": "CRASH_TYPE=Left turn, same roadway<br>LATITUDE=%{lat}<br>LONGITUDE=%{lon}<extra></extra>",
         "lat": [
          35.048298,
          35.274158,
          35.245523,
          35.212942,
          35.23537,
          35.20247,
          35.272,
          35.084092,
          35.247908,
          35.129607,
          35.324221,
          35.1174334,
          35.347633,
          35.230398,
          35.296562,
          35.215618,
          35.236746,
          35.217764,
          35.271008,
          35.331752,
          35.261078,
          35.264653,
          35.107885,
          35.206089,
          35.237805,
          35.239858,
          35.361067,
          35.224451,
          35.309369,
          35.033647,
          35.258801,
          35.260518,
          35.272167,
          35.228216,
          35.282858,
          35.262151,
          35.319611,
          35.313293,
          35.238861,
          35.2294006,
          35.26661,
          35.214269,
          35.234828,
          35.363729,
          35.311556,
          35.265459,
          35.235406,
          35.214307,
          35.310203,
          35.206099,
          35.121371,
          35.27921,
          35.172721,
          35.332374,
          35.174748,
          35.192412,
          35.221217,
          35.312687,
          35.222712,
          35.087585,
          35.179033,
          35.211513,
          35.203441,
          35.14948,
          35.119996
         ],
         "legendgroup": "Left turn, same roadway",
         "lon": [
          -80.778692,
          -80.958441,
          -80.89323,
          -80.766061,
          -80.94804,
          -80.73076,
          -80.97248,
          -80.822961,
          -80.829476,
          -80.941759,
          -80.946821,
          -80.8594571,
          -80.861194,
          -80.774494,
          -80.741484,
          -80.780754,
          -80.735802,
          -80.873223,
          -80.794074,
          -80.742596,
          -80.843865,
          -80.940418,
          -80.978658,
          -80.922169,
          -80.919974,
          -80.885821,
          -80.797439,
          -80.896461,
          -80.974828,
          -80.8055,
          -80.873075,
          -80.875867,
          -80.854272,
          -80.914457,
          -80.857358,
          -80.878552,
          -80.951342,
          -80.702906,
          -80.884458,
          -80.9244967,
          -80.881954,
          -80.772079,
          -80.852466,
          -80.825735,
          -80.791207,
          -80.854188,
          -80.945967,
          -80.854912,
          -80.745776,
          -80.922174,
          -80.949265,
          -80.89548,
          -80.859661,
          -80.810073,
          -80.895763,
          -80.931831,
          -80.842638,
          -80.743182,
          -80.853083,
          -80.862895,
          -80.734937,
          -80.898368,
          -80.834086,
          -80.89282,
          -80.830997
         ],
         "marker": {
          "color": "#EF553B"
         },
         "mode": "markers",
         "name": "Left turn, same roadway",
         "showlegend": true,
         "subplot": "mapbox",
         "type": "scattermapbox"
        },
        {
         "hovertemplate": "CRASH_TYPE=Angle<br>LATITUDE=%{lat}<br>LONGITUDE=%{lon}<extra></extra>",
         "lat": [
          35.222586,
          35.213099,
          35.350446,
          35.136421,
          35.282217,
          35.227891,
          35.281793,
          35.234193,
          35.215613,
          35.058741,
          35.25126,
          35.20297,
          35.307648,
          35.253633,
          35.2273101,
          35.25365,
          35.18072,
          35.209695,
          35.3092287,
          35.058122,
          35.179101,
          35.155622,
          35.274548,
          35.29102,
          35.168108,
          35.290669,
          35.123963,
          35.178057,
          35.246283,
          35.245498,
          35.225469,
          35.209836,
          35.25126,
          35.215643,
          35.165017,
          35.099062,
          35.240708,
          35.264895,
          35.309184,
          35.206125,
          35.228966,
          35.244515,
          35.292064,
          35.254915,
          35.246851
         ],
         "legendgroup": "Angle",
         "lon": [
          -80.946103,
          -80.856248,
          -80.8639,
          -80.977826,
          -80.914266,
          -80.873492,
          -80.804868,
          -80.769103,
          -80.780742,
          -80.769754,
          -80.7473,
          -80.738742,
          -80.75238,
          -80.903578,
          -80.8452966,
          -80.90358,
          -80.889305,
          -80.874192,
          -80.8074975,
          -80.812452,
          -80.929456,
          -80.989918,
          -80.793543,
          -80.96927,
          -80.964285,
          -80.756991,
          -80.934885,
          -80.879626,
          -80.899568,
          -80.893271,
          -80.843091,
          -80.757178,
          -80.7473,
          -80.923077,
          -80.850261,
          -80.98785,
          -80.803161,
          -80.902565,
          -80.718775,
          -80.922029,
          -80.843027,
          -80.929024,
          -80.737726,
          -80.800758,
          -80.856784
         ],
         "marker": {
          "color": "#00cc96"
         },
         "mode": "markers",
         "name": "Angle",
         "showlegend": true,
         "subplot": "mapbox",
         "type": "scattermapbox"
        },
        {
         "hovertemplate": "CRASH_TYPE=Ran off road left<br>LATITUDE=%{lat}<br>LONGITUDE=%{lon}<extra></extra>",
         "lat": [
          35.219732,
          35.14532,
          35.3086893,
          35.286781,
          35.210189,
          35.117427,
          35.250095,
          35.340913,
          35.263461,
          35.2342091,
          35.334593,
          35.245322,
          35.200591,
          35.240239,
          35.252946,
          35.227876,
          35.189835,
          35.24538,
          35.201432,
          35.257532,
          35.336996,
          35.119946,
          35.065789,
          35.26431,
          35.246104,
          35.332687,
          35.203572,
          35.28228,
          35.215142,
          35.312258,
          35.163153,
          35.272881,
          35.110909,
          35.211759,
          35.223592,
          35.271095,
          35.219162,
          35.227355,
          35.114621,
          35.225863,
          35.283934,
          35.292549,
          35.264473,
          35.251591,
          35.086629,
          35.293839,
          35.159161,
          35.245686,
          35.223216,
          35.225032,
          35.234313,
          35.272865,
          35.289877,
          35.202928,
          35.04367,
          35.184779,
          35.118072,
          35.244176,
          35.2620542,
          35.267672,
          35.188051,
          35.2729,
          35.241045,
          35.0700615,
          35.24583,
          35.301086
         ],
         "legendgroup": "Ran off road left",
         "lon": [
          -80.752722,
          -80.89929,
          -80.8071116,
          -80.800843,
          -80.665256,
          -80.979326,
          -80.737024,
          -80.718851,
          -80.788779,
          -80.7684105,
          -80.962731,
          -80.851351,
          -80.831593,
          -80.924954,
          -80.736633,
          -80.746462,
          -80.929209,
          -80.907429,
          -80.780174,
          -80.831984,
          -80.842485,
          -80.995048,
          -80.84716,
          -80.752472,
          -80.852188,
          -80.800063,
          -80.799165,
          -80.9179,
          -80.775104,
          -80.829313,
          -80.930309,
          -80.765555,
          -80.899518,
          -80.761453,
          -80.770504,
          -80.936322,
          -80.797692,
          -80.746828,
          -80.963482,
          -80.908664,
          -80.763732,
          -80.796014,
          -80.87672,
          -80.859413,
          -80.83568,
          -80.856558,
          -80.726193,
          -80.791196,
          -80.852223,
          -80.862964,
          -80.770685,
          -80.838792,
          -80.836901,
          -80.888256,
          -80.807962,
          -80.730554,
          -80.984471,
          -80.860471,
          -80.8793119,
          -80.769312,
          -80.876817,
          -80.88514,
          -80.737731,
          -80.7527362,
          -80.781164,
          -80.80566
         ],
         "marker": {
          "color": "#ab63fa"
         },
         "mode": "markers",
         "name": "Ran off road left",
         "showlegend": true,
         "subplot": "mapbox",
         "type": "scattermapbox"
        },
        {
         "hovertemplate": "CRASH_TYPE=Pedalcyclist<br>LATITUDE=%{lat}<br>LONGITUDE=%{lon}<extra></extra>",
         "lat": [
          35.275933,
          35.238151,
          35.087694,
          35.22076,
          35.154666,
          35.245869,
          35.246242,
          35.192111,
          35.225554,
          35.142248,
          35.119359,
          35.169914,
          35.296817,
          35.185447,
          35.250204,
          35.239687,
          35.170002,
          35.192512,
          35.208316,
          35.221265,
          35.244256,
          35.235174
         ],
         "legendgroup": "Pedalcyclist",
         "lon": [
          -80.939708,
          -80.746968,
          -80.853081,
          -80.851136,
          -80.727126,
          -80.813203,
          -80.787596,
          -80.824213,
          -80.682622,
          -80.785759,
          -80.95335,
          -80.809674,
          -80.725854,
          -80.834779,
          -80.886441,
          -80.925567,
          -80.795946,
          -80.779579,
          -80.897152,
          -80.883275,
          -80.793367,
          -80.790032
         ],
         "marker": {
          "color": "#FFA15A"
         },
         "mode": "markers",
         "name": "Pedalcyclist",
         "showlegend": true,
         "subplot": "mapbox",
         "type": "scattermapbox"
        },
        {
         "hovertemplate": "CRASH_TYPE=Rear end, slow or stop<br>LATITUDE=%{lat}<br>LONGITUDE=%{lon}<extra></extra>",
         "lat": [
          35.162656,
          35.258236,
          35.194963,
          35.317618,
          35.334611,
          35.20301,
          35.231585,
          35.22946,
          35.28796,
          35.263501,
          35.186781,
          35.306552,
          35.226638,
          35.174687,
          35.216324,
          35.148168,
          35.2658739,
          35.25294,
          35.251564,
          35.147124,
          35.134585,
          35.202683,
          35.314696,
          35.16168,
          35.194323,
          35.272929,
          35.221572,
          35.201538,
          35.054319,
          35.217668,
          35.150786,
          35.178811,
          35.12112,
          35.087077,
          35.1191688,
          35.228168,
          35.14285,
          35.24952,
          35.32105,
          35.134584,
          35.307938,
          35.189904,
          35.264882,
          35.167765,
          35.212134,
          35.292147,
          35.153611,
          35.280783,
          35.30658,
          35.143668,
          35.2298831,
          35.14519,
          35.268269,
          35.142855,
          35.282418,
          35.180749,
          35.107442,
          35.205682,
          35.136419,
          35.206057,
          35.24816,
          35.213421,
          35.203716,
          35.169634,
          35.219264,
          35.213892,
          35.233922,
          35.045668,
          35.291501,
          35.33563,
          35.231329
         ],
         "legendgroup": "Rear end, slow or stop",
         "lon": [
          -80.849177,
          -80.788538,
          -80.82754,
          -80.824656,
          -80.715657,
          -80.738753,
          -80.836829,
          -80.84569,
          -80.85835,
          -80.795077,
          -80.766209,
          -80.852689,
          -80.74728,
          -80.8714267,
          -80.923256,
          -80.725324,
          -80.8917019,
          -80.843479,
          -80.819348,
          -80.724339,
          -80.939295,
          -80.731848,
          -80.76685,
          -80.74173,
          -80.873033,
          -80.885164,
          -80.822983,
          -80.825034,
          -80.769615,
          -80.923368,
          -80.836896,
          -80.882783,
          -80.949969,
          -80.81411,
          -80.9833398,
          -80.77529,
          -80.876488,
          -80.78106,
          -80.9398,
          -80.782344,
          -80.844251,
          -80.925942,
          -80.940535,
          -80.755693,
          -80.762755,
          -80.796564,
          -80.794283,
          -80.856514,
          -80.749125,
          -80.721263,
          -80.8303235,
          -80.87645,
          -80.854004,
          -80.876497,
          -80.779056,
          -80.889287,
          -80.881396,
          -80.726025,
          -80.977827,
          -80.922149,
          -80.907665,
          -80.687113,
          -80.748604,
          -80.904683,
          -80.798324,
          -80.890029,
          -80.842434,
          -80.847831,
          -80.837518,
          -80.827006,
          -80.871629
         ],
         "marker": {
          "color": "#19d3f3"
         },
         "mode": "markers",
         "name": "Rear end, slow or stop",
         "showlegend": true,
         "subplot": "mapbox",
         "type": "scattermapbox"
        },
        {
         "hovertemplate": "CRASH_TYPE=Head on<br>LATITUDE=%{lat}<br>LONGITUDE=%{lon}<extra></extra>",
         "lat": [
          35.233496,
          35.20316,
          35.229701,
          35.221556,
          35.310237,
          35.180126,
          35.140779,
          35.2799981,
          35.256843,
          35.301066,
          35.255566,
          35.2647,
          35.187382,
          35.274212,
          35.23962,
          35.249317,
          35.258267,
          35.26658,
          35.22365,
          35.08798,
          35.183763,
          35.309319,
          35.242725,
          35.260185,
          35.29102,
          35.223864,
          35.220666,
          35.294525,
          35.337874,
          35.267253,
          35.30503,
          35.265789,
          35.177969,
          35.283437,
          35.169608,
          35.222843,
          35.13783,
          35.259579,
          35.285626,
          35.339292,
          35.093401,
          35.271581,
          35.22716,
          35.2211497,
          35.125307,
          35.152881
         ],
         "legendgroup": "Head on",
         "lon": [
          -80.895708,
          -80.723945,
          -80.75537,
          -80.829194,
          -80.826129,
          -80.892801,
          -80.975391,
          -80.6831375,
          -80.778217,
          -80.986949,
          -80.940801,
          -80.923805,
          -80.734807,
          -80.836003,
          -80.91956,
          -80.737116,
          -80.788281,
          -80.929396,
          -80.706535,
          -80.99262,
          -80.751106,
          -80.720576,
          -80.833459,
          -80.960792,
          -80.725052,
          -80.741202,
          -80.831117,
          -80.975109,
          -80.706606,
          -80.919655,
          -80.85833,
          -80.9273791,
          -80.851057,
          -80.895488,
          -80.904743,
          -80.705647,
          -80.879305,
          -80.932196,
          -80.921512,
          -80.877355,
          -80.991869,
          -80.724149,
          -80.680903,
          -80.8338991,
          -80.833475,
          -80.890116
         ],
         "marker": {
          "color": "#FF6692"
         },
         "mode": "markers",
         "name": "Head on",
         "showlegend": true,
         "subplot": "mapbox",
         "type": "scattermapbox"
        },
        {
         "hovertemplate": "CRASH_TYPE=Left turn, different roadways<br>LATITUDE=%{lat}<br>LONGITUDE=%{lon}<extra></extra>",
         "lat": [
          35.258174,
          35.191017,
          35.203481,
          35.31211,
          35.195311,
          35.313979,
          35.291065,
          35.203434,
          35.187315,
          35.244874,
          35.22633,
          35.30432,
          35.221748,
          35.087595,
          35.10789,
          35.21073,
          35.238004,
          35.146893,
          35.275913,
          35.290996,
          35.279734,
          35.144648,
          35.155735,
          35.264933,
          35.272143,
          35.2194955,
          35.228207,
          35.2002,
          35.176145,
          35.291625,
          35.258043,
          35.25559,
          35.193599,
          35.188545,
          35.190987,
          35.315214,
          35.197264,
          35.135648,
          35.232852,
          35.2662244,
          35.3163646,
          35.287505,
          35.234341,
          35.200951
         ],
         "legendgroup": "Left turn, different roadways",
         "lon": [
          -80.726201,
          -80.963874,
          -80.927156,
          -80.70777,
          -80.709808,
          -80.700836,
          -80.903318,
          -80.967709,
          -80.904414,
          -80.831815,
          -80.910124,
          -80.93763,
          -80.750917,
          -80.857989,
          -80.978694,
          -80.75685,
          -80.776527,
          -80.744504,
          -80.941379,
          -80.96929,
          -80.684353,
          -80.742195,
          -80.775515,
          -80.795031,
          -80.854277,
          -80.8361558,
          -80.914473,
          -80.88922,
          -80.756561,
          -80.770755,
          -80.783308,
          -80.9073,
          -80.852176,
          -80.728682,
          -80.96386,
          -80.740565,
          -80.876141,
          -80.891348,
          -80.756695,
          -80.7314991,
          -80.7809565,
          -80.727462,
          -80.738616,
          -80.82515
         ],
         "marker": {
          "color": "#B6E880"
         },
         "mode": "markers",
         "name": "Left turn, different roadways",
         "showlegend": true,
         "subplot": "mapbox",
         "type": "scattermapbox"
        },
        {
         "hovertemplate": "CRASH_TYPE=Overturn/rollover<br>LATITUDE=%{lat}<br>LONGITUDE=%{lon}<extra></extra>",
         "lat": [
          35.297887,
          35.259878,
          35.309216,
          35.228132,
          35.231211
         ],
         "legendgroup": "Overturn/rollover",
         "lon": [
          -80.89134,
          -80.903239,
          -80.820052,
          -80.740033,
          -80.87825
         ],
         "marker": {
          "color": "#FF97FF"
         },
         "mode": "markers",
         "name": "Overturn/rollover",
         "showlegend": true,
         "subplot": "mapbox",
         "type": "scattermapbox"
        },
        {
         "hovertemplate": "CRASH_TYPE=Fixed object<br>LATITUDE=%{lat}<br>LONGITUDE=%{lon}<extra></extra>",
         "lat": [
          35.224546,
          35.161711,
          35.323236,
          35.336427,
          35.11574,
          35.260671
         ],
         "legendgroup": "Fixed object",
         "lon": [
          -80.854816,
          -80.885811,
          -80.73624,
          -80.710292,
          -80.926053,
          -80.898364
         ],
         "marker": {
          "color": "#FECB52"
         },
         "mode": "markers",
         "name": "Fixed object",
         "showlegend": true,
         "subplot": "mapbox",
         "type": "scattermapbox"
        },
        {
         "hovertemplate": "CRASH_TYPE=Guardrail face in median<br>LATITUDE=%{lat}<br>LONGITUDE=%{lon}<extra></extra>",
         "lat": [
          35.23938
         ],
         "legendgroup": "Guardrail face in median",
         "lon": [
          -80.842026
         ],
         "marker": {
          "color": "#636efa"
         },
         "mode": "markers",
         "name": "Guardrail face in median",
         "showlegend": true,
         "subplot": "mapbox",
         "type": "scattermapbox"
        },
        {
         "hovertemplate": "CRASH_TYPE=Sideswipe, same direction<br>LATITUDE=%{lat}<br>LONGITUDE=%{lon}<extra></extra>",
         "lat": [
          35.195283,
          35.290318,
          35.17733,
          35.242684,
          35.315193,
          35.185103,
          35.265585,
          35.157554,
          35.216151,
          35.180358,
          35.234661,
          35.187332,
          35.245865,
          35.32105,
          35.213099,
          35.22541,
          35.237073,
          35.182418,
          35.230105,
          35.235108,
          35.193829,
          35.171241,
          35.224554,
          35.13688,
          35.248681,
          35.174828,
          35.19532,
          35.290038
         ],
         "legendgroup": "Sideswipe, same direction",
         "lon": [
          -80.83751,
          -80.968061,
          -80.78398,
          -80.938119,
          -80.740518,
          -80.757562,
          -80.857052,
          -80.734025,
          -80.883729,
          -80.753733,
          -80.774645,
          -80.85296,
          -80.846236,
          -80.9398,
          -80.873489,
          -80.72197,
          -80.74018,
          -80.894125,
          -80.919086,
          -80.840868,
          -80.794439,
          -80.745459,
          -80.846972,
          -80.838978,
          -80.90449,
          -80.820448,
          -80.88384,
          -80.763353
         ],
         "marker": {
          "color": "#EF553B"
         },
         "mode": "markers",
         "name": "Sideswipe, same direction",
         "showlegend": true,
         "subplot": "mapbox",
         "type": "scattermapbox"
        },
        {
         "hovertemplate": "CRASH_TYPE=Ran off road right<br>LATITUDE=%{lat}<br>LONGITUDE=%{lon}<extra></extra>",
         "lat": [
          35.256205,
          35.278453,
          35.359778,
          35.339187,
          35.343202,
          35.267153,
          35.343195,
          35.109605,
          35.251384,
          35.188731,
          35.346421,
          35.238705,
          35.260964,
          35.220277,
          35.169279,
          35.232086,
          35.12335,
          35.268529,
          35.310722,
          35.157559,
          35.243183,
          35.224526,
          35.251753,
          35.220049,
          35.267226,
          35.27198,
          35.244553,
          35.267219,
          35.210151,
          35.083603,
          35.224357,
          35.099617,
          35.16879,
          35.249583,
          35.064388,
          35.260496,
          35.035119,
          35.138274,
          35.135808,
          35.197804,
          35.26735,
          35.153135,
          35.29803,
          35.170318,
          35.345288,
          35.135953,
          35.15051,
          35.283338,
          35.236988,
          35.239003,
          35.25987,
          35.175956,
          35.213921,
          35.241441,
          35.19924,
          35.294506,
          35.190347,
          35.25563,
          35.215419,
          35.2753453,
          35.25467,
          35.255002,
          35.346811,
          35.167393,
          35.24591,
          35.200791,
          35.20577,
          35.275282,
          35.239424,
          35.186328,
          35.273828,
          35.347769,
          35.247324,
          35.14848,
          35.076479,
          35.147817,
          35.217755,
          35.209652,
          35.215226,
          35.321149,
          35.251682,
          35.21942,
          35.261946,
          35.210427,
          35.342574,
          35.24919,
          35.167079,
          35.208249,
          35.277668,
          35.327197,
          35.238664,
          35.225147,
          35.196947,
          35.315414,
          35.317932,
          35.262671,
          35.230168,
          35.240679,
          35.287708,
          35.165527,
          35.219957,
          35.076313,
          35.185524,
          35.261543,
          35.240611,
          35.232913,
          35.298963
         ],
         "legendgroup": "Ran off road right",
         "lon": [
          -80.902453,
          -80.966352,
          -80.796959,
          -80.704777,
          -80.771395,
          -80.741068,
          -80.771075,
          -80.799336,
          -80.90009,
          -80.853021,
          -80.898685,
          -80.737877,
          -80.819657,
          -80.826585,
          -80.805608,
          -80.923909,
          -80.945247,
          -80.731369,
          -80.826867,
          -80.734035,
          -80.73793,
          -80.725391,
          -80.687203,
          -80.834803,
          -80.930461,
          -80.850942,
          -80.84954,
          -80.940455,
          -80.662705,
          -80.81163,
          -80.897851,
          -80.972012,
          -80.80506,
          -80.772256,
          -80.784675,
          -80.73454,
          -80.861346,
          -80.905407,
          -80.75921,
          -80.939651,
          -80.85024,
          -80.883836,
          -80.978835,
          -80.709075,
          -80.760742,
          -80.758969,
          -80.7458,
          -80.745807,
          -80.822819,
          -80.777358,
          -80.874742,
          -80.838026,
          -80.87922,
          -80.796181,
          -80.7836,
          -80.931964,
          -80.823197,
          -80.87435,
          -80.841643,
          -80.793431,
          -80.779847,
          -80.873261,
          -80.895998,
          -80.826592,
          -80.956,
          -80.773771,
          -80.869209,
          -80.854821,
          -80.654049,
          -80.765282,
          -80.834425,
          -80.823535,
          -80.717074,
          -80.933959,
          -80.98911,
          -80.895491,
          -80.873412,
          -80.874148,
          -80.807415,
          -80.834421,
          -80.927448,
          -80.77057,
          -80.849902,
          -80.664271,
          -80.879965,
          -80.766631,
          -80.908336,
          -80.798653,
          -80.796176,
          -80.713146,
          -80.737883,
          -80.907536,
          -80.933364,
          -80.79666,
          -80.947739,
          -80.854968,
          -80.860398,
          -80.939369,
          -80.825524,
          -80.835557,
          -80.780693,
          -80.791479,
          -80.898954,
          -80.826483,
          -80.886658,
          -80.731376,
          -80.895156
         ],
         "marker": {
          "color": "#00cc96"
         },
         "mode": "markers",
         "name": "Ran off road right",
         "showlegend": true,
         "subplot": "mapbox",
         "type": "scattermapbox"
        },
        {
         "hovertemplate": "CRASH_TYPE=Parked motor vehicle<br>LATITUDE=%{lat}<br>LONGITUDE=%{lon}<extra></extra>",
         "lat": [
          35.239207,
          35.091147,
          35.206941,
          35.226936,
          35.210975,
          35.209713,
          35.213663,
          35.222297,
          35.264916,
          35.21098
         ],
         "legendgroup": "Parked motor vehicle",
         "lon": [
          -80.846426,
          -80.775685,
          -80.919279,
          -80.836209,
          -80.686415,
          -80.874171,
          -80.805173,
          -80.835496,
          -80.795009,
          -80.686405
         ],
         "marker": {
          "color": "#ab63fa"
         },
         "mode": "markers",
         "name": "Parked motor vehicle",
         "showlegend": true,
         "subplot": "mapbox",
         "type": "scattermapbox"
        },
        {
         "hovertemplate": "CRASH_TYPE=Right turn, different roadways<br>LATITUDE=%{lat}<br>LONGITUDE=%{lon}<extra></extra>",
         "lat": [
          35.185917,
          35.308894,
          35.31625,
          35.203942,
          35.31522,
          35.140086
         ],
         "legendgroup": "Right turn, different roadways",
         "lon": [
          -80.729992,
          -80.84024,
          -80.885079,
          -80.750363,
          -80.74057,
          -80.934244
         ],
         "marker": {
          "color": "#FFA15A"
         },
         "mode": "markers",
         "name": "Right turn, different roadways",
         "showlegend": true,
         "subplot": "mapbox",
         "type": "scattermapbox"
        },
        {
         "hovertemplate": "CRASH_TYPE=Ran off road straight ahead<br>LATITUDE=%{lat}<br>LONGITUDE=%{lon}<extra></extra>",
         "lat": [
          35.273346,
          35.221022,
          35.265813,
          35.233403,
          35.23846,
          35.298979,
          35.27171
         ],
         "legendgroup": "Ran off road straight ahead",
         "lon": [
          -80.846608,
          -80.829988,
          -80.817881,
          -80.832012,
          -80.91237,
          -80.6893,
          -80.76065
         ],
         "marker": {
          "color": "#19d3f3"
         },
         "mode": "markers",
         "name": "Ran off road straight ahead",
         "showlegend": true,
         "subplot": "mapbox",
         "type": "scattermapbox"
        },
        {
         "hovertemplate": "CRASH_TYPE=Other collision with vehicle*<br>LATITUDE=%{lat}<br>LONGITUDE=%{lon}<extra></extra>",
         "lat": [
          35.214972,
          35.203827,
          35.287505
         ],
         "legendgroup": "Other collision with vehicle*",
         "lon": [
          -80.807501,
          -80.76008,
          -80.794727
         ],
         "marker": {
          "color": "#FF6692"
         },
         "mode": "markers",
         "name": "Other collision with vehicle*",
         "showlegend": true,
         "subplot": "mapbox",
         "type": "scattermapbox"
        },
        {
         "hovertemplate": "CRASH_TYPE=Traffic island curb or median<br>LATITUDE=%{lat}<br>LONGITUDE=%{lon}<extra></extra>",
         "lat": [
          35.245365
         ],
         "legendgroup": "Traffic island curb or median",
         "lon": [
          -80.896694
         ],
         "marker": {
          "color": "#B6E880"
         },
         "mode": "markers",
         "name": "Traffic island curb or median",
         "showlegend": true,
         "subplot": "mapbox",
         "type": "scattermapbox"
        },
        {
         "hovertemplate": "CRASH_TYPE=Other non-collision*<br>LATITUDE=%{lat}<br>LONGITUDE=%{lon}<extra></extra>",
         "lat": [
          35.253954,
          35.303034,
          35.21562,
          35.221682,
          35.190532,
          35.173256,
          35.234009
         ],
         "legendgroup": "Other non-collision*",
         "lon": [
          -80.8052,
          -80.903965,
          -80.841919,
          -80.849714,
          -80.762718,
          -80.896432,
          -80.836146
         ],
         "marker": {
          "color": "#FF97FF"
         },
         "mode": "markers",
         "name": "Other non-collision*",
         "showlegend": true,
         "subplot": "mapbox",
         "type": "scattermapbox"
        },
        {
         "hovertemplate": "CRASH_TYPE=Crossed centerline/median<br>LATITUDE=%{lat}<br>LONGITUDE=%{lon}<extra></extra>",
         "lat": [
          35.236418,
          35.156825,
          35.168182,
          35.139988,
          35.123764
         ],
         "legendgroup": "Crossed centerline/median",
         "lon": [
          -80.794067,
          -80.7331,
          -80.804566,
          -80.974483,
          -80.945087
         ],
         "marker": {
          "color": "#FECB52"
         },
         "mode": "markers",
         "name": "Crossed centerline/median",
         "showlegend": true,
         "subplot": "mapbox",
         "type": "scattermapbox"
        },
        {
         "hovertemplate": "CRASH_TYPE=Mailbox<br>LATITUDE=%{lat}<br>LONGITUDE=%{lon}<extra></extra>",
         "lat": [
          35.119692
         ],
         "legendgroup": "Mailbox",
         "lon": [
          -80.773793
         ],
         "marker": {
          "color": "#636efa"
         },
         "mode": "markers",
         "name": "Mailbox",
         "showlegend": true,
         "subplot": "mapbox",
         "type": "scattermapbox"
        },
        {
         "hovertemplate": "CRASH_TYPE=Sideswipe, opposite direction<br>LATITUDE=%{lat}<br>LONGITUDE=%{lon}<extra></extra>",
         "lat": [
          35.245078,
          35.299174,
          35.293484,
          35.169653,
          35.231791
         ],
         "legendgroup": "Sideswipe, opposite direction",
         "lon": [
          -80.792591,
          -80.980849,
          -80.816309,
          -80.837475,
          -80.870683
         ],
         "marker": {
          "color": "#EF553B"
         },
         "mode": "markers",
         "name": "Sideswipe, opposite direction",
         "showlegend": true,
         "subplot": "mapbox",
         "type": "scattermapbox"
        },
        {
         "hovertemplate": "CRASH_TYPE=Rear end, turn<br>LATITUDE=%{lat}<br>LONGITUDE=%{lon}<extra></extra>",
         "lat": [
          35.232157,
          35.221687,
          35.292084
         ],
         "legendgroup": "Rear end, turn",
         "lon": [
          -80.833913,
          -80.822436,
          -80.737927
         ],
         "marker": {
          "color": "#00cc96"
         },
         "mode": "markers",
         "name": "Rear end, turn",
         "showlegend": true,
         "subplot": "mapbox",
         "type": "scattermapbox"
        },
        {
         "hovertemplate": "CRASH_TYPE=Backing up<br>LATITUDE=%{lat}<br>LONGITUDE=%{lon}<extra></extra>",
         "lat": [
          35.24971,
          35.17621,
          35.266384,
          35.2271967,
          35.280104,
          35.244598
         ],
         "legendgroup": "Backing up",
         "lon": [
          -80.813685,
          -80.798489,
          -80.768195,
          -80.8430844,
          -80.794149,
          -80.922782
         ],
         "marker": {
          "color": "#ab63fa"
         },
         "mode": "markers",
         "name": "Backing up",
         "showlegend": true,
         "subplot": "mapbox",
         "type": "scattermapbox"
        },
        {
         "hovertemplate": "CRASH_TYPE=Median barrier end (non-guardrail)<br>LATITUDE=%{lat}<br>LONGITUDE=%{lon}<extra></extra>",
         "lat": [
          35.121346,
          35.130483,
          35.246087
         ],
         "legendgroup": "Median barrier end (non-guardrail)",
         "lon": [
          -80.925687,
          -80.875602,
          -80.888787
         ],
         "marker": {
          "color": "#FFA15A"
         },
         "mode": "markers",
         "name": "Median barrier end (non-guardrail)",
         "showlegend": true,
         "subplot": "mapbox",
         "type": "scattermapbox"
        },
        {
         "hovertemplate": "CRASH_TYPE=Right turn, same roadway<br>LATITUDE=%{lat}<br>LONGITUDE=%{lon}<extra></extra>",
         "lat": [
          35.225398,
          35.279802,
          35.256981
         ],
         "legendgroup": "Right turn, same roadway",
         "lon": [
          -80.865135,
          -80.7662,
          -80.836182
         ],
         "marker": {
          "color": "#19d3f3"
         },
         "mode": "markers",
         "name": "Right turn, same roadway",
         "showlegend": true,
         "subplot": "mapbox",
         "type": "scattermapbox"
        },
        {
         "hovertemplate": "CRASH_TYPE=Median barrier face (non-guardrail)<br>LATITUDE=%{lat}<br>LONGITUDE=%{lon}<extra></extra>",
         "lat": [
          35.175003
         ],
         "legendgroup": "Median barrier face (non-guardrail)",
         "lon": [
          -80.718294
         ],
         "marker": {
          "color": "#FF6692"
         },
         "mode": "markers",
         "name": "Median barrier face (non-guardrail)",
         "showlegend": true,
         "subplot": "mapbox",
         "type": "scattermapbox"
        },
        {
         "hovertemplate": "CRASH_TYPE=RR train, engine<br>LATITUDE=%{lat}<br>LONGITUDE=%{lon}<extra></extra>",
         "lat": [
          35.125051
         ],
         "legendgroup": "RR train, engine",
         "lon": [
          -80.879003
         ],
         "marker": {
          "color": "#B6E880"
         },
         "mode": "markers",
         "name": "RR train, engine",
         "showlegend": true,
         "subplot": "mapbox",
         "type": "scattermapbox"
        }
       ],
       "layout": {
        "legend": {
         "title": {
          "text": "CRASH_TYPE"
         },
         "tracegroupgap": 0
        },
        "mapbox": {
         "accesstoken": "pk.eyJ1IjoiZWxheWVyIiwiYSI6ImNsM3RpYmlqczIyYnUzZGw4NTJhZGkwaWIifQ.qHTFFM_76ATKuVmNMfs8Kg",
         "center": {
          "lat": 35.225213405806436,
          "lon": -80.83144848916133
         },
         "domain": {
          "x": [
           0,
           1
          ],
          "y": [
           0,
           1
          ]
         },
         "zoom": 10
        },
        "margin": {
         "t": 60
        },
        "template": {
         "data": {
          "bar": [
           {
            "error_x": {
             "color": "#2a3f5f"
            },
            "error_y": {
             "color": "#2a3f5f"
            },
            "marker": {
             "line": {
              "color": "#E5ECF6",
              "width": 0.5
             },
             "pattern": {
              "fillmode": "overlay",
              "size": 10,
              "solidity": 0.2
             }
            },
            "type": "bar"
           }
          ],
          "barpolar": [
           {
            "marker": {
             "line": {
              "color": "#E5ECF6",
              "width": 0.5
             },
             "pattern": {
              "fillmode": "overlay",
              "size": 10,
              "solidity": 0.2
             }
            },
            "type": "barpolar"
           }
          ],
          "carpet": [
           {
            "aaxis": {
             "endlinecolor": "#2a3f5f",
             "gridcolor": "white",
             "linecolor": "white",
             "minorgridcolor": "white",
             "startlinecolor": "#2a3f5f"
            },
            "baxis": {
             "endlinecolor": "#2a3f5f",
             "gridcolor": "white",
             "linecolor": "white",
             "minorgridcolor": "white",
             "startlinecolor": "#2a3f5f"
            },
            "type": "carpet"
           }
          ],
          "choropleth": [
           {
            "colorbar": {
             "outlinewidth": 0,
             "ticks": ""
            },
            "type": "choropleth"
           }
          ],
          "contour": [
           {
            "colorbar": {
             "outlinewidth": 0,
             "ticks": ""
            },
            "colorscale": [
             [
              0,
              "#0d0887"
             ],
             [
              0.1111111111111111,
              "#46039f"
             ],
             [
              0.2222222222222222,
              "#7201a8"
             ],
             [
              0.3333333333333333,
              "#9c179e"
             ],
             [
              0.4444444444444444,
              "#bd3786"
             ],
             [
              0.5555555555555556,
              "#d8576b"
             ],
             [
              0.6666666666666666,
              "#ed7953"
             ],
             [
              0.7777777777777778,
              "#fb9f3a"
             ],
             [
              0.8888888888888888,
              "#fdca26"
             ],
             [
              1,
              "#f0f921"
             ]
            ],
            "type": "contour"
           }
          ],
          "contourcarpet": [
           {
            "colorbar": {
             "outlinewidth": 0,
             "ticks": ""
            },
            "type": "contourcarpet"
           }
          ],
          "heatmap": [
           {
            "colorbar": {
             "outlinewidth": 0,
             "ticks": ""
            },
            "colorscale": [
             [
              0,
              "#0d0887"
             ],
             [
              0.1111111111111111,
              "#46039f"
             ],
             [
              0.2222222222222222,
              "#7201a8"
             ],
             [
              0.3333333333333333,
              "#9c179e"
             ],
             [
              0.4444444444444444,
              "#bd3786"
             ],
             [
              0.5555555555555556,
              "#d8576b"
             ],
             [
              0.6666666666666666,
              "#ed7953"
             ],
             [
              0.7777777777777778,
              "#fb9f3a"
             ],
             [
              0.8888888888888888,
              "#fdca26"
             ],
             [
              1,
              "#f0f921"
             ]
            ],
            "type": "heatmap"
           }
          ],
          "heatmapgl": [
           {
            "colorbar": {
             "outlinewidth": 0,
             "ticks": ""
            },
            "colorscale": [
             [
              0,
              "#0d0887"
             ],
             [
              0.1111111111111111,
              "#46039f"
             ],
             [
              0.2222222222222222,
              "#7201a8"
             ],
             [
              0.3333333333333333,
              "#9c179e"
             ],
             [
              0.4444444444444444,
              "#bd3786"
             ],
             [
              0.5555555555555556,
              "#d8576b"
             ],
             [
              0.6666666666666666,
              "#ed7953"
             ],
             [
              0.7777777777777778,
              "#fb9f3a"
             ],
             [
              0.8888888888888888,
              "#fdca26"
             ],
             [
              1,
              "#f0f921"
             ]
            ],
            "type": "heatmapgl"
           }
          ],
          "histogram": [
           {
            "marker": {
             "pattern": {
              "fillmode": "overlay",
              "size": 10,
              "solidity": 0.2
             }
            },
            "type": "histogram"
           }
          ],
          "histogram2d": [
           {
            "colorbar": {
             "outlinewidth": 0,
             "ticks": ""
            },
            "colorscale": [
             [
              0,
              "#0d0887"
             ],
             [
              0.1111111111111111,
              "#46039f"
             ],
             [
              0.2222222222222222,
              "#7201a8"
             ],
             [
              0.3333333333333333,
              "#9c179e"
             ],
             [
              0.4444444444444444,
              "#bd3786"
             ],
             [
              0.5555555555555556,
              "#d8576b"
             ],
             [
              0.6666666666666666,
              "#ed7953"
             ],
             [
              0.7777777777777778,
              "#fb9f3a"
             ],
             [
              0.8888888888888888,
              "#fdca26"
             ],
             [
              1,
              "#f0f921"
             ]
            ],
            "type": "histogram2d"
           }
          ],
          "histogram2dcontour": [
           {
            "colorbar": {
             "outlinewidth": 0,
             "ticks": ""
            },
            "colorscale": [
             [
              0,
              "#0d0887"
             ],
             [
              0.1111111111111111,
              "#46039f"
             ],
             [
              0.2222222222222222,
              "#7201a8"
             ],
             [
              0.3333333333333333,
              "#9c179e"
             ],
             [
              0.4444444444444444,
              "#bd3786"
             ],
             [
              0.5555555555555556,
              "#d8576b"
             ],
             [
              0.6666666666666666,
              "#ed7953"
             ],
             [
              0.7777777777777778,
              "#fb9f3a"
             ],
             [
              0.8888888888888888,
              "#fdca26"
             ],
             [
              1,
              "#f0f921"
             ]
            ],
            "type": "histogram2dcontour"
           }
          ],
          "mesh3d": [
           {
            "colorbar": {
             "outlinewidth": 0,
             "ticks": ""
            },
            "type": "mesh3d"
           }
          ],
          "parcoords": [
           {
            "line": {
             "colorbar": {
              "outlinewidth": 0,
              "ticks": ""
             }
            },
            "type": "parcoords"
           }
          ],
          "pie": [
           {
            "automargin": true,
            "type": "pie"
           }
          ],
          "scatter": [
           {
            "marker": {
             "colorbar": {
              "outlinewidth": 0,
              "ticks": ""
             }
            },
            "type": "scatter"
           }
          ],
          "scatter3d": [
           {
            "line": {
             "colorbar": {
              "outlinewidth": 0,
              "ticks": ""
             }
            },
            "marker": {
             "colorbar": {
              "outlinewidth": 0,
              "ticks": ""
             }
            },
            "type": "scatter3d"
           }
          ],
          "scattercarpet": [
           {
            "marker": {
             "colorbar": {
              "outlinewidth": 0,
              "ticks": ""
             }
            },
            "type": "scattercarpet"
           }
          ],
          "scattergeo": [
           {
            "marker": {
             "colorbar": {
              "outlinewidth": 0,
              "ticks": ""
             }
            },
            "type": "scattergeo"
           }
          ],
          "scattergl": [
           {
            "marker": {
             "colorbar": {
              "outlinewidth": 0,
              "ticks": ""
             }
            },
            "type": "scattergl"
           }
          ],
          "scattermapbox": [
           {
            "marker": {
             "colorbar": {
              "outlinewidth": 0,
              "ticks": ""
             }
            },
            "type": "scattermapbox"
           }
          ],
          "scatterpolar": [
           {
            "marker": {
             "colorbar": {
              "outlinewidth": 0,
              "ticks": ""
             }
            },
            "type": "scatterpolar"
           }
          ],
          "scatterpolargl": [
           {
            "marker": {
             "colorbar": {
              "outlinewidth": 0,
              "ticks": ""
             }
            },
            "type": "scatterpolargl"
           }
          ],
          "scatterternary": [
           {
            "marker": {
             "colorbar": {
              "outlinewidth": 0,
              "ticks": ""
             }
            },
            "type": "scatterternary"
           }
          ],
          "surface": [
           {
            "colorbar": {
             "outlinewidth": 0,
             "ticks": ""
            },
            "colorscale": [
             [
              0,
              "#0d0887"
             ],
             [
              0.1111111111111111,
              "#46039f"
             ],
             [
              0.2222222222222222,
              "#7201a8"
             ],
             [
              0.3333333333333333,
              "#9c179e"
             ],
             [
              0.4444444444444444,
              "#bd3786"
             ],
             [
              0.5555555555555556,
              "#d8576b"
             ],
             [
              0.6666666666666666,
              "#ed7953"
             ],
             [
              0.7777777777777778,
              "#fb9f3a"
             ],
             [
              0.8888888888888888,
              "#fdca26"
             ],
             [
              1,
              "#f0f921"
             ]
            ],
            "type": "surface"
           }
          ],
          "table": [
           {
            "cells": {
             "fill": {
              "color": "#EBF0F8"
             },
             "line": {
              "color": "white"
             }
            },
            "header": {
             "fill": {
              "color": "#C8D4E3"
             },
             "line": {
              "color": "white"
             }
            },
            "type": "table"
           }
          ]
         },
         "layout": {
          "annotationdefaults": {
           "arrowcolor": "#2a3f5f",
           "arrowhead": 0,
           "arrowwidth": 1
          },
          "autotypenumbers": "strict",
          "coloraxis": {
           "colorbar": {
            "outlinewidth": 0,
            "ticks": ""
           }
          },
          "colorscale": {
           "diverging": [
            [
             0,
             "#8e0152"
            ],
            [
             0.1,
             "#c51b7d"
            ],
            [
             0.2,
             "#de77ae"
            ],
            [
             0.3,
             "#f1b6da"
            ],
            [
             0.4,
             "#fde0ef"
            ],
            [
             0.5,
             "#f7f7f7"
            ],
            [
             0.6,
             "#e6f5d0"
            ],
            [
             0.7,
             "#b8e186"
            ],
            [
             0.8,
             "#7fbc41"
            ],
            [
             0.9,
             "#4d9221"
            ],
            [
             1,
             "#276419"
            ]
           ],
           "sequential": [
            [
             0,
             "#0d0887"
            ],
            [
             0.1111111111111111,
             "#46039f"
            ],
            [
             0.2222222222222222,
             "#7201a8"
            ],
            [
             0.3333333333333333,
             "#9c179e"
            ],
            [
             0.4444444444444444,
             "#bd3786"
            ],
            [
             0.5555555555555556,
             "#d8576b"
            ],
            [
             0.6666666666666666,
             "#ed7953"
            ],
            [
             0.7777777777777778,
             "#fb9f3a"
            ],
            [
             0.8888888888888888,
             "#fdca26"
            ],
            [
             1,
             "#f0f921"
            ]
           ],
           "sequentialminus": [
            [
             0,
             "#0d0887"
            ],
            [
             0.1111111111111111,
             "#46039f"
            ],
            [
             0.2222222222222222,
             "#7201a8"
            ],
            [
             0.3333333333333333,
             "#9c179e"
            ],
            [
             0.4444444444444444,
             "#bd3786"
            ],
            [
             0.5555555555555556,
             "#d8576b"
            ],
            [
             0.6666666666666666,
             "#ed7953"
            ],
            [
             0.7777777777777778,
             "#fb9f3a"
            ],
            [
             0.8888888888888888,
             "#fdca26"
            ],
            [
             1,
             "#f0f921"
            ]
           ]
          },
          "colorway": [
           "#636efa",
           "#EF553B",
           "#00cc96",
           "#ab63fa",
           "#FFA15A",
           "#19d3f3",
           "#FF6692",
           "#B6E880",
           "#FF97FF",
           "#FECB52"
          ],
          "font": {
           "color": "#2a3f5f"
          },
          "geo": {
           "bgcolor": "white",
           "lakecolor": "white",
           "landcolor": "#E5ECF6",
           "showlakes": true,
           "showland": true,
           "subunitcolor": "white"
          },
          "hoverlabel": {
           "align": "left"
          },
          "hovermode": "closest",
          "mapbox": {
           "style": "light"
          },
          "paper_bgcolor": "white",
          "plot_bgcolor": "#E5ECF6",
          "polar": {
           "angularaxis": {
            "gridcolor": "white",
            "linecolor": "white",
            "ticks": ""
           },
           "bgcolor": "#E5ECF6",
           "radialaxis": {
            "gridcolor": "white",
            "linecolor": "white",
            "ticks": ""
           }
          },
          "scene": {
           "xaxis": {
            "backgroundcolor": "#E5ECF6",
            "gridcolor": "white",
            "gridwidth": 2,
            "linecolor": "white",
            "showbackground": true,
            "ticks": "",
            "zerolinecolor": "white"
           },
           "yaxis": {
            "backgroundcolor": "#E5ECF6",
            "gridcolor": "white",
            "gridwidth": 2,
            "linecolor": "white",
            "showbackground": true,
            "ticks": "",
            "zerolinecolor": "white"
           },
           "zaxis": {
            "backgroundcolor": "#E5ECF6",
            "gridcolor": "white",
            "gridwidth": 2,
            "linecolor": "white",
            "showbackground": true,
            "ticks": "",
            "zerolinecolor": "white"
           }
          },
          "shapedefaults": {
           "line": {
            "color": "#2a3f5f"
           }
          },
          "ternary": {
           "aaxis": {
            "gridcolor": "white",
            "linecolor": "white",
            "ticks": ""
           },
           "baxis": {
            "gridcolor": "white",
            "linecolor": "white",
            "ticks": ""
           },
           "bgcolor": "#E5ECF6",
           "caxis": {
            "gridcolor": "white",
            "linecolor": "white",
            "ticks": ""
           }
          },
          "title": {
           "x": 0.05
          },
          "xaxis": {
           "automargin": true,
           "gridcolor": "white",
           "linecolor": "white",
           "ticks": "",
           "title": {
            "standoff": 15
           },
           "zerolinecolor": "white",
           "zerolinewidth": 2
          },
          "yaxis": {
           "automargin": true,
           "gridcolor": "white",
           "linecolor": "white",
           "ticks": "",
           "title": {
            "standoff": 15
           },
           "zerolinecolor": "white",
           "zerolinewidth": 2
          }
         }
        }
       }
      },
      "text/html": [
       "<div>                            <div id=\"c23cd96d-d6d9-4fb9-888e-3c2b244357d6\" class=\"plotly-graph-div\" style=\"height:525px; width:100%;\"></div>            <script type=\"text/javascript\">                require([\"plotly\"], function(Plotly) {                    window.PLOTLYENV=window.PLOTLYENV || {};                                    if (document.getElementById(\"c23cd96d-d6d9-4fb9-888e-3c2b244357d6\")) {                    Plotly.newPlot(                        \"c23cd96d-d6d9-4fb9-888e-3c2b244357d6\",                        [{\"hovertemplate\":\"CRASH_TYPE=Pedestrian<br>LATITUDE=%{lat}<br>LONGITUDE=%{lon}<extra></extra>\",\"lat\":[35.162879,35.306841,35.292667,35.08158,35.117331,35.215638,35.237775,35.258042,35.146249,35.21174,35.25229,35.259453,35.210388,35.266029,35.293654,35.260141,35.204956,35.24797,35.245504,35.224275,35.115012,35.231193,35.146096,35.187462,35.233669,35.238366,35.2629919,35.258087,35.212042,35.275008,35.201394,35.204444,35.220088,35.296616,35.21151,35.241004,35.209318,35.175597,35.13461,35.162626,35.2040147,35.224213,35.176572,35.242582,35.271056,35.099353,35.244274,35.223491,35.20313,35.307798,35.232894,35.204648,35.124586,35.19875,35.158005,35.220815,35.238071,35.211554,35.335775,35.211467,35.140059,35.203171,35.240921,35.24923,35.284006,35.305882,35.204274,35.267449,35.245477,35.265437,35.335463,35.323714,35.214698,35.194821,35.319297,35.229524,35.247745,35.178325,35.244429,35.261283,35.076668,35.26587,35.303779,35.258078,35.228605,35.17699,35.122355,35.152655,35.26887,35.194317,35.210135,35.086257,35.171927,35.280788,35.276566,35.264295,35.28073,35.161553,35.326969,35.277417,35.214046,35.204021,35.247178,35.147199,35.184016,35.268236,35.268439,35.229631,35.210313,35.245828,35.28085,35.308265,35.249862,35.17989,35.214205,35.23899,35.131456,35.266973,35.074519,35.1968,35.18634,35.216081,35.276338,35.267111,35.204767,35.135993,35.254217,35.2806,35.138002,35.230342,35.240906,35.202863,35.13794,35.224005,35.201244,35.245965,35.175824,35.254328,35.388232,35.290576,35.10024,35.118982,35.26246,35.273595,35.276574,35.144558,35.148896,35.17895,35.229638,35.211575,35.195796,35.101061,35.289354,35.269208,35.242544,35.261396,35.228772,35.258154,35.1625779,35.326157,35.239769,35.283559,35.213488,35.24954,35.211487,35.325422,35.267913,35.258166,35.10655,35.289953,35.202368,35.261509,35.261277,35.217484,35.284054,35.184251,35.241293,35.286107,35.234098,35.254545,35.221076,35.154771,35.240459,35.16251,35.181972,35.152842,35.265458,35.284068,35.224384,35.21776,35.187554,35.21982,35.138653,35.245683,35.156805,35.186002,35.197404,35.180664,35.221505,35.229894,35.238021,35.258328,35.280193,35.295266,35.29069,35.271063,35.245855],\"legendgroup\":\"Pedestrian\",\"lon\":[-80.922041,-80.851516,-80.796837,-80.772736,-80.957557,-80.923099,-80.891253,-80.782796,-80.895944,-80.907287,-80.9011,-80.874202,-80.664468,-80.76916,-80.748023,-80.855204,-80.738509,-80.78503,-80.893239,-80.854605,-80.962839,-80.729559,-80.926843,-80.809824,-80.842789,-80.776777,-80.854715,-80.784482,-80.857385,-80.950235,-80.872926,-80.719804,-80.8348,-80.741519,-80.899404,-80.921811,-80.916298,-80.799393,-80.939353,-80.73947,-80.7503553,-80.888648,-80.745423,-80.779968,-80.7308,-81.007454,-80.841334,-80.724418,-80.74399,-80.844838,-80.824005,-80.863408,-80.944135,-80.719154,-80.734307,-80.810684,-80.799668,-80.694934,-80.827669,-80.900923,-80.837268,-80.7240254,-80.927738,-80.897704,-80.772073,-80.703791,-80.803571,-80.879139,-80.893273,-80.816569,-80.754851,-80.94801,-80.688207,-80.788147,-80.951766,-80.924743,-80.785539,-80.891519,-80.877103,-80.876998,-80.755557,-80.837402,-80.72261,-80.783924,-80.846827,-80.800637,-80.883919,-80.728983,-80.794616,-80.873031,-80.920269,-80.811901,-80.807505,-80.85653,-80.794703,-80.854432,-80.765691,-80.74235,-80.735779,-80.785323,-80.855187,-80.752059,-80.786664,-80.74478,-80.756845,-80.794677,-80.744558,-80.91789,-80.679895,-80.893544,-80.820024,-80.720308,-80.780065,-80.752994,-80.771793,-80.827339,-80.94108,-80.83957,-80.747122,-80.726439,-80.82158,-80.846774,-80.855322,-80.794844,-80.940805,-80.783027,-80.77958,-80.786229,-80.738568,-80.752675,-80.84326,-80.725921,-80.93478,-80.883231,-80.843687,-80.893734,-80.75052,-80.888909,-80.782251,-80.96842,-80.993668,-80.927187,-80.87892,-80.81131,-80.793508,-80.728751,-80.975287,-80.7238,-80.917875,-80.760467,-80.763196,-80.776393,-80.758357,-80.854091,-80.795147,-80.795048,-80.840834,-80.782817,-80.7527099,-80.862735,-80.656579,-80.763738,-80.768282,-80.781038,-80.89991,-80.858551,-80.837476,-80.78708,-80.978069,-80.76501,-80.803987,-80.84706,-80.877066,-80.854778,-80.771136,-80.761383,-80.796341,-80.76194,-80.738686,-80.779843,-80.826614,-80.747693,-80.918629,-80.968943,-80.755195,-80.877331,-80.884197,-80.770679,-80.896085,-80.780711,-80.757558,-80.845438,-80.740513,-80.790942,-80.876246,-80.923576,-80.733931,-80.765975,-80.810624,-80.831432,-80.840943,-80.788243,-80.793639,-80.7552,-80.757018,-80.934111,-80.894001],\"marker\":{\"color\":\"#636efa\"},\"mode\":\"markers\",\"name\":\"Pedestrian\",\"showlegend\":true,\"subplot\":\"mapbox\",\"type\":\"scattermapbox\"},{\"hovertemplate\":\"CRASH_TYPE=Left turn, same roadway<br>LATITUDE=%{lat}<br>LONGITUDE=%{lon}<extra></extra>\",\"lat\":[35.048298,35.274158,35.245523,35.212942,35.23537,35.20247,35.272,35.084092,35.247908,35.129607,35.324221,35.1174334,35.347633,35.230398,35.296562,35.215618,35.236746,35.217764,35.271008,35.331752,35.261078,35.264653,35.107885,35.206089,35.237805,35.239858,35.361067,35.224451,35.309369,35.033647,35.258801,35.260518,35.272167,35.228216,35.282858,35.262151,35.319611,35.313293,35.238861,35.2294006,35.26661,35.214269,35.234828,35.363729,35.311556,35.265459,35.235406,35.214307,35.310203,35.206099,35.121371,35.27921,35.172721,35.332374,35.174748,35.192412,35.221217,35.312687,35.222712,35.087585,35.179033,35.211513,35.203441,35.14948,35.119996],\"legendgroup\":\"Left turn, same roadway\",\"lon\":[-80.778692,-80.958441,-80.89323,-80.766061,-80.94804,-80.73076,-80.97248,-80.822961,-80.829476,-80.941759,-80.946821,-80.8594571,-80.861194,-80.774494,-80.741484,-80.780754,-80.735802,-80.873223,-80.794074,-80.742596,-80.843865,-80.940418,-80.978658,-80.922169,-80.919974,-80.885821,-80.797439,-80.896461,-80.974828,-80.8055,-80.873075,-80.875867,-80.854272,-80.914457,-80.857358,-80.878552,-80.951342,-80.702906,-80.884458,-80.9244967,-80.881954,-80.772079,-80.852466,-80.825735,-80.791207,-80.854188,-80.945967,-80.854912,-80.745776,-80.922174,-80.949265,-80.89548,-80.859661,-80.810073,-80.895763,-80.931831,-80.842638,-80.743182,-80.853083,-80.862895,-80.734937,-80.898368,-80.834086,-80.89282,-80.830997],\"marker\":{\"color\":\"#EF553B\"},\"mode\":\"markers\",\"name\":\"Left turn, same roadway\",\"showlegend\":true,\"subplot\":\"mapbox\",\"type\":\"scattermapbox\"},{\"hovertemplate\":\"CRASH_TYPE=Angle<br>LATITUDE=%{lat}<br>LONGITUDE=%{lon}<extra></extra>\",\"lat\":[35.222586,35.213099,35.350446,35.136421,35.282217,35.227891,35.281793,35.234193,35.215613,35.058741,35.25126,35.20297,35.307648,35.253633,35.2273101,35.25365,35.18072,35.209695,35.3092287,35.058122,35.179101,35.155622,35.274548,35.29102,35.168108,35.290669,35.123963,35.178057,35.246283,35.245498,35.225469,35.209836,35.25126,35.215643,35.165017,35.099062,35.240708,35.264895,35.309184,35.206125,35.228966,35.244515,35.292064,35.254915,35.246851],\"legendgroup\":\"Angle\",\"lon\":[-80.946103,-80.856248,-80.8639,-80.977826,-80.914266,-80.873492,-80.804868,-80.769103,-80.780742,-80.769754,-80.7473,-80.738742,-80.75238,-80.903578,-80.8452966,-80.90358,-80.889305,-80.874192,-80.8074975,-80.812452,-80.929456,-80.989918,-80.793543,-80.96927,-80.964285,-80.756991,-80.934885,-80.879626,-80.899568,-80.893271,-80.843091,-80.757178,-80.7473,-80.923077,-80.850261,-80.98785,-80.803161,-80.902565,-80.718775,-80.922029,-80.843027,-80.929024,-80.737726,-80.800758,-80.856784],\"marker\":{\"color\":\"#00cc96\"},\"mode\":\"markers\",\"name\":\"Angle\",\"showlegend\":true,\"subplot\":\"mapbox\",\"type\":\"scattermapbox\"},{\"hovertemplate\":\"CRASH_TYPE=Ran off road left<br>LATITUDE=%{lat}<br>LONGITUDE=%{lon}<extra></extra>\",\"lat\":[35.219732,35.14532,35.3086893,35.286781,35.210189,35.117427,35.250095,35.340913,35.263461,35.2342091,35.334593,35.245322,35.200591,35.240239,35.252946,35.227876,35.189835,35.24538,35.201432,35.257532,35.336996,35.119946,35.065789,35.26431,35.246104,35.332687,35.203572,35.28228,35.215142,35.312258,35.163153,35.272881,35.110909,35.211759,35.223592,35.271095,35.219162,35.227355,35.114621,35.225863,35.283934,35.292549,35.264473,35.251591,35.086629,35.293839,35.159161,35.245686,35.223216,35.225032,35.234313,35.272865,35.289877,35.202928,35.04367,35.184779,35.118072,35.244176,35.2620542,35.267672,35.188051,35.2729,35.241045,35.0700615,35.24583,35.301086],\"legendgroup\":\"Ran off road left\",\"lon\":[-80.752722,-80.89929,-80.8071116,-80.800843,-80.665256,-80.979326,-80.737024,-80.718851,-80.788779,-80.7684105,-80.962731,-80.851351,-80.831593,-80.924954,-80.736633,-80.746462,-80.929209,-80.907429,-80.780174,-80.831984,-80.842485,-80.995048,-80.84716,-80.752472,-80.852188,-80.800063,-80.799165,-80.9179,-80.775104,-80.829313,-80.930309,-80.765555,-80.899518,-80.761453,-80.770504,-80.936322,-80.797692,-80.746828,-80.963482,-80.908664,-80.763732,-80.796014,-80.87672,-80.859413,-80.83568,-80.856558,-80.726193,-80.791196,-80.852223,-80.862964,-80.770685,-80.838792,-80.836901,-80.888256,-80.807962,-80.730554,-80.984471,-80.860471,-80.8793119,-80.769312,-80.876817,-80.88514,-80.737731,-80.7527362,-80.781164,-80.80566],\"marker\":{\"color\":\"#ab63fa\"},\"mode\":\"markers\",\"name\":\"Ran off road left\",\"showlegend\":true,\"subplot\":\"mapbox\",\"type\":\"scattermapbox\"},{\"hovertemplate\":\"CRASH_TYPE=Pedalcyclist<br>LATITUDE=%{lat}<br>LONGITUDE=%{lon}<extra></extra>\",\"lat\":[35.275933,35.238151,35.087694,35.22076,35.154666,35.245869,35.246242,35.192111,35.225554,35.142248,35.119359,35.169914,35.296817,35.185447,35.250204,35.239687,35.170002,35.192512,35.208316,35.221265,35.244256,35.235174],\"legendgroup\":\"Pedalcyclist\",\"lon\":[-80.939708,-80.746968,-80.853081,-80.851136,-80.727126,-80.813203,-80.787596,-80.824213,-80.682622,-80.785759,-80.95335,-80.809674,-80.725854,-80.834779,-80.886441,-80.925567,-80.795946,-80.779579,-80.897152,-80.883275,-80.793367,-80.790032],\"marker\":{\"color\":\"#FFA15A\"},\"mode\":\"markers\",\"name\":\"Pedalcyclist\",\"showlegend\":true,\"subplot\":\"mapbox\",\"type\":\"scattermapbox\"},{\"hovertemplate\":\"CRASH_TYPE=Rear end, slow or stop<br>LATITUDE=%{lat}<br>LONGITUDE=%{lon}<extra></extra>\",\"lat\":[35.162656,35.258236,35.194963,35.317618,35.334611,35.20301,35.231585,35.22946,35.28796,35.263501,35.186781,35.306552,35.226638,35.174687,35.216324,35.148168,35.2658739,35.25294,35.251564,35.147124,35.134585,35.202683,35.314696,35.16168,35.194323,35.272929,35.221572,35.201538,35.054319,35.217668,35.150786,35.178811,35.12112,35.087077,35.1191688,35.228168,35.14285,35.24952,35.32105,35.134584,35.307938,35.189904,35.264882,35.167765,35.212134,35.292147,35.153611,35.280783,35.30658,35.143668,35.2298831,35.14519,35.268269,35.142855,35.282418,35.180749,35.107442,35.205682,35.136419,35.206057,35.24816,35.213421,35.203716,35.169634,35.219264,35.213892,35.233922,35.045668,35.291501,35.33563,35.231329],\"legendgroup\":\"Rear end, slow or stop\",\"lon\":[-80.849177,-80.788538,-80.82754,-80.824656,-80.715657,-80.738753,-80.836829,-80.84569,-80.85835,-80.795077,-80.766209,-80.852689,-80.74728,-80.8714267,-80.923256,-80.725324,-80.8917019,-80.843479,-80.819348,-80.724339,-80.939295,-80.731848,-80.76685,-80.74173,-80.873033,-80.885164,-80.822983,-80.825034,-80.769615,-80.923368,-80.836896,-80.882783,-80.949969,-80.81411,-80.9833398,-80.77529,-80.876488,-80.78106,-80.9398,-80.782344,-80.844251,-80.925942,-80.940535,-80.755693,-80.762755,-80.796564,-80.794283,-80.856514,-80.749125,-80.721263,-80.8303235,-80.87645,-80.854004,-80.876497,-80.779056,-80.889287,-80.881396,-80.726025,-80.977827,-80.922149,-80.907665,-80.687113,-80.748604,-80.904683,-80.798324,-80.890029,-80.842434,-80.847831,-80.837518,-80.827006,-80.871629],\"marker\":{\"color\":\"#19d3f3\"},\"mode\":\"markers\",\"name\":\"Rear end, slow or stop\",\"showlegend\":true,\"subplot\":\"mapbox\",\"type\":\"scattermapbox\"},{\"hovertemplate\":\"CRASH_TYPE=Head on<br>LATITUDE=%{lat}<br>LONGITUDE=%{lon}<extra></extra>\",\"lat\":[35.233496,35.20316,35.229701,35.221556,35.310237,35.180126,35.140779,35.2799981,35.256843,35.301066,35.255566,35.2647,35.187382,35.274212,35.23962,35.249317,35.258267,35.26658,35.22365,35.08798,35.183763,35.309319,35.242725,35.260185,35.29102,35.223864,35.220666,35.294525,35.337874,35.267253,35.30503,35.265789,35.177969,35.283437,35.169608,35.222843,35.13783,35.259579,35.285626,35.339292,35.093401,35.271581,35.22716,35.2211497,35.125307,35.152881],\"legendgroup\":\"Head on\",\"lon\":[-80.895708,-80.723945,-80.75537,-80.829194,-80.826129,-80.892801,-80.975391,-80.6831375,-80.778217,-80.986949,-80.940801,-80.923805,-80.734807,-80.836003,-80.91956,-80.737116,-80.788281,-80.929396,-80.706535,-80.99262,-80.751106,-80.720576,-80.833459,-80.960792,-80.725052,-80.741202,-80.831117,-80.975109,-80.706606,-80.919655,-80.85833,-80.9273791,-80.851057,-80.895488,-80.904743,-80.705647,-80.879305,-80.932196,-80.921512,-80.877355,-80.991869,-80.724149,-80.680903,-80.8338991,-80.833475,-80.890116],\"marker\":{\"color\":\"#FF6692\"},\"mode\":\"markers\",\"name\":\"Head on\",\"showlegend\":true,\"subplot\":\"mapbox\",\"type\":\"scattermapbox\"},{\"hovertemplate\":\"CRASH_TYPE=Left turn, different roadways<br>LATITUDE=%{lat}<br>LONGITUDE=%{lon}<extra></extra>\",\"lat\":[35.258174,35.191017,35.203481,35.31211,35.195311,35.313979,35.291065,35.203434,35.187315,35.244874,35.22633,35.30432,35.221748,35.087595,35.10789,35.21073,35.238004,35.146893,35.275913,35.290996,35.279734,35.144648,35.155735,35.264933,35.272143,35.2194955,35.228207,35.2002,35.176145,35.291625,35.258043,35.25559,35.193599,35.188545,35.190987,35.315214,35.197264,35.135648,35.232852,35.2662244,35.3163646,35.287505,35.234341,35.200951],\"legendgroup\":\"Left turn, different roadways\",\"lon\":[-80.726201,-80.963874,-80.927156,-80.70777,-80.709808,-80.700836,-80.903318,-80.967709,-80.904414,-80.831815,-80.910124,-80.93763,-80.750917,-80.857989,-80.978694,-80.75685,-80.776527,-80.744504,-80.941379,-80.96929,-80.684353,-80.742195,-80.775515,-80.795031,-80.854277,-80.8361558,-80.914473,-80.88922,-80.756561,-80.770755,-80.783308,-80.9073,-80.852176,-80.728682,-80.96386,-80.740565,-80.876141,-80.891348,-80.756695,-80.7314991,-80.7809565,-80.727462,-80.738616,-80.82515],\"marker\":{\"color\":\"#B6E880\"},\"mode\":\"markers\",\"name\":\"Left turn, different roadways\",\"showlegend\":true,\"subplot\":\"mapbox\",\"type\":\"scattermapbox\"},{\"hovertemplate\":\"CRASH_TYPE=Overturn/rollover<br>LATITUDE=%{lat}<br>LONGITUDE=%{lon}<extra></extra>\",\"lat\":[35.297887,35.259878,35.309216,35.228132,35.231211],\"legendgroup\":\"Overturn/rollover\",\"lon\":[-80.89134,-80.903239,-80.820052,-80.740033,-80.87825],\"marker\":{\"color\":\"#FF97FF\"},\"mode\":\"markers\",\"name\":\"Overturn/rollover\",\"showlegend\":true,\"subplot\":\"mapbox\",\"type\":\"scattermapbox\"},{\"hovertemplate\":\"CRASH_TYPE=Fixed object<br>LATITUDE=%{lat}<br>LONGITUDE=%{lon}<extra></extra>\",\"lat\":[35.224546,35.161711,35.323236,35.336427,35.11574,35.260671],\"legendgroup\":\"Fixed object\",\"lon\":[-80.854816,-80.885811,-80.73624,-80.710292,-80.926053,-80.898364],\"marker\":{\"color\":\"#FECB52\"},\"mode\":\"markers\",\"name\":\"Fixed object\",\"showlegend\":true,\"subplot\":\"mapbox\",\"type\":\"scattermapbox\"},{\"hovertemplate\":\"CRASH_TYPE=Guardrail face in median<br>LATITUDE=%{lat}<br>LONGITUDE=%{lon}<extra></extra>\",\"lat\":[35.23938],\"legendgroup\":\"Guardrail face in median\",\"lon\":[-80.842026],\"marker\":{\"color\":\"#636efa\"},\"mode\":\"markers\",\"name\":\"Guardrail face in median\",\"showlegend\":true,\"subplot\":\"mapbox\",\"type\":\"scattermapbox\"},{\"hovertemplate\":\"CRASH_TYPE=Sideswipe, same direction<br>LATITUDE=%{lat}<br>LONGITUDE=%{lon}<extra></extra>\",\"lat\":[35.195283,35.290318,35.17733,35.242684,35.315193,35.185103,35.265585,35.157554,35.216151,35.180358,35.234661,35.187332,35.245865,35.32105,35.213099,35.22541,35.237073,35.182418,35.230105,35.235108,35.193829,35.171241,35.224554,35.13688,35.248681,35.174828,35.19532,35.290038],\"legendgroup\":\"Sideswipe, same direction\",\"lon\":[-80.83751,-80.968061,-80.78398,-80.938119,-80.740518,-80.757562,-80.857052,-80.734025,-80.883729,-80.753733,-80.774645,-80.85296,-80.846236,-80.9398,-80.873489,-80.72197,-80.74018,-80.894125,-80.919086,-80.840868,-80.794439,-80.745459,-80.846972,-80.838978,-80.90449,-80.820448,-80.88384,-80.763353],\"marker\":{\"color\":\"#EF553B\"},\"mode\":\"markers\",\"name\":\"Sideswipe, same direction\",\"showlegend\":true,\"subplot\":\"mapbox\",\"type\":\"scattermapbox\"},{\"hovertemplate\":\"CRASH_TYPE=Ran off road right<br>LATITUDE=%{lat}<br>LONGITUDE=%{lon}<extra></extra>\",\"lat\":[35.256205,35.278453,35.359778,35.339187,35.343202,35.267153,35.343195,35.109605,35.251384,35.188731,35.346421,35.238705,35.260964,35.220277,35.169279,35.232086,35.12335,35.268529,35.310722,35.157559,35.243183,35.224526,35.251753,35.220049,35.267226,35.27198,35.244553,35.267219,35.210151,35.083603,35.224357,35.099617,35.16879,35.249583,35.064388,35.260496,35.035119,35.138274,35.135808,35.197804,35.26735,35.153135,35.29803,35.170318,35.345288,35.135953,35.15051,35.283338,35.236988,35.239003,35.25987,35.175956,35.213921,35.241441,35.19924,35.294506,35.190347,35.25563,35.215419,35.2753453,35.25467,35.255002,35.346811,35.167393,35.24591,35.200791,35.20577,35.275282,35.239424,35.186328,35.273828,35.347769,35.247324,35.14848,35.076479,35.147817,35.217755,35.209652,35.215226,35.321149,35.251682,35.21942,35.261946,35.210427,35.342574,35.24919,35.167079,35.208249,35.277668,35.327197,35.238664,35.225147,35.196947,35.315414,35.317932,35.262671,35.230168,35.240679,35.287708,35.165527,35.219957,35.076313,35.185524,35.261543,35.240611,35.232913,35.298963],\"legendgroup\":\"Ran off road right\",\"lon\":[-80.902453,-80.966352,-80.796959,-80.704777,-80.771395,-80.741068,-80.771075,-80.799336,-80.90009,-80.853021,-80.898685,-80.737877,-80.819657,-80.826585,-80.805608,-80.923909,-80.945247,-80.731369,-80.826867,-80.734035,-80.73793,-80.725391,-80.687203,-80.834803,-80.930461,-80.850942,-80.84954,-80.940455,-80.662705,-80.81163,-80.897851,-80.972012,-80.80506,-80.772256,-80.784675,-80.73454,-80.861346,-80.905407,-80.75921,-80.939651,-80.85024,-80.883836,-80.978835,-80.709075,-80.760742,-80.758969,-80.7458,-80.745807,-80.822819,-80.777358,-80.874742,-80.838026,-80.87922,-80.796181,-80.7836,-80.931964,-80.823197,-80.87435,-80.841643,-80.793431,-80.779847,-80.873261,-80.895998,-80.826592,-80.956,-80.773771,-80.869209,-80.854821,-80.654049,-80.765282,-80.834425,-80.823535,-80.717074,-80.933959,-80.98911,-80.895491,-80.873412,-80.874148,-80.807415,-80.834421,-80.927448,-80.77057,-80.849902,-80.664271,-80.879965,-80.766631,-80.908336,-80.798653,-80.796176,-80.713146,-80.737883,-80.907536,-80.933364,-80.79666,-80.947739,-80.854968,-80.860398,-80.939369,-80.825524,-80.835557,-80.780693,-80.791479,-80.898954,-80.826483,-80.886658,-80.731376,-80.895156],\"marker\":{\"color\":\"#00cc96\"},\"mode\":\"markers\",\"name\":\"Ran off road right\",\"showlegend\":true,\"subplot\":\"mapbox\",\"type\":\"scattermapbox\"},{\"hovertemplate\":\"CRASH_TYPE=Parked motor vehicle<br>LATITUDE=%{lat}<br>LONGITUDE=%{lon}<extra></extra>\",\"lat\":[35.239207,35.091147,35.206941,35.226936,35.210975,35.209713,35.213663,35.222297,35.264916,35.21098],\"legendgroup\":\"Parked motor vehicle\",\"lon\":[-80.846426,-80.775685,-80.919279,-80.836209,-80.686415,-80.874171,-80.805173,-80.835496,-80.795009,-80.686405],\"marker\":{\"color\":\"#ab63fa\"},\"mode\":\"markers\",\"name\":\"Parked motor vehicle\",\"showlegend\":true,\"subplot\":\"mapbox\",\"type\":\"scattermapbox\"},{\"hovertemplate\":\"CRASH_TYPE=Right turn, different roadways<br>LATITUDE=%{lat}<br>LONGITUDE=%{lon}<extra></extra>\",\"lat\":[35.185917,35.308894,35.31625,35.203942,35.31522,35.140086],\"legendgroup\":\"Right turn, different roadways\",\"lon\":[-80.729992,-80.84024,-80.885079,-80.750363,-80.74057,-80.934244],\"marker\":{\"color\":\"#FFA15A\"},\"mode\":\"markers\",\"name\":\"Right turn, different roadways\",\"showlegend\":true,\"subplot\":\"mapbox\",\"type\":\"scattermapbox\"},{\"hovertemplate\":\"CRASH_TYPE=Ran off road straight ahead<br>LATITUDE=%{lat}<br>LONGITUDE=%{lon}<extra></extra>\",\"lat\":[35.273346,35.221022,35.265813,35.233403,35.23846,35.298979,35.27171],\"legendgroup\":\"Ran off road straight ahead\",\"lon\":[-80.846608,-80.829988,-80.817881,-80.832012,-80.91237,-80.6893,-80.76065],\"marker\":{\"color\":\"#19d3f3\"},\"mode\":\"markers\",\"name\":\"Ran off road straight ahead\",\"showlegend\":true,\"subplot\":\"mapbox\",\"type\":\"scattermapbox\"},{\"hovertemplate\":\"CRASH_TYPE=Other collision with vehicle*<br>LATITUDE=%{lat}<br>LONGITUDE=%{lon}<extra></extra>\",\"lat\":[35.214972,35.203827,35.287505],\"legendgroup\":\"Other collision with vehicle*\",\"lon\":[-80.807501,-80.76008,-80.794727],\"marker\":{\"color\":\"#FF6692\"},\"mode\":\"markers\",\"name\":\"Other collision with vehicle*\",\"showlegend\":true,\"subplot\":\"mapbox\",\"type\":\"scattermapbox\"},{\"hovertemplate\":\"CRASH_TYPE=Traffic island curb or median<br>LATITUDE=%{lat}<br>LONGITUDE=%{lon}<extra></extra>\",\"lat\":[35.245365],\"legendgroup\":\"Traffic island curb or median\",\"lon\":[-80.896694],\"marker\":{\"color\":\"#B6E880\"},\"mode\":\"markers\",\"name\":\"Traffic island curb or median\",\"showlegend\":true,\"subplot\":\"mapbox\",\"type\":\"scattermapbox\"},{\"hovertemplate\":\"CRASH_TYPE=Other non-collision*<br>LATITUDE=%{lat}<br>LONGITUDE=%{lon}<extra></extra>\",\"lat\":[35.253954,35.303034,35.21562,35.221682,35.190532,35.173256,35.234009],\"legendgroup\":\"Other non-collision*\",\"lon\":[-80.8052,-80.903965,-80.841919,-80.849714,-80.762718,-80.896432,-80.836146],\"marker\":{\"color\":\"#FF97FF\"},\"mode\":\"markers\",\"name\":\"Other non-collision*\",\"showlegend\":true,\"subplot\":\"mapbox\",\"type\":\"scattermapbox\"},{\"hovertemplate\":\"CRASH_TYPE=Crossed centerline/median<br>LATITUDE=%{lat}<br>LONGITUDE=%{lon}<extra></extra>\",\"lat\":[35.236418,35.156825,35.168182,35.139988,35.123764],\"legendgroup\":\"Crossed centerline/median\",\"lon\":[-80.794067,-80.7331,-80.804566,-80.974483,-80.945087],\"marker\":{\"color\":\"#FECB52\"},\"mode\":\"markers\",\"name\":\"Crossed centerline/median\",\"showlegend\":true,\"subplot\":\"mapbox\",\"type\":\"scattermapbox\"},{\"hovertemplate\":\"CRASH_TYPE=Mailbox<br>LATITUDE=%{lat}<br>LONGITUDE=%{lon}<extra></extra>\",\"lat\":[35.119692],\"legendgroup\":\"Mailbox\",\"lon\":[-80.773793],\"marker\":{\"color\":\"#636efa\"},\"mode\":\"markers\",\"name\":\"Mailbox\",\"showlegend\":true,\"subplot\":\"mapbox\",\"type\":\"scattermapbox\"},{\"hovertemplate\":\"CRASH_TYPE=Sideswipe, opposite direction<br>LATITUDE=%{lat}<br>LONGITUDE=%{lon}<extra></extra>\",\"lat\":[35.245078,35.299174,35.293484,35.169653,35.231791],\"legendgroup\":\"Sideswipe, opposite direction\",\"lon\":[-80.792591,-80.980849,-80.816309,-80.837475,-80.870683],\"marker\":{\"color\":\"#EF553B\"},\"mode\":\"markers\",\"name\":\"Sideswipe, opposite direction\",\"showlegend\":true,\"subplot\":\"mapbox\",\"type\":\"scattermapbox\"},{\"hovertemplate\":\"CRASH_TYPE=Rear end, turn<br>LATITUDE=%{lat}<br>LONGITUDE=%{lon}<extra></extra>\",\"lat\":[35.232157,35.221687,35.292084],\"legendgroup\":\"Rear end, turn\",\"lon\":[-80.833913,-80.822436,-80.737927],\"marker\":{\"color\":\"#00cc96\"},\"mode\":\"markers\",\"name\":\"Rear end, turn\",\"showlegend\":true,\"subplot\":\"mapbox\",\"type\":\"scattermapbox\"},{\"hovertemplate\":\"CRASH_TYPE=Backing up<br>LATITUDE=%{lat}<br>LONGITUDE=%{lon}<extra></extra>\",\"lat\":[35.24971,35.17621,35.266384,35.2271967,35.280104,35.244598],\"legendgroup\":\"Backing up\",\"lon\":[-80.813685,-80.798489,-80.768195,-80.8430844,-80.794149,-80.922782],\"marker\":{\"color\":\"#ab63fa\"},\"mode\":\"markers\",\"name\":\"Backing up\",\"showlegend\":true,\"subplot\":\"mapbox\",\"type\":\"scattermapbox\"},{\"hovertemplate\":\"CRASH_TYPE=Median barrier end (non-guardrail)<br>LATITUDE=%{lat}<br>LONGITUDE=%{lon}<extra></extra>\",\"lat\":[35.121346,35.130483,35.246087],\"legendgroup\":\"Median barrier end (non-guardrail)\",\"lon\":[-80.925687,-80.875602,-80.888787],\"marker\":{\"color\":\"#FFA15A\"},\"mode\":\"markers\",\"name\":\"Median barrier end (non-guardrail)\",\"showlegend\":true,\"subplot\":\"mapbox\",\"type\":\"scattermapbox\"},{\"hovertemplate\":\"CRASH_TYPE=Right turn, same roadway<br>LATITUDE=%{lat}<br>LONGITUDE=%{lon}<extra></extra>\",\"lat\":[35.225398,35.279802,35.256981],\"legendgroup\":\"Right turn, same roadway\",\"lon\":[-80.865135,-80.7662,-80.836182],\"marker\":{\"color\":\"#19d3f3\"},\"mode\":\"markers\",\"name\":\"Right turn, same roadway\",\"showlegend\":true,\"subplot\":\"mapbox\",\"type\":\"scattermapbox\"},{\"hovertemplate\":\"CRASH_TYPE=Median barrier face (non-guardrail)<br>LATITUDE=%{lat}<br>LONGITUDE=%{lon}<extra></extra>\",\"lat\":[35.175003],\"legendgroup\":\"Median barrier face (non-guardrail)\",\"lon\":[-80.718294],\"marker\":{\"color\":\"#FF6692\"},\"mode\":\"markers\",\"name\":\"Median barrier face (non-guardrail)\",\"showlegend\":true,\"subplot\":\"mapbox\",\"type\":\"scattermapbox\"},{\"hovertemplate\":\"CRASH_TYPE=RR train, engine<br>LATITUDE=%{lat}<br>LONGITUDE=%{lon}<extra></extra>\",\"lat\":[35.125051],\"legendgroup\":\"RR train, engine\",\"lon\":[-80.879003],\"marker\":{\"color\":\"#B6E880\"},\"mode\":\"markers\",\"name\":\"RR train, engine\",\"showlegend\":true,\"subplot\":\"mapbox\",\"type\":\"scattermapbox\"}],                        {\"template\":{\"data\":{\"bar\":[{\"error_x\":{\"color\":\"#2a3f5f\"},\"error_y\":{\"color\":\"#2a3f5f\"},\"marker\":{\"line\":{\"color\":\"#E5ECF6\",\"width\":0.5},\"pattern\":{\"fillmode\":\"overlay\",\"size\":10,\"solidity\":0.2}},\"type\":\"bar\"}],\"barpolar\":[{\"marker\":{\"line\":{\"color\":\"#E5ECF6\",\"width\":0.5},\"pattern\":{\"fillmode\":\"overlay\",\"size\":10,\"solidity\":0.2}},\"type\":\"barpolar\"}],\"carpet\":[{\"aaxis\":{\"endlinecolor\":\"#2a3f5f\",\"gridcolor\":\"white\",\"linecolor\":\"white\",\"minorgridcolor\":\"white\",\"startlinecolor\":\"#2a3f5f\"},\"baxis\":{\"endlinecolor\":\"#2a3f5f\",\"gridcolor\":\"white\",\"linecolor\":\"white\",\"minorgridcolor\":\"white\",\"startlinecolor\":\"#2a3f5f\"},\"type\":\"carpet\"}],\"choropleth\":[{\"colorbar\":{\"outlinewidth\":0,\"ticks\":\"\"},\"type\":\"choropleth\"}],\"contour\":[{\"colorbar\":{\"outlinewidth\":0,\"ticks\":\"\"},\"colorscale\":[[0.0,\"#0d0887\"],[0.1111111111111111,\"#46039f\"],[0.2222222222222222,\"#7201a8\"],[0.3333333333333333,\"#9c179e\"],[0.4444444444444444,\"#bd3786\"],[0.5555555555555556,\"#d8576b\"],[0.6666666666666666,\"#ed7953\"],[0.7777777777777778,\"#fb9f3a\"],[0.8888888888888888,\"#fdca26\"],[1.0,\"#f0f921\"]],\"type\":\"contour\"}],\"contourcarpet\":[{\"colorbar\":{\"outlinewidth\":0,\"ticks\":\"\"},\"type\":\"contourcarpet\"}],\"heatmap\":[{\"colorbar\":{\"outlinewidth\":0,\"ticks\":\"\"},\"colorscale\":[[0.0,\"#0d0887\"],[0.1111111111111111,\"#46039f\"],[0.2222222222222222,\"#7201a8\"],[0.3333333333333333,\"#9c179e\"],[0.4444444444444444,\"#bd3786\"],[0.5555555555555556,\"#d8576b\"],[0.6666666666666666,\"#ed7953\"],[0.7777777777777778,\"#fb9f3a\"],[0.8888888888888888,\"#fdca26\"],[1.0,\"#f0f921\"]],\"type\":\"heatmap\"}],\"heatmapgl\":[{\"colorbar\":{\"outlinewidth\":0,\"ticks\":\"\"},\"colorscale\":[[0.0,\"#0d0887\"],[0.1111111111111111,\"#46039f\"],[0.2222222222222222,\"#7201a8\"],[0.3333333333333333,\"#9c179e\"],[0.4444444444444444,\"#bd3786\"],[0.5555555555555556,\"#d8576b\"],[0.6666666666666666,\"#ed7953\"],[0.7777777777777778,\"#fb9f3a\"],[0.8888888888888888,\"#fdca26\"],[1.0,\"#f0f921\"]],\"type\":\"heatmapgl\"}],\"histogram\":[{\"marker\":{\"pattern\":{\"fillmode\":\"overlay\",\"size\":10,\"solidity\":0.2}},\"type\":\"histogram\"}],\"histogram2d\":[{\"colorbar\":{\"outlinewidth\":0,\"ticks\":\"\"},\"colorscale\":[[0.0,\"#0d0887\"],[0.1111111111111111,\"#46039f\"],[0.2222222222222222,\"#7201a8\"],[0.3333333333333333,\"#9c179e\"],[0.4444444444444444,\"#bd3786\"],[0.5555555555555556,\"#d8576b\"],[0.6666666666666666,\"#ed7953\"],[0.7777777777777778,\"#fb9f3a\"],[0.8888888888888888,\"#fdca26\"],[1.0,\"#f0f921\"]],\"type\":\"histogram2d\"}],\"histogram2dcontour\":[{\"colorbar\":{\"outlinewidth\":0,\"ticks\":\"\"},\"colorscale\":[[0.0,\"#0d0887\"],[0.1111111111111111,\"#46039f\"],[0.2222222222222222,\"#7201a8\"],[0.3333333333333333,\"#9c179e\"],[0.4444444444444444,\"#bd3786\"],[0.5555555555555556,\"#d8576b\"],[0.6666666666666666,\"#ed7953\"],[0.7777777777777778,\"#fb9f3a\"],[0.8888888888888888,\"#fdca26\"],[1.0,\"#f0f921\"]],\"type\":\"histogram2dcontour\"}],\"mesh3d\":[{\"colorbar\":{\"outlinewidth\":0,\"ticks\":\"\"},\"type\":\"mesh3d\"}],\"parcoords\":[{\"line\":{\"colorbar\":{\"outlinewidth\":0,\"ticks\":\"\"}},\"type\":\"parcoords\"}],\"pie\":[{\"automargin\":true,\"type\":\"pie\"}],\"scatter\":[{\"marker\":{\"colorbar\":{\"outlinewidth\":0,\"ticks\":\"\"}},\"type\":\"scatter\"}],\"scatter3d\":[{\"line\":{\"colorbar\":{\"outlinewidth\":0,\"ticks\":\"\"}},\"marker\":{\"colorbar\":{\"outlinewidth\":0,\"ticks\":\"\"}},\"type\":\"scatter3d\"}],\"scattercarpet\":[{\"marker\":{\"colorbar\":{\"outlinewidth\":0,\"ticks\":\"\"}},\"type\":\"scattercarpet\"}],\"scattergeo\":[{\"marker\":{\"colorbar\":{\"outlinewidth\":0,\"ticks\":\"\"}},\"type\":\"scattergeo\"}],\"scattergl\":[{\"marker\":{\"colorbar\":{\"outlinewidth\":0,\"ticks\":\"\"}},\"type\":\"scattergl\"}],\"scattermapbox\":[{\"marker\":{\"colorbar\":{\"outlinewidth\":0,\"ticks\":\"\"}},\"type\":\"scattermapbox\"}],\"scatterpolar\":[{\"marker\":{\"colorbar\":{\"outlinewidth\":0,\"ticks\":\"\"}},\"type\":\"scatterpolar\"}],\"scatterpolargl\":[{\"marker\":{\"colorbar\":{\"outlinewidth\":0,\"ticks\":\"\"}},\"type\":\"scatterpolargl\"}],\"scatterternary\":[{\"marker\":{\"colorbar\":{\"outlinewidth\":0,\"ticks\":\"\"}},\"type\":\"scatterternary\"}],\"surface\":[{\"colorbar\":{\"outlinewidth\":0,\"ticks\":\"\"},\"colorscale\":[[0.0,\"#0d0887\"],[0.1111111111111111,\"#46039f\"],[0.2222222222222222,\"#7201a8\"],[0.3333333333333333,\"#9c179e\"],[0.4444444444444444,\"#bd3786\"],[0.5555555555555556,\"#d8576b\"],[0.6666666666666666,\"#ed7953\"],[0.7777777777777778,\"#fb9f3a\"],[0.8888888888888888,\"#fdca26\"],[1.0,\"#f0f921\"]],\"type\":\"surface\"}],\"table\":[{\"cells\":{\"fill\":{\"color\":\"#EBF0F8\"},\"line\":{\"color\":\"white\"}},\"header\":{\"fill\":{\"color\":\"#C8D4E3\"},\"line\":{\"color\":\"white\"}},\"type\":\"table\"}]},\"layout\":{\"annotationdefaults\":{\"arrowcolor\":\"#2a3f5f\",\"arrowhead\":0,\"arrowwidth\":1},\"autotypenumbers\":\"strict\",\"coloraxis\":{\"colorbar\":{\"outlinewidth\":0,\"ticks\":\"\"}},\"colorscale\":{\"diverging\":[[0,\"#8e0152\"],[0.1,\"#c51b7d\"],[0.2,\"#de77ae\"],[0.3,\"#f1b6da\"],[0.4,\"#fde0ef\"],[0.5,\"#f7f7f7\"],[0.6,\"#e6f5d0\"],[0.7,\"#b8e186\"],[0.8,\"#7fbc41\"],[0.9,\"#4d9221\"],[1,\"#276419\"]],\"sequential\":[[0.0,\"#0d0887\"],[0.1111111111111111,\"#46039f\"],[0.2222222222222222,\"#7201a8\"],[0.3333333333333333,\"#9c179e\"],[0.4444444444444444,\"#bd3786\"],[0.5555555555555556,\"#d8576b\"],[0.6666666666666666,\"#ed7953\"],[0.7777777777777778,\"#fb9f3a\"],[0.8888888888888888,\"#fdca26\"],[1.0,\"#f0f921\"]],\"sequentialminus\":[[0.0,\"#0d0887\"],[0.1111111111111111,\"#46039f\"],[0.2222222222222222,\"#7201a8\"],[0.3333333333333333,\"#9c179e\"],[0.4444444444444444,\"#bd3786\"],[0.5555555555555556,\"#d8576b\"],[0.6666666666666666,\"#ed7953\"],[0.7777777777777778,\"#fb9f3a\"],[0.8888888888888888,\"#fdca26\"],[1.0,\"#f0f921\"]]},\"colorway\":[\"#636efa\",\"#EF553B\",\"#00cc96\",\"#ab63fa\",\"#FFA15A\",\"#19d3f3\",\"#FF6692\",\"#B6E880\",\"#FF97FF\",\"#FECB52\"],\"font\":{\"color\":\"#2a3f5f\"},\"geo\":{\"bgcolor\":\"white\",\"lakecolor\":\"white\",\"landcolor\":\"#E5ECF6\",\"showlakes\":true,\"showland\":true,\"subunitcolor\":\"white\"},\"hoverlabel\":{\"align\":\"left\"},\"hovermode\":\"closest\",\"mapbox\":{\"style\":\"light\"},\"paper_bgcolor\":\"white\",\"plot_bgcolor\":\"#E5ECF6\",\"polar\":{\"angularaxis\":{\"gridcolor\":\"white\",\"linecolor\":\"white\",\"ticks\":\"\"},\"bgcolor\":\"#E5ECF6\",\"radialaxis\":{\"gridcolor\":\"white\",\"linecolor\":\"white\",\"ticks\":\"\"}},\"scene\":{\"xaxis\":{\"backgroundcolor\":\"#E5ECF6\",\"gridcolor\":\"white\",\"gridwidth\":2,\"linecolor\":\"white\",\"showbackground\":true,\"ticks\":\"\",\"zerolinecolor\":\"white\"},\"yaxis\":{\"backgroundcolor\":\"#E5ECF6\",\"gridcolor\":\"white\",\"gridwidth\":2,\"linecolor\":\"white\",\"showbackground\":true,\"ticks\":\"\",\"zerolinecolor\":\"white\"},\"zaxis\":{\"backgroundcolor\":\"#E5ECF6\",\"gridcolor\":\"white\",\"gridwidth\":2,\"linecolor\":\"white\",\"showbackground\":true,\"ticks\":\"\",\"zerolinecolor\":\"white\"}},\"shapedefaults\":{\"line\":{\"color\":\"#2a3f5f\"}},\"ternary\":{\"aaxis\":{\"gridcolor\":\"white\",\"linecolor\":\"white\",\"ticks\":\"\"},\"baxis\":{\"gridcolor\":\"white\",\"linecolor\":\"white\",\"ticks\":\"\"},\"bgcolor\":\"#E5ECF6\",\"caxis\":{\"gridcolor\":\"white\",\"linecolor\":\"white\",\"ticks\":\"\"}},\"title\":{\"x\":0.05},\"xaxis\":{\"automargin\":true,\"gridcolor\":\"white\",\"linecolor\":\"white\",\"ticks\":\"\",\"title\":{\"standoff\":15},\"zerolinecolor\":\"white\",\"zerolinewidth\":2},\"yaxis\":{\"automargin\":true,\"gridcolor\":\"white\",\"linecolor\":\"white\",\"ticks\":\"\",\"title\":{\"standoff\":15},\"zerolinecolor\":\"white\",\"zerolinewidth\":2}}},\"mapbox\":{\"domain\":{\"x\":[0.0,1.0],\"y\":[0.0,1.0]},\"center\":{\"lat\":35.225213405806436,\"lon\":-80.83144848916133},\"accesstoken\":\"pk.eyJ1IjoiZWxheWVyIiwiYSI6ImNsM3RpYmlqczIyYnUzZGw4NTJhZGkwaWIifQ.qHTFFM_76ATKuVmNMfs8Kg\",\"zoom\":10},\"legend\":{\"title\":{\"text\":\"CRASH_TYPE\"},\"tracegroupgap\":0},\"margin\":{\"t\":60}},                        {\"responsive\": true}                    ).then(function(){\n",
       "                            \n",
       "var gd = document.getElementById('c23cd96d-d6d9-4fb9-888e-3c2b244357d6');\n",
       "var x = new MutationObserver(function (mutations, observer) {{\n",
       "        var display = window.getComputedStyle(gd).display;\n",
       "        if (!display || display === 'none') {{\n",
       "            console.log([gd, 'removed!']);\n",
       "            Plotly.purge(gd);\n",
       "            observer.disconnect();\n",
       "        }}\n",
       "}});\n",
       "\n",
       "// Listen for the removal of the full notebook cells\n",
       "var notebookContainer = gd.closest('#notebook-container');\n",
       "if (notebookContainer) {{\n",
       "    x.observe(notebookContainer, {childList: true});\n",
       "}}\n",
       "\n",
       "// Listen for the clearing of the current output cell\n",
       "var outputEl = gd.closest('.output');\n",
       "if (outputEl) {{\n",
       "    x.observe(outputEl, {childList: true});\n",
       "}}\n",
       "\n",
       "                        })                };                });            </script>        </div>"
      ]
     },
     "metadata": {},
     "output_type": "display_data"
    }
   ],
   "source": [
    "#df = px.data.carshare()\n",
    "fig = px.scatter_mapbox(clt_df, lat=\"LATITUDE\", lon=\"LONGITUDE\", color=\"CRASH_TYPE\",  \n",
    "                  color_continuous_scale=px.colors.cyclical.IceFire, size_max=15, zoom=10)\n",
    "fig.show()"
   ]
  },
  {
   "cell_type": "markdown",
   "metadata": {},
   "source": [
    "How about if we filter records down by date? We can set the min and max dates as well"
   ]
  },
  {
   "cell_type": "code",
   "execution_count": 83,
   "metadata": {},
   "outputs": [
    {
     "name": "stdout",
     "output_type": "stream",
     "text": [
      "2016-01-01 00:00:00\n",
      "2020-12-31 00:00:00\n"
     ]
    }
   ],
   "source": [
    "print(pd.to_datetime(clt_df['DATE'].min()))\n",
    "print(clt_df['DATE'].max())"
   ]
  },
  {
   "cell_type": "code",
   "execution_count": 77,
   "metadata": {},
   "outputs": [
    {
     "data": {
      "application/vnd.plotly.v1+json": {
       "config": {
        "plotlyServerURL": "https://plot.ly"
       },
       "data": [
        {
         "hovertemplate": "CRASH_TYPE=Pedestrian<br>LATITUDE=%{lat}<br>LONGITUDE=%{lon}<extra></extra>",
         "lat": [
          35.162879,
          35.292667,
          35.215638,
          35.146249,
          35.21174,
          35.25229,
          35.259453,
          35.24797,
          35.187462,
          35.233669,
          35.238366,
          35.2629919,
          35.258087,
          35.201394,
          35.204444,
          35.296616,
          35.241004,
          35.13461,
          35.162626,
          35.2040147,
          35.176572,
          35.099353,
          35.244274,
          35.20313,
          35.204648,
          35.19875,
          35.220815,
          35.238071,
          35.211467,
          35.203171,
          35.24923,
          35.305882,
          35.319297,
          35.229524,
          35.178325,
          35.26587,
          35.258078,
          35.228605,
          35.26887,
          35.210135,
          35.171927,
          35.28073,
          35.326969,
          35.277417,
          35.214046,
          35.184016,
          35.214205,
          35.23899,
          35.074519,
          35.1968,
          35.18634,
          35.216081,
          35.267111,
          35.204767,
          35.138002,
          35.224005,
          35.245965,
          35.388232,
          35.26246,
          35.144558,
          35.211575,
          35.101061,
          35.1625779,
          35.283559,
          35.24954,
          35.211487,
          35.261509,
          35.217484,
          35.284054,
          35.184251,
          35.234098,
          35.240459,
          35.284068,
          35.21982,
          35.138653,
          35.186002,
          35.197404,
          35.221505,
          35.229894,
          35.245855
         ],
         "legendgroup": "Pedestrian",
         "lon": [
          -80.922041,
          -80.796837,
          -80.923099,
          -80.895944,
          -80.907287,
          -80.9011,
          -80.874202,
          -80.78503,
          -80.809824,
          -80.842789,
          -80.776777,
          -80.854715,
          -80.784482,
          -80.872926,
          -80.719804,
          -80.741519,
          -80.921811,
          -80.939353,
          -80.73947,
          -80.7503553,
          -80.745423,
          -81.007454,
          -80.841334,
          -80.74399,
          -80.863408,
          -80.719154,
          -80.810684,
          -80.799668,
          -80.900923,
          -80.7240254,
          -80.897704,
          -80.703791,
          -80.951766,
          -80.924743,
          -80.891519,
          -80.837402,
          -80.783924,
          -80.846827,
          -80.794616,
          -80.920269,
          -80.807505,
          -80.765691,
          -80.735779,
          -80.785323,
          -80.855187,
          -80.756845,
          -80.771793,
          -80.827339,
          -80.747122,
          -80.726439,
          -80.82158,
          -80.846774,
          -80.794844,
          -80.940805,
          -80.738568,
          -80.883231,
          -80.893734,
          -80.782251,
          -80.87892,
          -80.728751,
          -80.760467,
          -80.776393,
          -80.7527099,
          -80.763738,
          -80.781038,
          -80.89991,
          -80.84706,
          -80.854778,
          -80.771136,
          -80.761383,
          -80.738686,
          -80.918629,
          -80.770679,
          -80.845438,
          -80.740513,
          -80.923576,
          -80.733931,
          -80.810624,
          -80.831432,
          -80.894001
         ],
         "marker": {
          "color": "#636efa"
         },
         "mode": "markers",
         "name": "Pedestrian",
         "showlegend": true,
         "subplot": "mapbox",
         "type": "scattermapbox"
        },
        {
         "hovertemplate": "CRASH_TYPE=Angle<br>LATITUDE=%{lat}<br>LONGITUDE=%{lon}<extra></extra>",
         "lat": [
          35.222586,
          35.282217,
          35.234193,
          35.25126,
          35.2273101,
          35.25365,
          35.3092287,
          35.058122,
          35.179101,
          35.155622,
          35.29102,
          35.178057,
          35.25126,
          35.309184,
          35.206125,
          35.254915,
          35.246851
         ],
         "legendgroup": "Angle",
         "lon": [
          -80.946103,
          -80.914266,
          -80.769103,
          -80.7473,
          -80.8452966,
          -80.90358,
          -80.8074975,
          -80.812452,
          -80.929456,
          -80.989918,
          -80.96927,
          -80.879626,
          -80.7473,
          -80.718775,
          -80.922029,
          -80.800758,
          -80.856784
         ],
         "marker": {
          "color": "#EF553B"
         },
         "mode": "markers",
         "name": "Angle",
         "showlegend": true,
         "subplot": "mapbox",
         "type": "scattermapbox"
        },
        {
         "hovertemplate": "CRASH_TYPE=Left turn, same roadway<br>LATITUDE=%{lat}<br>LONGITUDE=%{lon}<extra></extra>",
         "lat": [
          35.274158,
          35.245523,
          35.20247,
          35.272,
          35.084092,
          35.1174334,
          35.347633,
          35.230398,
          35.296562,
          35.271008,
          35.261078,
          35.107885,
          35.237805,
          35.239858,
          35.361067,
          35.033647,
          35.282858,
          35.2294006,
          35.26661,
          35.234828,
          35.214307,
          35.27921,
          35.192412,
          35.221217,
          35.222712,
          35.179033,
          35.203441,
          35.14948,
          35.119996
         ],
         "legendgroup": "Left turn, same roadway",
         "lon": [
          -80.958441,
          -80.89323,
          -80.73076,
          -80.97248,
          -80.822961,
          -80.8594571,
          -80.861194,
          -80.774494,
          -80.741484,
          -80.794074,
          -80.843865,
          -80.978658,
          -80.919974,
          -80.885821,
          -80.797439,
          -80.8055,
          -80.857358,
          -80.9244967,
          -80.881954,
          -80.852466,
          -80.854912,
          -80.89548,
          -80.931831,
          -80.842638,
          -80.853083,
          -80.734937,
          -80.834086,
          -80.89282,
          -80.830997
         ],
         "marker": {
          "color": "#00cc96"
         },
         "mode": "markers",
         "name": "Left turn, same roadway",
         "showlegend": true,
         "subplot": "mapbox",
         "type": "scattermapbox"
        },
        {
         "hovertemplate": "CRASH_TYPE=Ran off road left<br>LATITUDE=%{lat}<br>LONGITUDE=%{lon}<extra></extra>",
         "lat": [
          35.14532,
          35.3086893,
          35.263461,
          35.2342091,
          35.334593,
          35.245322,
          35.200591,
          35.24538,
          35.257532,
          35.203572,
          35.28228,
          35.312258,
          35.163153,
          35.110909,
          35.211759,
          35.114621,
          35.292549,
          35.251591,
          35.086629,
          35.159161,
          35.223216,
          35.272865,
          35.202928,
          35.04367,
          35.2620542,
          35.267672,
          35.188051,
          35.241045,
          35.0700615
         ],
         "legendgroup": "Ran off road left",
         "lon": [
          -80.89929,
          -80.8071116,
          -80.788779,
          -80.7684105,
          -80.962731,
          -80.851351,
          -80.831593,
          -80.907429,
          -80.831984,
          -80.799165,
          -80.9179,
          -80.829313,
          -80.930309,
          -80.899518,
          -80.761453,
          -80.963482,
          -80.796014,
          -80.859413,
          -80.83568,
          -80.726193,
          -80.852223,
          -80.838792,
          -80.888256,
          -80.807962,
          -80.8793119,
          -80.769312,
          -80.876817,
          -80.737731,
          -80.7527362
         ],
         "marker": {
          "color": "#ab63fa"
         },
         "mode": "markers",
         "name": "Ran off road left",
         "showlegend": true,
         "subplot": "mapbox",
         "type": "scattermapbox"
        },
        {
         "hovertemplate": "CRASH_TYPE=Pedalcyclist<br>LATITUDE=%{lat}<br>LONGITUDE=%{lon}<extra></extra>",
         "lat": [
          35.238151,
          35.087694,
          35.154666,
          35.245869,
          35.142248,
          35.169914,
          35.239687,
          35.170002,
          35.192512,
          35.221265,
          35.235174
         ],
         "legendgroup": "Pedalcyclist",
         "lon": [
          -80.746968,
          -80.853081,
          -80.727126,
          -80.813203,
          -80.785759,
          -80.809674,
          -80.925567,
          -80.795946,
          -80.779579,
          -80.883275,
          -80.790032
         ],
         "marker": {
          "color": "#FFA15A"
         },
         "mode": "markers",
         "name": "Pedalcyclist",
         "showlegend": true,
         "subplot": "mapbox",
         "type": "scattermapbox"
        },
        {
         "hovertemplate": "CRASH_TYPE=Rear end, slow or stop<br>LATITUDE=%{lat}<br>LONGITUDE=%{lon}<extra></extra>",
         "lat": [
          35.162656,
          35.258236,
          35.334611,
          35.22946,
          35.28796,
          35.186781,
          35.226638,
          35.174687,
          35.148168,
          35.2658739,
          35.25294,
          35.314696,
          35.16168,
          35.194323,
          35.221572,
          35.201538,
          35.217668,
          35.178811,
          35.12112,
          35.1191688,
          35.14285,
          35.24952,
          35.32105,
          35.30658,
          35.2298831,
          35.14519,
          35.180749,
          35.24816,
          35.213421,
          35.169634,
          35.219264,
          35.233922,
          35.045668,
          35.33563,
          35.231329
         ],
         "legendgroup": "Rear end, slow or stop",
         "lon": [
          -80.849177,
          -80.788538,
          -80.715657,
          -80.84569,
          -80.85835,
          -80.766209,
          -80.74728,
          -80.8714267,
          -80.725324,
          -80.8917019,
          -80.843479,
          -80.76685,
          -80.74173,
          -80.873033,
          -80.822983,
          -80.825034,
          -80.923368,
          -80.882783,
          -80.949969,
          -80.9833398,
          -80.876488,
          -80.78106,
          -80.9398,
          -80.749125,
          -80.8303235,
          -80.87645,
          -80.889287,
          -80.907665,
          -80.687113,
          -80.904683,
          -80.798324,
          -80.842434,
          -80.847831,
          -80.827006,
          -80.871629
         ],
         "marker": {
          "color": "#19d3f3"
         },
         "mode": "markers",
         "name": "Rear end, slow or stop",
         "showlegend": true,
         "subplot": "mapbox",
         "type": "scattermapbox"
        },
        {
         "hovertemplate": "CRASH_TYPE=Guardrail face in median<br>LATITUDE=%{lat}<br>LONGITUDE=%{lon}<extra></extra>",
         "lat": [
          35.23938
         ],
         "legendgroup": "Guardrail face in median",
         "lon": [
          -80.842026
         ],
         "marker": {
          "color": "#FF6692"
         },
         "mode": "markers",
         "name": "Guardrail face in median",
         "showlegend": true,
         "subplot": "mapbox",
         "type": "scattermapbox"
        },
        {
         "hovertemplate": "CRASH_TYPE=Head on<br>LATITUDE=%{lat}<br>LONGITUDE=%{lon}<extra></extra>",
         "lat": [
          35.229701,
          35.180126,
          35.140779,
          35.2799981,
          35.23962,
          35.08798,
          35.242725,
          35.29102,
          35.223864,
          35.294525,
          35.265789,
          35.259579,
          35.271581,
          35.2211497
         ],
         "legendgroup": "Head on",
         "lon": [
          -80.75537,
          -80.892801,
          -80.975391,
          -80.6831375,
          -80.91956,
          -80.99262,
          -80.833459,
          -80.725052,
          -80.741202,
          -80.975109,
          -80.9273791,
          -80.932196,
          -80.724149,
          -80.8338991
         ],
         "marker": {
          "color": "#B6E880"
         },
         "mode": "markers",
         "name": "Head on",
         "showlegend": true,
         "subplot": "mapbox",
         "type": "scattermapbox"
        },
        {
         "hovertemplate": "CRASH_TYPE=Sideswipe, same direction<br>LATITUDE=%{lat}<br>LONGITUDE=%{lon}<extra></extra>",
         "lat": [
          35.195283,
          35.242684,
          35.265585,
          35.32105,
          35.22541,
          35.237073,
          35.224554,
          35.248681,
          35.19532
         ],
         "legendgroup": "Sideswipe, same direction",
         "lon": [
          -80.83751,
          -80.938119,
          -80.857052,
          -80.9398,
          -80.72197,
          -80.74018,
          -80.846972,
          -80.90449,
          -80.88384
         ],
         "marker": {
          "color": "#FF97FF"
         },
         "mode": "markers",
         "name": "Sideswipe, same direction",
         "showlegend": true,
         "subplot": "mapbox",
         "type": "scattermapbox"
        },
        {
         "hovertemplate": "CRASH_TYPE=Ran off road right<br>LATITUDE=%{lat}<br>LONGITUDE=%{lon}<extra></extra>",
         "lat": [
          35.278453,
          35.109605,
          35.251384,
          35.188731,
          35.346421,
          35.268529,
          35.310722,
          35.157559,
          35.220049,
          35.27198,
          35.267219,
          35.210151,
          35.083603,
          35.224357,
          35.099617,
          35.16879,
          35.064388,
          35.138274,
          35.26735,
          35.170318,
          35.345288,
          35.15051,
          35.239003,
          35.25987,
          35.241441,
          35.19924,
          35.190347,
          35.25563,
          35.2753453,
          35.346811,
          35.24591,
          35.20577,
          35.275282,
          35.273828,
          35.14848,
          35.076479,
          35.147817,
          35.321149,
          35.24919,
          35.327197,
          35.225147,
          35.315414,
          35.240679,
          35.185524,
          35.240611
         ],
         "legendgroup": "Ran off road right",
         "lon": [
          -80.966352,
          -80.799336,
          -80.90009,
          -80.853021,
          -80.898685,
          -80.731369,
          -80.826867,
          -80.734035,
          -80.834803,
          -80.850942,
          -80.940455,
          -80.662705,
          -80.81163,
          -80.897851,
          -80.972012,
          -80.80506,
          -80.784675,
          -80.905407,
          -80.85024,
          -80.709075,
          -80.760742,
          -80.7458,
          -80.777358,
          -80.874742,
          -80.796181,
          -80.7836,
          -80.823197,
          -80.87435,
          -80.793431,
          -80.895998,
          -80.956,
          -80.869209,
          -80.854821,
          -80.834425,
          -80.933959,
          -80.98911,
          -80.895491,
          -80.834421,
          -80.766631,
          -80.713146,
          -80.907536,
          -80.79666,
          -80.939369,
          -80.898954,
          -80.886658
         ],
         "marker": {
          "color": "#FECB52"
         },
         "mode": "markers",
         "name": "Ran off road right",
         "showlegend": true,
         "subplot": "mapbox",
         "type": "scattermapbox"
        },
        {
         "hovertemplate": "CRASH_TYPE=Ran off road straight ahead<br>LATITUDE=%{lat}<br>LONGITUDE=%{lon}<extra></extra>",
         "lat": [
          35.273346,
          35.221022,
          35.265813,
          35.27171
         ],
         "legendgroup": "Ran off road straight ahead",
         "lon": [
          -80.846608,
          -80.829988,
          -80.817881,
          -80.76065
         ],
         "marker": {
          "color": "#636efa"
         },
         "mode": "markers",
         "name": "Ran off road straight ahead",
         "showlegend": true,
         "subplot": "mapbox",
         "type": "scattermapbox"
        },
        {
         "hovertemplate": "CRASH_TYPE=Fixed object<br>LATITUDE=%{lat}<br>LONGITUDE=%{lon}<extra></extra>",
         "lat": [
          35.323236,
          35.336427,
          35.11574,
          35.260671
         ],
         "legendgroup": "Fixed object",
         "lon": [
          -80.73624,
          -80.710292,
          -80.926053,
          -80.898364
         ],
         "marker": {
          "color": "#EF553B"
         },
         "mode": "markers",
         "name": "Fixed object",
         "showlegend": true,
         "subplot": "mapbox",
         "type": "scattermapbox"
        },
        {
         "hovertemplate": "CRASH_TYPE=Other collision with vehicle*<br>LATITUDE=%{lat}<br>LONGITUDE=%{lon}<extra></extra>",
         "lat": [
          35.214972,
          35.203827,
          35.287505
         ],
         "legendgroup": "Other collision with vehicle*",
         "lon": [
          -80.807501,
          -80.76008,
          -80.794727
         ],
         "marker": {
          "color": "#00cc96"
         },
         "mode": "markers",
         "name": "Other collision with vehicle*",
         "showlegend": true,
         "subplot": "mapbox",
         "type": "scattermapbox"
        },
        {
         "hovertemplate": "CRASH_TYPE=Traffic island curb or median<br>LATITUDE=%{lat}<br>LONGITUDE=%{lon}<extra></extra>",
         "lat": [
          35.245365
         ],
         "legendgroup": "Traffic island curb or median",
         "lon": [
          -80.896694
         ],
         "marker": {
          "color": "#ab63fa"
         },
         "mode": "markers",
         "name": "Traffic island curb or median",
         "showlegend": true,
         "subplot": "mapbox",
         "type": "scattermapbox"
        },
        {
         "hovertemplate": "CRASH_TYPE=Left turn, different roadways<br>LATITUDE=%{lat}<br>LONGITUDE=%{lon}<extra></extra>",
         "lat": [
          35.191017,
          35.30432,
          35.221748,
          35.21073,
          35.238004,
          35.146893,
          35.144648,
          35.264933,
          35.2194955,
          35.176145,
          35.291625,
          35.258043,
          35.25559,
          35.193599,
          35.188545,
          35.232852,
          35.2662244,
          35.3163646
         ],
         "legendgroup": "Left turn, different roadways",
         "lon": [
          -80.963874,
          -80.93763,
          -80.750917,
          -80.75685,
          -80.776527,
          -80.744504,
          -80.742195,
          -80.795031,
          -80.8361558,
          -80.756561,
          -80.770755,
          -80.783308,
          -80.9073,
          -80.852176,
          -80.728682,
          -80.756695,
          -80.7314991,
          -80.7809565
         ],
         "marker": {
          "color": "#FFA15A"
         },
         "mode": "markers",
         "name": "Left turn, different roadways",
         "showlegend": true,
         "subplot": "mapbox",
         "type": "scattermapbox"
        },
        {
         "hovertemplate": "CRASH_TYPE=Other non-collision*<br>LATITUDE=%{lat}<br>LONGITUDE=%{lon}<extra></extra>",
         "lat": [
          35.253954,
          35.221682,
          35.190532,
          35.173256
         ],
         "legendgroup": "Other non-collision*",
         "lon": [
          -80.8052,
          -80.849714,
          -80.762718,
          -80.896432
         ],
         "marker": {
          "color": "#19d3f3"
         },
         "mode": "markers",
         "name": "Other non-collision*",
         "showlegend": true,
         "subplot": "mapbox",
         "type": "scattermapbox"
        },
        {
         "hovertemplate": "CRASH_TYPE=Overturn/rollover<br>LATITUDE=%{lat}<br>LONGITUDE=%{lon}<extra></extra>",
         "lat": [
          35.228132,
          35.231211
         ],
         "legendgroup": "Overturn/rollover",
         "lon": [
          -80.740033,
          -80.87825
         ],
         "marker": {
          "color": "#FF6692"
         },
         "mode": "markers",
         "name": "Overturn/rollover",
         "showlegend": true,
         "subplot": "mapbox",
         "type": "scattermapbox"
        },
        {
         "hovertemplate": "CRASH_TYPE=Mailbox<br>LATITUDE=%{lat}<br>LONGITUDE=%{lon}<extra></extra>",
         "lat": [
          35.119692
         ],
         "legendgroup": "Mailbox",
         "lon": [
          -80.773793
         ],
         "marker": {
          "color": "#B6E880"
         },
         "mode": "markers",
         "name": "Mailbox",
         "showlegend": true,
         "subplot": "mapbox",
         "type": "scattermapbox"
        },
        {
         "hovertemplate": "CRASH_TYPE=Backing up<br>LATITUDE=%{lat}<br>LONGITUDE=%{lon}<extra></extra>",
         "lat": [
          35.24971,
          35.17621,
          35.266384,
          35.2271967,
          35.280104,
          35.244598
         ],
         "legendgroup": "Backing up",
         "lon": [
          -80.813685,
          -80.798489,
          -80.768195,
          -80.8430844,
          -80.794149,
          -80.922782
         ],
         "marker": {
          "color": "#FF97FF"
         },
         "mode": "markers",
         "name": "Backing up",
         "showlegend": true,
         "subplot": "mapbox",
         "type": "scattermapbox"
        },
        {
         "hovertemplate": "CRASH_TYPE=Rear end, turn<br>LATITUDE=%{lat}<br>LONGITUDE=%{lon}<extra></extra>",
         "lat": [
          35.221687,
          35.292084
         ],
         "legendgroup": "Rear end, turn",
         "lon": [
          -80.822436,
          -80.737927
         ],
         "marker": {
          "color": "#FECB52"
         },
         "mode": "markers",
         "name": "Rear end, turn",
         "showlegend": true,
         "subplot": "mapbox",
         "type": "scattermapbox"
        },
        {
         "hovertemplate": "CRASH_TYPE=Parked motor vehicle<br>LATITUDE=%{lat}<br>LONGITUDE=%{lon}<extra></extra>",
         "lat": [
          35.226936,
          35.210975,
          35.21098
         ],
         "legendgroup": "Parked motor vehicle",
         "lon": [
          -80.836209,
          -80.686415,
          -80.686405
         ],
         "marker": {
          "color": "#636efa"
         },
         "mode": "markers",
         "name": "Parked motor vehicle",
         "showlegend": true,
         "subplot": "mapbox",
         "type": "scattermapbox"
        },
        {
         "hovertemplate": "CRASH_TYPE=Right turn, same roadway<br>LATITUDE=%{lat}<br>LONGITUDE=%{lon}<extra></extra>",
         "lat": [
          35.279802,
          35.256981
         ],
         "legendgroup": "Right turn, same roadway",
         "lon": [
          -80.7662,
          -80.836182
         ],
         "marker": {
          "color": "#EF553B"
         },
         "mode": "markers",
         "name": "Right turn, same roadway",
         "showlegend": true,
         "subplot": "mapbox",
         "type": "scattermapbox"
        },
        {
         "hovertemplate": "CRASH_TYPE=Sideswipe, opposite direction<br>LATITUDE=%{lat}<br>LONGITUDE=%{lon}<extra></extra>",
         "lat": [
          35.231791
         ],
         "legendgroup": "Sideswipe, opposite direction",
         "lon": [
          -80.870683
         ],
         "marker": {
          "color": "#00cc96"
         },
         "mode": "markers",
         "name": "Sideswipe, opposite direction",
         "showlegend": true,
         "subplot": "mapbox",
         "type": "scattermapbox"
        },
        {
         "hovertemplate": "CRASH_TYPE=RR train, engine<br>LATITUDE=%{lat}<br>LONGITUDE=%{lon}<extra></extra>",
         "lat": [
          35.125051
         ],
         "legendgroup": "RR train, engine",
         "lon": [
          -80.879003
         ],
         "marker": {
          "color": "#ab63fa"
         },
         "mode": "markers",
         "name": "RR train, engine",
         "showlegend": true,
         "subplot": "mapbox",
         "type": "scattermapbox"
        }
       ],
       "layout": {
        "legend": {
         "title": {
          "text": "CRASH_TYPE"
         },
         "tracegroupgap": 0
        },
        "mapbox": {
         "accesstoken": "pk.eyJ1IjoiZWxheWVyIiwiYSI6ImNsM3RpYmlqczIyYnUzZGw4NTJhZGkwaWIifQ.qHTFFM_76ATKuVmNMfs8Kg",
         "center": {
          "lat": 35.22243819099381,
          "lon": -80.83225145993788
         },
         "domain": {
          "x": [
           0,
           1
          ],
          "y": [
           0,
           1
          ]
         },
         "zoom": 10
        },
        "margin": {
         "t": 60
        },
        "template": {
         "data": {
          "bar": [
           {
            "error_x": {
             "color": "#2a3f5f"
            },
            "error_y": {
             "color": "#2a3f5f"
            },
            "marker": {
             "line": {
              "color": "#E5ECF6",
              "width": 0.5
             },
             "pattern": {
              "fillmode": "overlay",
              "size": 10,
              "solidity": 0.2
             }
            },
            "type": "bar"
           }
          ],
          "barpolar": [
           {
            "marker": {
             "line": {
              "color": "#E5ECF6",
              "width": 0.5
             },
             "pattern": {
              "fillmode": "overlay",
              "size": 10,
              "solidity": 0.2
             }
            },
            "type": "barpolar"
           }
          ],
          "carpet": [
           {
            "aaxis": {
             "endlinecolor": "#2a3f5f",
             "gridcolor": "white",
             "linecolor": "white",
             "minorgridcolor": "white",
             "startlinecolor": "#2a3f5f"
            },
            "baxis": {
             "endlinecolor": "#2a3f5f",
             "gridcolor": "white",
             "linecolor": "white",
             "minorgridcolor": "white",
             "startlinecolor": "#2a3f5f"
            },
            "type": "carpet"
           }
          ],
          "choropleth": [
           {
            "colorbar": {
             "outlinewidth": 0,
             "ticks": ""
            },
            "type": "choropleth"
           }
          ],
          "contour": [
           {
            "colorbar": {
             "outlinewidth": 0,
             "ticks": ""
            },
            "colorscale": [
             [
              0,
              "#0d0887"
             ],
             [
              0.1111111111111111,
              "#46039f"
             ],
             [
              0.2222222222222222,
              "#7201a8"
             ],
             [
              0.3333333333333333,
              "#9c179e"
             ],
             [
              0.4444444444444444,
              "#bd3786"
             ],
             [
              0.5555555555555556,
              "#d8576b"
             ],
             [
              0.6666666666666666,
              "#ed7953"
             ],
             [
              0.7777777777777778,
              "#fb9f3a"
             ],
             [
              0.8888888888888888,
              "#fdca26"
             ],
             [
              1,
              "#f0f921"
             ]
            ],
            "type": "contour"
           }
          ],
          "contourcarpet": [
           {
            "colorbar": {
             "outlinewidth": 0,
             "ticks": ""
            },
            "type": "contourcarpet"
           }
          ],
          "heatmap": [
           {
            "colorbar": {
             "outlinewidth": 0,
             "ticks": ""
            },
            "colorscale": [
             [
              0,
              "#0d0887"
             ],
             [
              0.1111111111111111,
              "#46039f"
             ],
             [
              0.2222222222222222,
              "#7201a8"
             ],
             [
              0.3333333333333333,
              "#9c179e"
             ],
             [
              0.4444444444444444,
              "#bd3786"
             ],
             [
              0.5555555555555556,
              "#d8576b"
             ],
             [
              0.6666666666666666,
              "#ed7953"
             ],
             [
              0.7777777777777778,
              "#fb9f3a"
             ],
             [
              0.8888888888888888,
              "#fdca26"
             ],
             [
              1,
              "#f0f921"
             ]
            ],
            "type": "heatmap"
           }
          ],
          "heatmapgl": [
           {
            "colorbar": {
             "outlinewidth": 0,
             "ticks": ""
            },
            "colorscale": [
             [
              0,
              "#0d0887"
             ],
             [
              0.1111111111111111,
              "#46039f"
             ],
             [
              0.2222222222222222,
              "#7201a8"
             ],
             [
              0.3333333333333333,
              "#9c179e"
             ],
             [
              0.4444444444444444,
              "#bd3786"
             ],
             [
              0.5555555555555556,
              "#d8576b"
             ],
             [
              0.6666666666666666,
              "#ed7953"
             ],
             [
              0.7777777777777778,
              "#fb9f3a"
             ],
             [
              0.8888888888888888,
              "#fdca26"
             ],
             [
              1,
              "#f0f921"
             ]
            ],
            "type": "heatmapgl"
           }
          ],
          "histogram": [
           {
            "marker": {
             "pattern": {
              "fillmode": "overlay",
              "size": 10,
              "solidity": 0.2
             }
            },
            "type": "histogram"
           }
          ],
          "histogram2d": [
           {
            "colorbar": {
             "outlinewidth": 0,
             "ticks": ""
            },
            "colorscale": [
             [
              0,
              "#0d0887"
             ],
             [
              0.1111111111111111,
              "#46039f"
             ],
             [
              0.2222222222222222,
              "#7201a8"
             ],
             [
              0.3333333333333333,
              "#9c179e"
             ],
             [
              0.4444444444444444,
              "#bd3786"
             ],
             [
              0.5555555555555556,
              "#d8576b"
             ],
             [
              0.6666666666666666,
              "#ed7953"
             ],
             [
              0.7777777777777778,
              "#fb9f3a"
             ],
             [
              0.8888888888888888,
              "#fdca26"
             ],
             [
              1,
              "#f0f921"
             ]
            ],
            "type": "histogram2d"
           }
          ],
          "histogram2dcontour": [
           {
            "colorbar": {
             "outlinewidth": 0,
             "ticks": ""
            },
            "colorscale": [
             [
              0,
              "#0d0887"
             ],
             [
              0.1111111111111111,
              "#46039f"
             ],
             [
              0.2222222222222222,
              "#7201a8"
             ],
             [
              0.3333333333333333,
              "#9c179e"
             ],
             [
              0.4444444444444444,
              "#bd3786"
             ],
             [
              0.5555555555555556,
              "#d8576b"
             ],
             [
              0.6666666666666666,
              "#ed7953"
             ],
             [
              0.7777777777777778,
              "#fb9f3a"
             ],
             [
              0.8888888888888888,
              "#fdca26"
             ],
             [
              1,
              "#f0f921"
             ]
            ],
            "type": "histogram2dcontour"
           }
          ],
          "mesh3d": [
           {
            "colorbar": {
             "outlinewidth": 0,
             "ticks": ""
            },
            "type": "mesh3d"
           }
          ],
          "parcoords": [
           {
            "line": {
             "colorbar": {
              "outlinewidth": 0,
              "ticks": ""
             }
            },
            "type": "parcoords"
           }
          ],
          "pie": [
           {
            "automargin": true,
            "type": "pie"
           }
          ],
          "scatter": [
           {
            "marker": {
             "colorbar": {
              "outlinewidth": 0,
              "ticks": ""
             }
            },
            "type": "scatter"
           }
          ],
          "scatter3d": [
           {
            "line": {
             "colorbar": {
              "outlinewidth": 0,
              "ticks": ""
             }
            },
            "marker": {
             "colorbar": {
              "outlinewidth": 0,
              "ticks": ""
             }
            },
            "type": "scatter3d"
           }
          ],
          "scattercarpet": [
           {
            "marker": {
             "colorbar": {
              "outlinewidth": 0,
              "ticks": ""
             }
            },
            "type": "scattercarpet"
           }
          ],
          "scattergeo": [
           {
            "marker": {
             "colorbar": {
              "outlinewidth": 0,
              "ticks": ""
             }
            },
            "type": "scattergeo"
           }
          ],
          "scattergl": [
           {
            "marker": {
             "colorbar": {
              "outlinewidth": 0,
              "ticks": ""
             }
            },
            "type": "scattergl"
           }
          ],
          "scattermapbox": [
           {
            "marker": {
             "colorbar": {
              "outlinewidth": 0,
              "ticks": ""
             }
            },
            "type": "scattermapbox"
           }
          ],
          "scatterpolar": [
           {
            "marker": {
             "colorbar": {
              "outlinewidth": 0,
              "ticks": ""
             }
            },
            "type": "scatterpolar"
           }
          ],
          "scatterpolargl": [
           {
            "marker": {
             "colorbar": {
              "outlinewidth": 0,
              "ticks": ""
             }
            },
            "type": "scatterpolargl"
           }
          ],
          "scatterternary": [
           {
            "marker": {
             "colorbar": {
              "outlinewidth": 0,
              "ticks": ""
             }
            },
            "type": "scatterternary"
           }
          ],
          "surface": [
           {
            "colorbar": {
             "outlinewidth": 0,
             "ticks": ""
            },
            "colorscale": [
             [
              0,
              "#0d0887"
             ],
             [
              0.1111111111111111,
              "#46039f"
             ],
             [
              0.2222222222222222,
              "#7201a8"
             ],
             [
              0.3333333333333333,
              "#9c179e"
             ],
             [
              0.4444444444444444,
              "#bd3786"
             ],
             [
              0.5555555555555556,
              "#d8576b"
             ],
             [
              0.6666666666666666,
              "#ed7953"
             ],
             [
              0.7777777777777778,
              "#fb9f3a"
             ],
             [
              0.8888888888888888,
              "#fdca26"
             ],
             [
              1,
              "#f0f921"
             ]
            ],
            "type": "surface"
           }
          ],
          "table": [
           {
            "cells": {
             "fill": {
              "color": "#EBF0F8"
             },
             "line": {
              "color": "white"
             }
            },
            "header": {
             "fill": {
              "color": "#C8D4E3"
             },
             "line": {
              "color": "white"
             }
            },
            "type": "table"
           }
          ]
         },
         "layout": {
          "annotationdefaults": {
           "arrowcolor": "#2a3f5f",
           "arrowhead": 0,
           "arrowwidth": 1
          },
          "autotypenumbers": "strict",
          "coloraxis": {
           "colorbar": {
            "outlinewidth": 0,
            "ticks": ""
           }
          },
          "colorscale": {
           "diverging": [
            [
             0,
             "#8e0152"
            ],
            [
             0.1,
             "#c51b7d"
            ],
            [
             0.2,
             "#de77ae"
            ],
            [
             0.3,
             "#f1b6da"
            ],
            [
             0.4,
             "#fde0ef"
            ],
            [
             0.5,
             "#f7f7f7"
            ],
            [
             0.6,
             "#e6f5d0"
            ],
            [
             0.7,
             "#b8e186"
            ],
            [
             0.8,
             "#7fbc41"
            ],
            [
             0.9,
             "#4d9221"
            ],
            [
             1,
             "#276419"
            ]
           ],
           "sequential": [
            [
             0,
             "#0d0887"
            ],
            [
             0.1111111111111111,
             "#46039f"
            ],
            [
             0.2222222222222222,
             "#7201a8"
            ],
            [
             0.3333333333333333,
             "#9c179e"
            ],
            [
             0.4444444444444444,
             "#bd3786"
            ],
            [
             0.5555555555555556,
             "#d8576b"
            ],
            [
             0.6666666666666666,
             "#ed7953"
            ],
            [
             0.7777777777777778,
             "#fb9f3a"
            ],
            [
             0.8888888888888888,
             "#fdca26"
            ],
            [
             1,
             "#f0f921"
            ]
           ],
           "sequentialminus": [
            [
             0,
             "#0d0887"
            ],
            [
             0.1111111111111111,
             "#46039f"
            ],
            [
             0.2222222222222222,
             "#7201a8"
            ],
            [
             0.3333333333333333,
             "#9c179e"
            ],
            [
             0.4444444444444444,
             "#bd3786"
            ],
            [
             0.5555555555555556,
             "#d8576b"
            ],
            [
             0.6666666666666666,
             "#ed7953"
            ],
            [
             0.7777777777777778,
             "#fb9f3a"
            ],
            [
             0.8888888888888888,
             "#fdca26"
            ],
            [
             1,
             "#f0f921"
            ]
           ]
          },
          "colorway": [
           "#636efa",
           "#EF553B",
           "#00cc96",
           "#ab63fa",
           "#FFA15A",
           "#19d3f3",
           "#FF6692",
           "#B6E880",
           "#FF97FF",
           "#FECB52"
          ],
          "font": {
           "color": "#2a3f5f"
          },
          "geo": {
           "bgcolor": "white",
           "lakecolor": "white",
           "landcolor": "#E5ECF6",
           "showlakes": true,
           "showland": true,
           "subunitcolor": "white"
          },
          "hoverlabel": {
           "align": "left"
          },
          "hovermode": "closest",
          "mapbox": {
           "style": "light"
          },
          "paper_bgcolor": "white",
          "plot_bgcolor": "#E5ECF6",
          "polar": {
           "angularaxis": {
            "gridcolor": "white",
            "linecolor": "white",
            "ticks": ""
           },
           "bgcolor": "#E5ECF6",
           "radialaxis": {
            "gridcolor": "white",
            "linecolor": "white",
            "ticks": ""
           }
          },
          "scene": {
           "xaxis": {
            "backgroundcolor": "#E5ECF6",
            "gridcolor": "white",
            "gridwidth": 2,
            "linecolor": "white",
            "showbackground": true,
            "ticks": "",
            "zerolinecolor": "white"
           },
           "yaxis": {
            "backgroundcolor": "#E5ECF6",
            "gridcolor": "white",
            "gridwidth": 2,
            "linecolor": "white",
            "showbackground": true,
            "ticks": "",
            "zerolinecolor": "white"
           },
           "zaxis": {
            "backgroundcolor": "#E5ECF6",
            "gridcolor": "white",
            "gridwidth": 2,
            "linecolor": "white",
            "showbackground": true,
            "ticks": "",
            "zerolinecolor": "white"
           }
          },
          "shapedefaults": {
           "line": {
            "color": "#2a3f5f"
           }
          },
          "ternary": {
           "aaxis": {
            "gridcolor": "white",
            "linecolor": "white",
            "ticks": ""
           },
           "baxis": {
            "gridcolor": "white",
            "linecolor": "white",
            "ticks": ""
           },
           "bgcolor": "#E5ECF6",
           "caxis": {
            "gridcolor": "white",
            "linecolor": "white",
            "ticks": ""
           }
          },
          "title": {
           "x": 0.05
          },
          "xaxis": {
           "automargin": true,
           "gridcolor": "white",
           "linecolor": "white",
           "ticks": "",
           "title": {
            "standoff": 15
           },
           "zerolinecolor": "white",
           "zerolinewidth": 2
          },
          "yaxis": {
           "automargin": true,
           "gridcolor": "white",
           "linecolor": "white",
           "ticks": "",
           "title": {
            "standoff": 15
           },
           "zerolinecolor": "white",
           "zerolinewidth": 2
          }
         }
        }
       }
      },
      "text/html": [
       "<div>                            <div id=\"bfb6ed6b-58b0-4b63-8b9b-25debcd450bf\" class=\"plotly-graph-div\" style=\"height:525px; width:100%;\"></div>            <script type=\"text/javascript\">                require([\"plotly\"], function(Plotly) {                    window.PLOTLYENV=window.PLOTLYENV || {};                                    if (document.getElementById(\"bfb6ed6b-58b0-4b63-8b9b-25debcd450bf\")) {                    Plotly.newPlot(                        \"bfb6ed6b-58b0-4b63-8b9b-25debcd450bf\",                        [{\"hovertemplate\":\"CRASH_TYPE=Pedestrian<br>LATITUDE=%{lat}<br>LONGITUDE=%{lon}<extra></extra>\",\"lat\":[35.162879,35.292667,35.215638,35.146249,35.21174,35.25229,35.259453,35.24797,35.187462,35.233669,35.238366,35.2629919,35.258087,35.201394,35.204444,35.296616,35.241004,35.13461,35.162626,35.2040147,35.176572,35.099353,35.244274,35.20313,35.204648,35.19875,35.220815,35.238071,35.211467,35.203171,35.24923,35.305882,35.319297,35.229524,35.178325,35.26587,35.258078,35.228605,35.26887,35.210135,35.171927,35.28073,35.326969,35.277417,35.214046,35.184016,35.214205,35.23899,35.074519,35.1968,35.18634,35.216081,35.267111,35.204767,35.138002,35.224005,35.245965,35.388232,35.26246,35.144558,35.211575,35.101061,35.1625779,35.283559,35.24954,35.211487,35.261509,35.217484,35.284054,35.184251,35.234098,35.240459,35.284068,35.21982,35.138653,35.186002,35.197404,35.221505,35.229894,35.245855],\"legendgroup\":\"Pedestrian\",\"lon\":[-80.922041,-80.796837,-80.923099,-80.895944,-80.907287,-80.9011,-80.874202,-80.78503,-80.809824,-80.842789,-80.776777,-80.854715,-80.784482,-80.872926,-80.719804,-80.741519,-80.921811,-80.939353,-80.73947,-80.7503553,-80.745423,-81.007454,-80.841334,-80.74399,-80.863408,-80.719154,-80.810684,-80.799668,-80.900923,-80.7240254,-80.897704,-80.703791,-80.951766,-80.924743,-80.891519,-80.837402,-80.783924,-80.846827,-80.794616,-80.920269,-80.807505,-80.765691,-80.735779,-80.785323,-80.855187,-80.756845,-80.771793,-80.827339,-80.747122,-80.726439,-80.82158,-80.846774,-80.794844,-80.940805,-80.738568,-80.883231,-80.893734,-80.782251,-80.87892,-80.728751,-80.760467,-80.776393,-80.7527099,-80.763738,-80.781038,-80.89991,-80.84706,-80.854778,-80.771136,-80.761383,-80.738686,-80.918629,-80.770679,-80.845438,-80.740513,-80.923576,-80.733931,-80.810624,-80.831432,-80.894001],\"marker\":{\"color\":\"#636efa\"},\"mode\":\"markers\",\"name\":\"Pedestrian\",\"showlegend\":true,\"subplot\":\"mapbox\",\"type\":\"scattermapbox\"},{\"hovertemplate\":\"CRASH_TYPE=Angle<br>LATITUDE=%{lat}<br>LONGITUDE=%{lon}<extra></extra>\",\"lat\":[35.222586,35.282217,35.234193,35.25126,35.2273101,35.25365,35.3092287,35.058122,35.179101,35.155622,35.29102,35.178057,35.25126,35.309184,35.206125,35.254915,35.246851],\"legendgroup\":\"Angle\",\"lon\":[-80.946103,-80.914266,-80.769103,-80.7473,-80.8452966,-80.90358,-80.8074975,-80.812452,-80.929456,-80.989918,-80.96927,-80.879626,-80.7473,-80.718775,-80.922029,-80.800758,-80.856784],\"marker\":{\"color\":\"#EF553B\"},\"mode\":\"markers\",\"name\":\"Angle\",\"showlegend\":true,\"subplot\":\"mapbox\",\"type\":\"scattermapbox\"},{\"hovertemplate\":\"CRASH_TYPE=Left turn, same roadway<br>LATITUDE=%{lat}<br>LONGITUDE=%{lon}<extra></extra>\",\"lat\":[35.274158,35.245523,35.20247,35.272,35.084092,35.1174334,35.347633,35.230398,35.296562,35.271008,35.261078,35.107885,35.237805,35.239858,35.361067,35.033647,35.282858,35.2294006,35.26661,35.234828,35.214307,35.27921,35.192412,35.221217,35.222712,35.179033,35.203441,35.14948,35.119996],\"legendgroup\":\"Left turn, same roadway\",\"lon\":[-80.958441,-80.89323,-80.73076,-80.97248,-80.822961,-80.8594571,-80.861194,-80.774494,-80.741484,-80.794074,-80.843865,-80.978658,-80.919974,-80.885821,-80.797439,-80.8055,-80.857358,-80.9244967,-80.881954,-80.852466,-80.854912,-80.89548,-80.931831,-80.842638,-80.853083,-80.734937,-80.834086,-80.89282,-80.830997],\"marker\":{\"color\":\"#00cc96\"},\"mode\":\"markers\",\"name\":\"Left turn, same roadway\",\"showlegend\":true,\"subplot\":\"mapbox\",\"type\":\"scattermapbox\"},{\"hovertemplate\":\"CRASH_TYPE=Ran off road left<br>LATITUDE=%{lat}<br>LONGITUDE=%{lon}<extra></extra>\",\"lat\":[35.14532,35.3086893,35.263461,35.2342091,35.334593,35.245322,35.200591,35.24538,35.257532,35.203572,35.28228,35.312258,35.163153,35.110909,35.211759,35.114621,35.292549,35.251591,35.086629,35.159161,35.223216,35.272865,35.202928,35.04367,35.2620542,35.267672,35.188051,35.241045,35.0700615],\"legendgroup\":\"Ran off road left\",\"lon\":[-80.89929,-80.8071116,-80.788779,-80.7684105,-80.962731,-80.851351,-80.831593,-80.907429,-80.831984,-80.799165,-80.9179,-80.829313,-80.930309,-80.899518,-80.761453,-80.963482,-80.796014,-80.859413,-80.83568,-80.726193,-80.852223,-80.838792,-80.888256,-80.807962,-80.8793119,-80.769312,-80.876817,-80.737731,-80.7527362],\"marker\":{\"color\":\"#ab63fa\"},\"mode\":\"markers\",\"name\":\"Ran off road left\",\"showlegend\":true,\"subplot\":\"mapbox\",\"type\":\"scattermapbox\"},{\"hovertemplate\":\"CRASH_TYPE=Pedalcyclist<br>LATITUDE=%{lat}<br>LONGITUDE=%{lon}<extra></extra>\",\"lat\":[35.238151,35.087694,35.154666,35.245869,35.142248,35.169914,35.239687,35.170002,35.192512,35.221265,35.235174],\"legendgroup\":\"Pedalcyclist\",\"lon\":[-80.746968,-80.853081,-80.727126,-80.813203,-80.785759,-80.809674,-80.925567,-80.795946,-80.779579,-80.883275,-80.790032],\"marker\":{\"color\":\"#FFA15A\"},\"mode\":\"markers\",\"name\":\"Pedalcyclist\",\"showlegend\":true,\"subplot\":\"mapbox\",\"type\":\"scattermapbox\"},{\"hovertemplate\":\"CRASH_TYPE=Rear end, slow or stop<br>LATITUDE=%{lat}<br>LONGITUDE=%{lon}<extra></extra>\",\"lat\":[35.162656,35.258236,35.334611,35.22946,35.28796,35.186781,35.226638,35.174687,35.148168,35.2658739,35.25294,35.314696,35.16168,35.194323,35.221572,35.201538,35.217668,35.178811,35.12112,35.1191688,35.14285,35.24952,35.32105,35.30658,35.2298831,35.14519,35.180749,35.24816,35.213421,35.169634,35.219264,35.233922,35.045668,35.33563,35.231329],\"legendgroup\":\"Rear end, slow or stop\",\"lon\":[-80.849177,-80.788538,-80.715657,-80.84569,-80.85835,-80.766209,-80.74728,-80.8714267,-80.725324,-80.8917019,-80.843479,-80.76685,-80.74173,-80.873033,-80.822983,-80.825034,-80.923368,-80.882783,-80.949969,-80.9833398,-80.876488,-80.78106,-80.9398,-80.749125,-80.8303235,-80.87645,-80.889287,-80.907665,-80.687113,-80.904683,-80.798324,-80.842434,-80.847831,-80.827006,-80.871629],\"marker\":{\"color\":\"#19d3f3\"},\"mode\":\"markers\",\"name\":\"Rear end, slow or stop\",\"showlegend\":true,\"subplot\":\"mapbox\",\"type\":\"scattermapbox\"},{\"hovertemplate\":\"CRASH_TYPE=Guardrail face in median<br>LATITUDE=%{lat}<br>LONGITUDE=%{lon}<extra></extra>\",\"lat\":[35.23938],\"legendgroup\":\"Guardrail face in median\",\"lon\":[-80.842026],\"marker\":{\"color\":\"#FF6692\"},\"mode\":\"markers\",\"name\":\"Guardrail face in median\",\"showlegend\":true,\"subplot\":\"mapbox\",\"type\":\"scattermapbox\"},{\"hovertemplate\":\"CRASH_TYPE=Head on<br>LATITUDE=%{lat}<br>LONGITUDE=%{lon}<extra></extra>\",\"lat\":[35.229701,35.180126,35.140779,35.2799981,35.23962,35.08798,35.242725,35.29102,35.223864,35.294525,35.265789,35.259579,35.271581,35.2211497],\"legendgroup\":\"Head on\",\"lon\":[-80.75537,-80.892801,-80.975391,-80.6831375,-80.91956,-80.99262,-80.833459,-80.725052,-80.741202,-80.975109,-80.9273791,-80.932196,-80.724149,-80.8338991],\"marker\":{\"color\":\"#B6E880\"},\"mode\":\"markers\",\"name\":\"Head on\",\"showlegend\":true,\"subplot\":\"mapbox\",\"type\":\"scattermapbox\"},{\"hovertemplate\":\"CRASH_TYPE=Sideswipe, same direction<br>LATITUDE=%{lat}<br>LONGITUDE=%{lon}<extra></extra>\",\"lat\":[35.195283,35.242684,35.265585,35.32105,35.22541,35.237073,35.224554,35.248681,35.19532],\"legendgroup\":\"Sideswipe, same direction\",\"lon\":[-80.83751,-80.938119,-80.857052,-80.9398,-80.72197,-80.74018,-80.846972,-80.90449,-80.88384],\"marker\":{\"color\":\"#FF97FF\"},\"mode\":\"markers\",\"name\":\"Sideswipe, same direction\",\"showlegend\":true,\"subplot\":\"mapbox\",\"type\":\"scattermapbox\"},{\"hovertemplate\":\"CRASH_TYPE=Ran off road right<br>LATITUDE=%{lat}<br>LONGITUDE=%{lon}<extra></extra>\",\"lat\":[35.278453,35.109605,35.251384,35.188731,35.346421,35.268529,35.310722,35.157559,35.220049,35.27198,35.267219,35.210151,35.083603,35.224357,35.099617,35.16879,35.064388,35.138274,35.26735,35.170318,35.345288,35.15051,35.239003,35.25987,35.241441,35.19924,35.190347,35.25563,35.2753453,35.346811,35.24591,35.20577,35.275282,35.273828,35.14848,35.076479,35.147817,35.321149,35.24919,35.327197,35.225147,35.315414,35.240679,35.185524,35.240611],\"legendgroup\":\"Ran off road right\",\"lon\":[-80.966352,-80.799336,-80.90009,-80.853021,-80.898685,-80.731369,-80.826867,-80.734035,-80.834803,-80.850942,-80.940455,-80.662705,-80.81163,-80.897851,-80.972012,-80.80506,-80.784675,-80.905407,-80.85024,-80.709075,-80.760742,-80.7458,-80.777358,-80.874742,-80.796181,-80.7836,-80.823197,-80.87435,-80.793431,-80.895998,-80.956,-80.869209,-80.854821,-80.834425,-80.933959,-80.98911,-80.895491,-80.834421,-80.766631,-80.713146,-80.907536,-80.79666,-80.939369,-80.898954,-80.886658],\"marker\":{\"color\":\"#FECB52\"},\"mode\":\"markers\",\"name\":\"Ran off road right\",\"showlegend\":true,\"subplot\":\"mapbox\",\"type\":\"scattermapbox\"},{\"hovertemplate\":\"CRASH_TYPE=Ran off road straight ahead<br>LATITUDE=%{lat}<br>LONGITUDE=%{lon}<extra></extra>\",\"lat\":[35.273346,35.221022,35.265813,35.27171],\"legendgroup\":\"Ran off road straight ahead\",\"lon\":[-80.846608,-80.829988,-80.817881,-80.76065],\"marker\":{\"color\":\"#636efa\"},\"mode\":\"markers\",\"name\":\"Ran off road straight ahead\",\"showlegend\":true,\"subplot\":\"mapbox\",\"type\":\"scattermapbox\"},{\"hovertemplate\":\"CRASH_TYPE=Fixed object<br>LATITUDE=%{lat}<br>LONGITUDE=%{lon}<extra></extra>\",\"lat\":[35.323236,35.336427,35.11574,35.260671],\"legendgroup\":\"Fixed object\",\"lon\":[-80.73624,-80.710292,-80.926053,-80.898364],\"marker\":{\"color\":\"#EF553B\"},\"mode\":\"markers\",\"name\":\"Fixed object\",\"showlegend\":true,\"subplot\":\"mapbox\",\"type\":\"scattermapbox\"},{\"hovertemplate\":\"CRASH_TYPE=Other collision with vehicle*<br>LATITUDE=%{lat}<br>LONGITUDE=%{lon}<extra></extra>\",\"lat\":[35.214972,35.203827,35.287505],\"legendgroup\":\"Other collision with vehicle*\",\"lon\":[-80.807501,-80.76008,-80.794727],\"marker\":{\"color\":\"#00cc96\"},\"mode\":\"markers\",\"name\":\"Other collision with vehicle*\",\"showlegend\":true,\"subplot\":\"mapbox\",\"type\":\"scattermapbox\"},{\"hovertemplate\":\"CRASH_TYPE=Traffic island curb or median<br>LATITUDE=%{lat}<br>LONGITUDE=%{lon}<extra></extra>\",\"lat\":[35.245365],\"legendgroup\":\"Traffic island curb or median\",\"lon\":[-80.896694],\"marker\":{\"color\":\"#ab63fa\"},\"mode\":\"markers\",\"name\":\"Traffic island curb or median\",\"showlegend\":true,\"subplot\":\"mapbox\",\"type\":\"scattermapbox\"},{\"hovertemplate\":\"CRASH_TYPE=Left turn, different roadways<br>LATITUDE=%{lat}<br>LONGITUDE=%{lon}<extra></extra>\",\"lat\":[35.191017,35.30432,35.221748,35.21073,35.238004,35.146893,35.144648,35.264933,35.2194955,35.176145,35.291625,35.258043,35.25559,35.193599,35.188545,35.232852,35.2662244,35.3163646],\"legendgroup\":\"Left turn, different roadways\",\"lon\":[-80.963874,-80.93763,-80.750917,-80.75685,-80.776527,-80.744504,-80.742195,-80.795031,-80.8361558,-80.756561,-80.770755,-80.783308,-80.9073,-80.852176,-80.728682,-80.756695,-80.7314991,-80.7809565],\"marker\":{\"color\":\"#FFA15A\"},\"mode\":\"markers\",\"name\":\"Left turn, different roadways\",\"showlegend\":true,\"subplot\":\"mapbox\",\"type\":\"scattermapbox\"},{\"hovertemplate\":\"CRASH_TYPE=Other non-collision*<br>LATITUDE=%{lat}<br>LONGITUDE=%{lon}<extra></extra>\",\"lat\":[35.253954,35.221682,35.190532,35.173256],\"legendgroup\":\"Other non-collision*\",\"lon\":[-80.8052,-80.849714,-80.762718,-80.896432],\"marker\":{\"color\":\"#19d3f3\"},\"mode\":\"markers\",\"name\":\"Other non-collision*\",\"showlegend\":true,\"subplot\":\"mapbox\",\"type\":\"scattermapbox\"},{\"hovertemplate\":\"CRASH_TYPE=Overturn/rollover<br>LATITUDE=%{lat}<br>LONGITUDE=%{lon}<extra></extra>\",\"lat\":[35.228132,35.231211],\"legendgroup\":\"Overturn/rollover\",\"lon\":[-80.740033,-80.87825],\"marker\":{\"color\":\"#FF6692\"},\"mode\":\"markers\",\"name\":\"Overturn/rollover\",\"showlegend\":true,\"subplot\":\"mapbox\",\"type\":\"scattermapbox\"},{\"hovertemplate\":\"CRASH_TYPE=Mailbox<br>LATITUDE=%{lat}<br>LONGITUDE=%{lon}<extra></extra>\",\"lat\":[35.119692],\"legendgroup\":\"Mailbox\",\"lon\":[-80.773793],\"marker\":{\"color\":\"#B6E880\"},\"mode\":\"markers\",\"name\":\"Mailbox\",\"showlegend\":true,\"subplot\":\"mapbox\",\"type\":\"scattermapbox\"},{\"hovertemplate\":\"CRASH_TYPE=Backing up<br>LATITUDE=%{lat}<br>LONGITUDE=%{lon}<extra></extra>\",\"lat\":[35.24971,35.17621,35.266384,35.2271967,35.280104,35.244598],\"legendgroup\":\"Backing up\",\"lon\":[-80.813685,-80.798489,-80.768195,-80.8430844,-80.794149,-80.922782],\"marker\":{\"color\":\"#FF97FF\"},\"mode\":\"markers\",\"name\":\"Backing up\",\"showlegend\":true,\"subplot\":\"mapbox\",\"type\":\"scattermapbox\"},{\"hovertemplate\":\"CRASH_TYPE=Rear end, turn<br>LATITUDE=%{lat}<br>LONGITUDE=%{lon}<extra></extra>\",\"lat\":[35.221687,35.292084],\"legendgroup\":\"Rear end, turn\",\"lon\":[-80.822436,-80.737927],\"marker\":{\"color\":\"#FECB52\"},\"mode\":\"markers\",\"name\":\"Rear end, turn\",\"showlegend\":true,\"subplot\":\"mapbox\",\"type\":\"scattermapbox\"},{\"hovertemplate\":\"CRASH_TYPE=Parked motor vehicle<br>LATITUDE=%{lat}<br>LONGITUDE=%{lon}<extra></extra>\",\"lat\":[35.226936,35.210975,35.21098],\"legendgroup\":\"Parked motor vehicle\",\"lon\":[-80.836209,-80.686415,-80.686405],\"marker\":{\"color\":\"#636efa\"},\"mode\":\"markers\",\"name\":\"Parked motor vehicle\",\"showlegend\":true,\"subplot\":\"mapbox\",\"type\":\"scattermapbox\"},{\"hovertemplate\":\"CRASH_TYPE=Right turn, same roadway<br>LATITUDE=%{lat}<br>LONGITUDE=%{lon}<extra></extra>\",\"lat\":[35.279802,35.256981],\"legendgroup\":\"Right turn, same roadway\",\"lon\":[-80.7662,-80.836182],\"marker\":{\"color\":\"#EF553B\"},\"mode\":\"markers\",\"name\":\"Right turn, same roadway\",\"showlegend\":true,\"subplot\":\"mapbox\",\"type\":\"scattermapbox\"},{\"hovertemplate\":\"CRASH_TYPE=Sideswipe, opposite direction<br>LATITUDE=%{lat}<br>LONGITUDE=%{lon}<extra></extra>\",\"lat\":[35.231791],\"legendgroup\":\"Sideswipe, opposite direction\",\"lon\":[-80.870683],\"marker\":{\"color\":\"#00cc96\"},\"mode\":\"markers\",\"name\":\"Sideswipe, opposite direction\",\"showlegend\":true,\"subplot\":\"mapbox\",\"type\":\"scattermapbox\"},{\"hovertemplate\":\"CRASH_TYPE=RR train, engine<br>LATITUDE=%{lat}<br>LONGITUDE=%{lon}<extra></extra>\",\"lat\":[35.125051],\"legendgroup\":\"RR train, engine\",\"lon\":[-80.879003],\"marker\":{\"color\":\"#ab63fa\"},\"mode\":\"markers\",\"name\":\"RR train, engine\",\"showlegend\":true,\"subplot\":\"mapbox\",\"type\":\"scattermapbox\"}],                        {\"template\":{\"data\":{\"bar\":[{\"error_x\":{\"color\":\"#2a3f5f\"},\"error_y\":{\"color\":\"#2a3f5f\"},\"marker\":{\"line\":{\"color\":\"#E5ECF6\",\"width\":0.5},\"pattern\":{\"fillmode\":\"overlay\",\"size\":10,\"solidity\":0.2}},\"type\":\"bar\"}],\"barpolar\":[{\"marker\":{\"line\":{\"color\":\"#E5ECF6\",\"width\":0.5},\"pattern\":{\"fillmode\":\"overlay\",\"size\":10,\"solidity\":0.2}},\"type\":\"barpolar\"}],\"carpet\":[{\"aaxis\":{\"endlinecolor\":\"#2a3f5f\",\"gridcolor\":\"white\",\"linecolor\":\"white\",\"minorgridcolor\":\"white\",\"startlinecolor\":\"#2a3f5f\"},\"baxis\":{\"endlinecolor\":\"#2a3f5f\",\"gridcolor\":\"white\",\"linecolor\":\"white\",\"minorgridcolor\":\"white\",\"startlinecolor\":\"#2a3f5f\"},\"type\":\"carpet\"}],\"choropleth\":[{\"colorbar\":{\"outlinewidth\":0,\"ticks\":\"\"},\"type\":\"choropleth\"}],\"contour\":[{\"colorbar\":{\"outlinewidth\":0,\"ticks\":\"\"},\"colorscale\":[[0.0,\"#0d0887\"],[0.1111111111111111,\"#46039f\"],[0.2222222222222222,\"#7201a8\"],[0.3333333333333333,\"#9c179e\"],[0.4444444444444444,\"#bd3786\"],[0.5555555555555556,\"#d8576b\"],[0.6666666666666666,\"#ed7953\"],[0.7777777777777778,\"#fb9f3a\"],[0.8888888888888888,\"#fdca26\"],[1.0,\"#f0f921\"]],\"type\":\"contour\"}],\"contourcarpet\":[{\"colorbar\":{\"outlinewidth\":0,\"ticks\":\"\"},\"type\":\"contourcarpet\"}],\"heatmap\":[{\"colorbar\":{\"outlinewidth\":0,\"ticks\":\"\"},\"colorscale\":[[0.0,\"#0d0887\"],[0.1111111111111111,\"#46039f\"],[0.2222222222222222,\"#7201a8\"],[0.3333333333333333,\"#9c179e\"],[0.4444444444444444,\"#bd3786\"],[0.5555555555555556,\"#d8576b\"],[0.6666666666666666,\"#ed7953\"],[0.7777777777777778,\"#fb9f3a\"],[0.8888888888888888,\"#fdca26\"],[1.0,\"#f0f921\"]],\"type\":\"heatmap\"}],\"heatmapgl\":[{\"colorbar\":{\"outlinewidth\":0,\"ticks\":\"\"},\"colorscale\":[[0.0,\"#0d0887\"],[0.1111111111111111,\"#46039f\"],[0.2222222222222222,\"#7201a8\"],[0.3333333333333333,\"#9c179e\"],[0.4444444444444444,\"#bd3786\"],[0.5555555555555556,\"#d8576b\"],[0.6666666666666666,\"#ed7953\"],[0.7777777777777778,\"#fb9f3a\"],[0.8888888888888888,\"#fdca26\"],[1.0,\"#f0f921\"]],\"type\":\"heatmapgl\"}],\"histogram\":[{\"marker\":{\"pattern\":{\"fillmode\":\"overlay\",\"size\":10,\"solidity\":0.2}},\"type\":\"histogram\"}],\"histogram2d\":[{\"colorbar\":{\"outlinewidth\":0,\"ticks\":\"\"},\"colorscale\":[[0.0,\"#0d0887\"],[0.1111111111111111,\"#46039f\"],[0.2222222222222222,\"#7201a8\"],[0.3333333333333333,\"#9c179e\"],[0.4444444444444444,\"#bd3786\"],[0.5555555555555556,\"#d8576b\"],[0.6666666666666666,\"#ed7953\"],[0.7777777777777778,\"#fb9f3a\"],[0.8888888888888888,\"#fdca26\"],[1.0,\"#f0f921\"]],\"type\":\"histogram2d\"}],\"histogram2dcontour\":[{\"colorbar\":{\"outlinewidth\":0,\"ticks\":\"\"},\"colorscale\":[[0.0,\"#0d0887\"],[0.1111111111111111,\"#46039f\"],[0.2222222222222222,\"#7201a8\"],[0.3333333333333333,\"#9c179e\"],[0.4444444444444444,\"#bd3786\"],[0.5555555555555556,\"#d8576b\"],[0.6666666666666666,\"#ed7953\"],[0.7777777777777778,\"#fb9f3a\"],[0.8888888888888888,\"#fdca26\"],[1.0,\"#f0f921\"]],\"type\":\"histogram2dcontour\"}],\"mesh3d\":[{\"colorbar\":{\"outlinewidth\":0,\"ticks\":\"\"},\"type\":\"mesh3d\"}],\"parcoords\":[{\"line\":{\"colorbar\":{\"outlinewidth\":0,\"ticks\":\"\"}},\"type\":\"parcoords\"}],\"pie\":[{\"automargin\":true,\"type\":\"pie\"}],\"scatter\":[{\"marker\":{\"colorbar\":{\"outlinewidth\":0,\"ticks\":\"\"}},\"type\":\"scatter\"}],\"scatter3d\":[{\"line\":{\"colorbar\":{\"outlinewidth\":0,\"ticks\":\"\"}},\"marker\":{\"colorbar\":{\"outlinewidth\":0,\"ticks\":\"\"}},\"type\":\"scatter3d\"}],\"scattercarpet\":[{\"marker\":{\"colorbar\":{\"outlinewidth\":0,\"ticks\":\"\"}},\"type\":\"scattercarpet\"}],\"scattergeo\":[{\"marker\":{\"colorbar\":{\"outlinewidth\":0,\"ticks\":\"\"}},\"type\":\"scattergeo\"}],\"scattergl\":[{\"marker\":{\"colorbar\":{\"outlinewidth\":0,\"ticks\":\"\"}},\"type\":\"scattergl\"}],\"scattermapbox\":[{\"marker\":{\"colorbar\":{\"outlinewidth\":0,\"ticks\":\"\"}},\"type\":\"scattermapbox\"}],\"scatterpolar\":[{\"marker\":{\"colorbar\":{\"outlinewidth\":0,\"ticks\":\"\"}},\"type\":\"scatterpolar\"}],\"scatterpolargl\":[{\"marker\":{\"colorbar\":{\"outlinewidth\":0,\"ticks\":\"\"}},\"type\":\"scatterpolargl\"}],\"scatterternary\":[{\"marker\":{\"colorbar\":{\"outlinewidth\":0,\"ticks\":\"\"}},\"type\":\"scatterternary\"}],\"surface\":[{\"colorbar\":{\"outlinewidth\":0,\"ticks\":\"\"},\"colorscale\":[[0.0,\"#0d0887\"],[0.1111111111111111,\"#46039f\"],[0.2222222222222222,\"#7201a8\"],[0.3333333333333333,\"#9c179e\"],[0.4444444444444444,\"#bd3786\"],[0.5555555555555556,\"#d8576b\"],[0.6666666666666666,\"#ed7953\"],[0.7777777777777778,\"#fb9f3a\"],[0.8888888888888888,\"#fdca26\"],[1.0,\"#f0f921\"]],\"type\":\"surface\"}],\"table\":[{\"cells\":{\"fill\":{\"color\":\"#EBF0F8\"},\"line\":{\"color\":\"white\"}},\"header\":{\"fill\":{\"color\":\"#C8D4E3\"},\"line\":{\"color\":\"white\"}},\"type\":\"table\"}]},\"layout\":{\"annotationdefaults\":{\"arrowcolor\":\"#2a3f5f\",\"arrowhead\":0,\"arrowwidth\":1},\"autotypenumbers\":\"strict\",\"coloraxis\":{\"colorbar\":{\"outlinewidth\":0,\"ticks\":\"\"}},\"colorscale\":{\"diverging\":[[0,\"#8e0152\"],[0.1,\"#c51b7d\"],[0.2,\"#de77ae\"],[0.3,\"#f1b6da\"],[0.4,\"#fde0ef\"],[0.5,\"#f7f7f7\"],[0.6,\"#e6f5d0\"],[0.7,\"#b8e186\"],[0.8,\"#7fbc41\"],[0.9,\"#4d9221\"],[1,\"#276419\"]],\"sequential\":[[0.0,\"#0d0887\"],[0.1111111111111111,\"#46039f\"],[0.2222222222222222,\"#7201a8\"],[0.3333333333333333,\"#9c179e\"],[0.4444444444444444,\"#bd3786\"],[0.5555555555555556,\"#d8576b\"],[0.6666666666666666,\"#ed7953\"],[0.7777777777777778,\"#fb9f3a\"],[0.8888888888888888,\"#fdca26\"],[1.0,\"#f0f921\"]],\"sequentialminus\":[[0.0,\"#0d0887\"],[0.1111111111111111,\"#46039f\"],[0.2222222222222222,\"#7201a8\"],[0.3333333333333333,\"#9c179e\"],[0.4444444444444444,\"#bd3786\"],[0.5555555555555556,\"#d8576b\"],[0.6666666666666666,\"#ed7953\"],[0.7777777777777778,\"#fb9f3a\"],[0.8888888888888888,\"#fdca26\"],[1.0,\"#f0f921\"]]},\"colorway\":[\"#636efa\",\"#EF553B\",\"#00cc96\",\"#ab63fa\",\"#FFA15A\",\"#19d3f3\",\"#FF6692\",\"#B6E880\",\"#FF97FF\",\"#FECB52\"],\"font\":{\"color\":\"#2a3f5f\"},\"geo\":{\"bgcolor\":\"white\",\"lakecolor\":\"white\",\"landcolor\":\"#E5ECF6\",\"showlakes\":true,\"showland\":true,\"subunitcolor\":\"white\"},\"hoverlabel\":{\"align\":\"left\"},\"hovermode\":\"closest\",\"mapbox\":{\"style\":\"light\"},\"paper_bgcolor\":\"white\",\"plot_bgcolor\":\"#E5ECF6\",\"polar\":{\"angularaxis\":{\"gridcolor\":\"white\",\"linecolor\":\"white\",\"ticks\":\"\"},\"bgcolor\":\"#E5ECF6\",\"radialaxis\":{\"gridcolor\":\"white\",\"linecolor\":\"white\",\"ticks\":\"\"}},\"scene\":{\"xaxis\":{\"backgroundcolor\":\"#E5ECF6\",\"gridcolor\":\"white\",\"gridwidth\":2,\"linecolor\":\"white\",\"showbackground\":true,\"ticks\":\"\",\"zerolinecolor\":\"white\"},\"yaxis\":{\"backgroundcolor\":\"#E5ECF6\",\"gridcolor\":\"white\",\"gridwidth\":2,\"linecolor\":\"white\",\"showbackground\":true,\"ticks\":\"\",\"zerolinecolor\":\"white\"},\"zaxis\":{\"backgroundcolor\":\"#E5ECF6\",\"gridcolor\":\"white\",\"gridwidth\":2,\"linecolor\":\"white\",\"showbackground\":true,\"ticks\":\"\",\"zerolinecolor\":\"white\"}},\"shapedefaults\":{\"line\":{\"color\":\"#2a3f5f\"}},\"ternary\":{\"aaxis\":{\"gridcolor\":\"white\",\"linecolor\":\"white\",\"ticks\":\"\"},\"baxis\":{\"gridcolor\":\"white\",\"linecolor\":\"white\",\"ticks\":\"\"},\"bgcolor\":\"#E5ECF6\",\"caxis\":{\"gridcolor\":\"white\",\"linecolor\":\"white\",\"ticks\":\"\"}},\"title\":{\"x\":0.05},\"xaxis\":{\"automargin\":true,\"gridcolor\":\"white\",\"linecolor\":\"white\",\"ticks\":\"\",\"title\":{\"standoff\":15},\"zerolinecolor\":\"white\",\"zerolinewidth\":2},\"yaxis\":{\"automargin\":true,\"gridcolor\":\"white\",\"linecolor\":\"white\",\"ticks\":\"\",\"title\":{\"standoff\":15},\"zerolinecolor\":\"white\",\"zerolinewidth\":2}}},\"mapbox\":{\"domain\":{\"x\":[0.0,1.0],\"y\":[0.0,1.0]},\"center\":{\"lat\":35.22243819099381,\"lon\":-80.83225145993788},\"accesstoken\":\"pk.eyJ1IjoiZWxheWVyIiwiYSI6ImNsM3RpYmlqczIyYnUzZGw4NTJhZGkwaWIifQ.qHTFFM_76ATKuVmNMfs8Kg\",\"zoom\":10},\"legend\":{\"title\":{\"text\":\"CRASH_TYPE\"},\"tracegroupgap\":0},\"margin\":{\"t\":60}},                        {\"responsive\": true}                    ).then(function(){\n",
       "                            \n",
       "var gd = document.getElementById('bfb6ed6b-58b0-4b63-8b9b-25debcd450bf');\n",
       "var x = new MutationObserver(function (mutations, observer) {{\n",
       "        var display = window.getComputedStyle(gd).display;\n",
       "        if (!display || display === 'none') {{\n",
       "            console.log([gd, 'removed!']);\n",
       "            Plotly.purge(gd);\n",
       "            observer.disconnect();\n",
       "        }}\n",
       "}});\n",
       "\n",
       "// Listen for the removal of the full notebook cells\n",
       "var notebookContainer = gd.closest('#notebook-container');\n",
       "if (notebookContainer) {{\n",
       "    x.observe(notebookContainer, {childList: true});\n",
       "}}\n",
       "\n",
       "// Listen for the clearing of the current output cell\n",
       "var outputEl = gd.closest('.output');\n",
       "if (outputEl) {{\n",
       "    x.observe(outputEl, {childList: true});\n",
       "}}\n",
       "\n",
       "                        })                };                });            </script>        </div>"
      ]
     },
     "metadata": {},
     "output_type": "display_data"
    }
   ],
   "source": [
    "fil_clt_df = clt_df[clt_df['DATE'].between('2016-01-01', '2018-01-01')]\n",
    "\n",
    "\n",
    "df = px.data.carshare()\n",
    "fig = px.scatter_mapbox(fil_clt_df, lat=\"LATITUDE\", lon=\"LONGITUDE\", color=\"CRASH_TYPE\",  \n",
    "                  color_continuous_scale=px.colors.cyclical.IceFire, size_max=15, zoom=10)\n",
    "fig.show()"
   ]
  },
  {
   "cell_type": "markdown",
   "metadata": {},
   "source": [
    "Now we can filter down the dataframe by date. Within the StreamLit app, we can also multiselect the Crash Type if we wish.\n",
    "\n",
    "I will save the dataframe used here with the formatted date column for easier processing later on."
   ]
  },
  {
   "cell_type": "code",
   "execution_count": 79,
   "metadata": {},
   "outputs": [],
   "source": [
    "clt_df.to_csv(\"updated_crash_incidents.csv\")"
   ]
  }
 ],
 "metadata": {
  "kernelspec": {
   "display_name": "Python 3",
   "language": "python",
   "name": "python3"
  },
  "language_info": {
   "codemirror_mode": {
    "name": "ipython",
    "version": 3
   },
   "file_extension": ".py",
   "mimetype": "text/x-python",
   "name": "python",
   "nbconvert_exporter": "python",
   "pygments_lexer": "ipython3",
   "version": "3.8.5"
  }
 },
 "nbformat": 4,
 "nbformat_minor": 4
}
